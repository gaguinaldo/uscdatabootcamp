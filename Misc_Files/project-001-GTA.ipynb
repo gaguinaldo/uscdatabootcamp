{
 "cells": [
  {
   "cell_type": "code",
   "execution_count": null,
   "metadata": {
    "collapsed": true
   },
   "outputs": [],
   "source": [
    "#Standard imports \n",
    "\n",
    "import pandas as pd\n",
    "import seaborn as sns\n",
    "import matplotlib.pyplot as plt\n",
    "import numpy as np\n",
    "import json\n",
    "import requests as r\n",
    "import squarify\n",
    "from scipy.stats import ttest_ind_from_stats\n",
    "%matplotlib inline"
   ]
  },
  {
   "cell_type": "code",
   "execution_count": null,
   "metadata": {
    "collapsed": true
   },
   "outputs": [],
   "source": [
    "#Reference file path\n",
    "\n",
    "# Download file from:  https://enveraconsulting.box.com/s/c3t6elxu7ngj3ywfs6to2a75arfsbgkv\n",
    "\n",
    "file = '/Users/gta/Desktop/globalterrorismdb_0617dist.csv'\n",
    "presidents = 'http://bit.ly/001-presidents'\n",
    "gdp_filepath = 'http://bit.ly/001-gdp'\n",
    "country_codes = 'http://bit.ly/001-codes'"
   ]
  },
  {
   "cell_type": "code",
   "execution_count": null,
   "metadata": {
    "collapsed": true
   },
   "outputs": [],
   "source": [
    "#Read CSV into dataframe.  Forced encoding to 'cp1252 due to error.\n",
    "\n",
    "df = pd.read_csv(file, encoding='cp1252', low_memory=False, skipinitialspace=True)\n",
    "df_presidents = pd.read_csv(presidents, skipinitialspace=True)\n",
    "df_gdp = pd.read_csv(gdp_filepath, skipinitialspace=True)\n",
    "df_codes = pd.read_csv(country_codes, skipinitialspace=True)"
   ]
  },
  {
   "cell_type": "code",
   "execution_count": null,
   "metadata": {},
   "outputs": [],
   "source": [
    "df.shape"
   ]
  },
  {
   "cell_type": "code",
   "execution_count": null,
   "metadata": {
    "collapsed": true
   },
   "outputs": [],
   "source": [
    "#Select a portion of the columns and send them to a new dataframe\n",
    "\n",
    "df = df[['iyear',\n",
    " 'imonth',\n",
    " 'iday',\n",
    " 'country_txt',\n",
    " 'region_txt',\n",
    " 'city',\n",
    " 'latitude',\n",
    " 'longitude',\n",
    " 'location',\n",
    " 'success',\n",
    " 'suicide',\n",
    " 'attacktype1_txt',\n",
    " 'targtype1_txt',\n",
    " 'natlty1_txt',\n",
    " 'gname',\n",
    " 'weaptype1_txt',\n",
    " 'nkill',\n",
    " 'nwound']]"
   ]
  },
  {
   "cell_type": "code",
   "execution_count": null,
   "metadata": {},
   "outputs": [],
   "source": [
    "#Generate dictionary needed to rename columns\n",
    "\n",
    "col_name = {'iyear': 'year',\n",
    " 'imonth': 'month',\n",
    " 'iday': 'day',\n",
    " 'country_txt': 'country',\n",
    " 'region_txt': 'region',\n",
    " 'city': 'city',\n",
    " 'latitude': 'latitude',\n",
    " 'longitude': 'longitude',\n",
    " 'location': 'location',\n",
    " 'success': 'success',\n",
    " 'suicide': 'sucide',\n",
    " 'attacktype1_txt': 'type_of_attack',\n",
    " 'targtype1_txt': 'type_of_target',\n",
    " 'natlty1_txt': 'nationality',\n",
    " 'gname': 'group_name',\n",
    " 'weaptype1_txt': 'type_of_weapon',\n",
    " 'nkill': 'num_killed',\n",
    " 'nwound': 'num_wounded'}\n",
    "\n",
    "#Rename columns based on dict and display head\n",
    "\n",
    "df = df.rename(columns=col_name)\n",
    "df.columns.tolist()"
   ]
  },
  {
   "cell_type": "code",
   "execution_count": null,
   "metadata": {
    "collapsed": true
   },
   "outputs": [],
   "source": [
    "df['num_killed'].fillna(value = 0, inplace=True)\n",
    "df['num_wounded'].fillna(value = 0, inplace=True)"
   ]
  },
  {
   "cell_type": "code",
   "execution_count": null,
   "metadata": {
    "collapsed": true
   },
   "outputs": [],
   "source": [
    "df['num_killed_wounded'] = df['num_killed'] + df['num_wounded']"
   ]
  },
  {
   "cell_type": "code",
   "execution_count": null,
   "metadata": {},
   "outputs": [],
   "source": [
    "df_presidents.columns.tolist()"
   ]
  },
  {
   "cell_type": "code",
   "execution_count": null,
   "metadata": {},
   "outputs": [],
   "source": [
    "col_name = {'country_code': 'country'}\n",
    "df_gdp = df_gdp.rename(columns=col_name)\n",
    "df_gdp.columns.tolist()"
   ]
  },
  {
   "cell_type": "code",
   "execution_count": null,
   "metadata": {},
   "outputs": [],
   "source": [
    "col_name = {'Name': 'country', 'Code': 'code'}\n",
    "df_codes = df_codes.rename(columns=col_name)\n",
    "df_codes.columns.tolist()"
   ]
  },
  {
   "cell_type": "code",
   "execution_count": null,
   "metadata": {
    "collapsed": true
   },
   "outputs": [],
   "source": [
    "df_president_main = pd.merge(df, df_presidents, on='year', how='inner')"
   ]
  },
  {
   "cell_type": "code",
   "execution_count": null,
   "metadata": {
    "collapsed": true
   },
   "outputs": [],
   "source": [
    "df_president_main_codes = pd.merge(df_president_main, df_codes, on='country', how='inner')"
   ]
  },
  {
   "cell_type": "code",
   "execution_count": null,
   "metadata": {
    "collapsed": true
   },
   "outputs": [],
   "source": [
    "df_president_main_codes['helper'] = df_president_main_codes['code'] + df_president_main_codes['year'].map(str)"
   ]
  },
  {
   "cell_type": "code",
   "execution_count": null,
   "metadata": {
    "collapsed": true
   },
   "outputs": [],
   "source": [
    "df_gdp['helper'] = df_gdp['country'] + df_gdp['gdp_year'].map(str)  "
   ]
  },
  {
   "cell_type": "code",
   "execution_count": null,
   "metadata": {},
   "outputs": [],
   "source": [
    "df_gdp.columns.tolist()"
   ]
  },
  {
   "cell_type": "code",
   "execution_count": null,
   "metadata": {
    "collapsed": true
   },
   "outputs": [],
   "source": [
    "df_gdp = df_gdp.drop(['country'], axis = 1)"
   ]
  },
  {
   "cell_type": "code",
   "execution_count": null,
   "metadata": {},
   "outputs": [],
   "source": [
    "df_gdp.columns.tolist()"
   ]
  },
  {
   "cell_type": "code",
   "execution_count": null,
   "metadata": {
    "collapsed": true
   },
   "outputs": [],
   "source": [
    "df_combined = pd.merge(df_president_main_codes, df_gdp, on='helper', how='inner')"
   ]
  },
  {
   "cell_type": "code",
   "execution_count": null,
   "metadata": {
    "collapsed": true
   },
   "outputs": [],
   "source": [
    "df_combined = df_combined.drop(['gdp_year'], axis = 1)"
   ]
  },
  {
   "cell_type": "code",
   "execution_count": null,
   "metadata": {
    "collapsed": true
   },
   "outputs": [],
   "source": [
    "df_combined['party'] = df_combined['party'].str.strip()"
   ]
  },
  {
   "cell_type": "code",
   "execution_count": null,
   "metadata": {},
   "outputs": [],
   "source": [
    "df_combined.shape"
   ]
  },
  {
   "cell_type": "code",
   "execution_count": null,
   "metadata": {},
   "outputs": [],
   "source": [
    "df_combined.head()"
   ]
  },
  {
   "cell_type": "code",
   "execution_count": null,
   "metadata": {
    "collapsed": true
   },
   "outputs": [],
   "source": [
    "new_df = df_combined[['region', 'year', 'success']].groupby(['region', 'year'], as_index=False).sum()\n",
    "region_list = set(new_df.region.values.tolist())"
   ]
  },
  {
   "cell_type": "code",
   "execution_count": null,
   "metadata": {},
   "outputs": [],
   "source": [
    "fig, ax = plt.subplots(figsize = (15, 7))\n",
    "for region in region_list:\n",
    "    new_df[new_df['region'] == region].plot(x='year', y='success', ax=ax, label=region)\n",
    "plt.show()"
   ]
  },
  {
   "cell_type": "code",
   "execution_count": null,
   "metadata": {},
   "outputs": [],
   "source": [
    "df_party_ct_gb = df_combined[['party', 'success', 'num_killed_wounded']].groupby('party', as_index = False).count()\n",
    "df_party_ct_gb.iloc[0]"
   ]
  },
  {
   "cell_type": "code",
   "execution_count": null,
   "metadata": {},
   "outputs": [],
   "source": [
    "df_party_sum_gb = df_combined[['party', 'success', 'num_killed_wounded']].groupby('party', as_index = False).sum()\n",
    "df_party_sum_gb"
   ]
  },
  {
   "cell_type": "code",
   "execution_count": null,
   "metadata": {
    "collapsed": true
   },
   "outputs": [],
   "source": [
    "dem_kw = df_party_sum_gb.iloc[0]['num_killed_wounded'] / df_party_ct_gb.iloc[0]['num_killed_wounded']\n",
    "dem_succcess = df_party_sum_gb.iloc[0]['success'] / df_party_ct_gb.iloc[0]['success']\n",
    "rep_kw = df_party_sum_gb.iloc[1]['num_killed_wounded'] / df_party_ct_gb.iloc[1]['num_killed_wounded']\n",
    "rep_success = df_party_sum_gb.iloc[1]['success'] / df_party_ct_gb.iloc[1]['success']"
   ]
  },
  {
   "cell_type": "code",
   "execution_count": null,
   "metadata": {},
   "outputs": [],
   "source": [
    "print('Democratic Killed or Wounded', dem_kw)\n",
    "print('Republican Killed or Wounded', rep_kw)\n",
    "print('----')\n",
    "print('Democratic Sucessful Attacks', dem_succcess)\n",
    "print('Republican Sucessful Attacks', rep_success)"
   ]
  },
  {
   "cell_type": "code",
   "execution_count": null,
   "metadata": {
    "collapsed": true
   },
   "outputs": [],
   "source": [
    "x = np.arange(4)\n",
    "money = [1.5e5, 2.5e6, 5.5e6, 2.0e7]"
   ]
  },
  {
   "cell_type": "code",
   "execution_count": null,
   "metadata": {},
   "outputs": [],
   "source": [
    "plt.figure(figsize = (9, 5))\n",
    "x = np.arange(2)\n",
    "kw_values = [dem_kw, rep_kw]\n",
    "plt.bar(x, kw_values)\n",
    "plt.xticks(x, ('Dem', 'Rep'))\n",
    "plt.xlabel('Party', fontsize = 14)\n",
    "plt.ylabel('Number Killed \\nor\\n Wounded \\n (normalized per event)', fontsize = 14)\n",
    "plt.title('Number of People Killed or Wounded As a Function of US President', fontsize = 14)\n",
    "for a, b in zip(x, kw_values):\n",
    "    plt.text(a, b, str(b))\n",
    "plt.show()"
   ]
  },
  {
   "cell_type": "code",
   "execution_count": null,
   "metadata": {
    "collapsed": true
   },
   "outputs": [],
   "source": [
    "dem_success = df_combined[df_combined['party'] == 'Democratic']['success'].tolist()\n",
    "rep_success = df_combined[df_combined['party'] == 'Republician']['success'].tolist()"
   ]
  },
  {
   "cell_type": "code",
   "execution_count": null,
   "metadata": {},
   "outputs": [],
   "source": [
    "dem_success = df_combined[df_combined['party'] == 'Democratic']\n",
    "dem_success.describe()['success']"
   ]
  },
  {
   "cell_type": "code",
   "execution_count": null,
   "metadata": {},
   "outputs": [],
   "source": [
    "rep_success = df_combined[df_combined['party'] == 'Republican']\n",
    "rep_success.describe()['success']"
   ]
  },
  {
   "cell_type": "code",
   "execution_count": null,
   "metadata": {
    "collapsed": true
   },
   "outputs": [],
   "source": [
    "mean1 = rep_success.describe()['success']['mean']\n",
    "std1 = rep_success.describe()['success']['std']\n",
    "n1 = rep_success.describe()['success']['count']\n",
    "mean2 = dem_success.describe()['success']['mean']\n",
    "std2 = dem_success.describe()['success']['std']\n",
    "n2 = dem_success.describe()['success']['count']"
   ]
  },
  {
   "cell_type": "code",
   "execution_count": null,
   "metadata": {},
   "outputs": [],
   "source": [
    "tstat, pvalue = ttest_ind_from_stats(mean1, std1, n1, mean2, std2, n2)\n",
    "pvalue"
   ]
  },
  {
   "cell_type": "code",
   "execution_count": null,
   "metadata": {},
   "outputs": [],
   "source": [
    "tstat"
   ]
  },
  {
   "cell_type": "code",
   "execution_count": null,
   "metadata": {
    "collapsed": true
   },
   "outputs": [],
   "source": [
    "df_combined_gb = df_combined[['success', 'type_of_weapon','region']].groupby(['region', 'type_of_weapon'], as_index = True).sum()"
   ]
  },
  {
   "cell_type": "code",
   "execution_count": null,
   "metadata": {},
   "outputs": [],
   "source": [
    "labels = df_combined_gb.loc['Australasia & Oceania'].index.values.tolist()\n",
    "values = df_combined_gb.loc['Australasia & Oceania']['success'].tolist()\n",
    "plt.pie(values, labels = None)\n",
    "plt.legend(loc='center left', bbox_to_anchor=(1.0, 0.5), labels = labels)\n",
    "plt.title('Mode of Attack for Australasia & Oceania')\n",
    "plt.axis('equal')\n",
    "plt.show()"
   ]
  },
  {
   "cell_type": "code",
   "execution_count": null,
   "metadata": {},
   "outputs": [],
   "source": [
    "df_bomb = df_combined[df_combined['type_of_attack'] == 'Bombing/Explosion']\n",
    "df_bomb_gb = df_bomb[['year', 'success']].groupby('year', as_index = False).sum()\n",
    "x = df_bomb_gb['year']\n",
    "y = df_bomb_gb['success']\n",
    "plt.plot(x, y)\n",
    "plt.show()"
   ]
  },
  {
   "cell_type": "code",
   "execution_count": null,
   "metadata": {},
   "outputs": [],
   "source": [
    "df_combined_ct = pd.crosstab(df_combined.year, df_combined.type_of_attack)\n",
    "df_combined_ct.plot(figsize=(15,8), alpha = 1, linewidth=3)\n",
    "plt.ylabel('Number of Successful Attacks', fontsize = 14)\n",
    "plt.xlabel('Year', fontsize = 14)\n",
    "plt.title('Number of Attacks Per Year', fontsize = 14)\n",
    "plt.show()"
   ]
  },
  {
   "cell_type": "code",
   "execution_count": null,
   "metadata": {},
   "outputs": [],
   "source": [
    "#Determine the number of sucessful attacks by country\n",
    "\n",
    "df_combined_country_gb = df[['success', 'country']].groupby(['country'], as_index = False).sum()\n",
    "df_combined_country_gb.sort_values('success', ascending=False).head()"
   ]
  },
  {
   "cell_type": "code",
   "execution_count": null,
   "metadata": {},
   "outputs": [],
   "source": [
    "df_combined_country_gb.sort_values('success', ascending=False).tail()"
   ]
  },
  {
   "cell_type": "code",
   "execution_count": null,
   "metadata": {
    "collapsed": true
   },
   "outputs": [],
   "source": [
    "#Determine the total number of attacks by type.\n",
    "\n",
    "df_combined_type_gb = df_combined[['type_of_attack', 'success']].groupby(['type_of_attack'], as_index =False).count()\n",
    "df_combined_type_gb = df_combined_type_gb.sort_values(by=['success'], ascending=False)"
   ]
  },
  {
   "cell_type": "code",
   "execution_count": null,
   "metadata": {},
   "outputs": [],
   "source": [
    "plt.figure(figsize=(6, 6))\n",
    "sns.barplot(x = 'type_of_attack', y = 'success', data = df_combined_type_gb)\n",
    "plt.xticks(rotation=90)\n",
    "plt.xlabel('Type of Attack', fontsize = 14)\n",
    "plt.ylabel('Number of Attacks', fontsize = 14)\n",
    "plt.title('Number of Attacks by Type', fontsize = 14)\n",
    "plt.savefig('Figure2.png')\n",
    "plt.grid(True)\n",
    "plt.show()"
   ]
  },
  {
   "cell_type": "code",
   "execution_count": null,
   "metadata": {
    "collapsed": true
   },
   "outputs": [],
   "source": [
    "df_kidnapping = df_combined[df_combined['type_of_attack'] == 'Hostage Taking (Kidnapping)']\n",
    "df_kidnapping = df_kidnapping[['country', 'success']].groupby(['country']).count()"
   ]
  },
  {
   "cell_type": "code",
   "execution_count": null,
   "metadata": {
    "collapsed": true
   },
   "outputs": [],
   "source": [
    "df_bombing = df_combined[df_combined['type_of_attack'] == 'Bombing/Explosion']\n",
    "df_bombing = df_bombing[['type_of_attack', 'region']].groupby('region', as_index=False).count()"
   ]
  },
  {
   "cell_type": "code",
   "execution_count": null,
   "metadata": {
    "collapsed": true
   },
   "outputs": [],
   "source": [
    "labels = df_bombing['region'].tolist()\n",
    "sizes = df_bombing['type_of_attack'].tolist()"
   ]
  },
  {
   "cell_type": "code",
   "execution_count": null,
   "metadata": {},
   "outputs": [],
   "source": [
    "squarify.plot(sizes=sizes, label=labels, alpha=.4 )\n",
    "plt.axis('off')\n",
    "plt.title('Type of Attack By Region (Bombing/Explosions)')\n",
    "plt.show()"
   ]
  },
  {
   "cell_type": "code",
   "execution_count": null,
   "metadata": {},
   "outputs": [],
   "source": [
    "len(df_bombing['region'].tolist())"
   ]
  },
  {
   "cell_type": "code",
   "execution_count": null,
   "metadata": {
    "collapsed": true
   },
   "outputs": [],
   "source": [
    "df_kidnapping = df_combined[df_combined['type_of_attack'] == 'Hostage Taking (Kidnapping)']\n",
    "df_kidnapping = df_kidnapping[['country', 'success']].groupby(['country'], as_index=False).count()"
   ]
  },
  {
   "cell_type": "code",
   "execution_count": null,
   "metadata": {},
   "outputs": [],
   "source": [
    "df_kidnapping = df_kidnapping.sort_values('success', ascending=False).head(10)\n",
    "df_kidnapping"
   ]
  },
  {
   "cell_type": "code",
   "execution_count": null,
   "metadata": {},
   "outputs": [],
   "source": [
    "df_target_gb = df_combined[['type_of_target', 'success']].groupby(['type_of_target'], as_index =False).count()\n",
    "df_target_gb.sort_values(by=['success'], ascending=False).head(10)"
   ]
  },
  {
   "cell_type": "code",
   "execution_count": null,
   "metadata": {
    "collapsed": true
   },
   "outputs": [],
   "source": [
    "#Calculate the total number of attacks by year\n",
    "\n",
    "df_year_gb = df_combined[['year', 'success']].groupby(['year'], as_index = False).sum()\n",
    "df_year_10 = df_year_gb.sort_values(by=['success'], ascending = False).head(10)"
   ]
  },
  {
   "cell_type": "code",
   "execution_count": null,
   "metadata": {},
   "outputs": [],
   "source": [
    "plt.figure(figsize=(6, 6))\n",
    "sns.set_style('whitegrid')\n",
    "ax = sns.barplot(x='year', y='success', data = df_year_10)\n",
    "plt.grid(True)\n",
    "plt.xlabel('Year', fontsize = 14)\n",
    "plt.ylabel('Total Number of Attacks', fontsize = 14)\n",
    "plt.title('Years With Most Terror Attacks', fontsize = 14)\n",
    "plt.show()"
   ]
  },
  {
   "cell_type": "code",
   "execution_count": null,
   "metadata": {},
   "outputs": [],
   "source": [
    "#Calculate the total number of attacks by month\n",
    "\n",
    "df_month_gb = df_combined[['month', 'success']].groupby(['month'], as_index = False).sum()\n",
    "df_month_gb = df_month_gb.sort_values(by=['success'], ascending = False)\n",
    "df_month_gb "
   ]
  },
  {
   "cell_type": "code",
   "execution_count": null,
   "metadata": {},
   "outputs": [],
   "source": [
    "#Calculate the total number of attacks by region\n",
    "\n",
    "df_country_gb = df_combined[['region', 'success']].groupby(['region'], as_index = False).sum()\n",
    "df_country_gb.sort_values(by=['success'], ascending = False).head()"
   ]
  },
  {
   "cell_type": "code",
   "execution_count": null,
   "metadata": {},
   "outputs": [],
   "source": [
    "df_columbia = df_combined[df_combined['country'] == 'Colombia']\n",
    "df_columbia.columns.tolist()"
   ]
  },
  {
   "cell_type": "code",
   "execution_count": null,
   "metadata": {},
   "outputs": [],
   "source": [
    "df_columbia[['success', 'type_of_attack']].groupby('type_of_attack', as_index = False).count()"
   ]
  },
  {
   "cell_type": "code",
   "execution_count": null,
   "metadata": {
    "collapsed": true
   },
   "outputs": [],
   "source": [
    "df_columbia = df_columbia[['year', 'success']].groupby(['year'], as_index = False).sum()"
   ]
  },
  {
   "cell_type": "code",
   "execution_count": null,
   "metadata": {},
   "outputs": [],
   "source": [
    "plt.figure(figsize = (5, 5))\n",
    "x = df_columbia['year']\n",
    "y = df_columbia['success']\n",
    "plt.plot(x, y)\n",
    "plt.show()"
   ]
  },
  {
   "cell_type": "code",
   "execution_count": null,
   "metadata": {},
   "outputs": [],
   "source": [
    "df_columbia = df_combined[df_combined['country'] == 'Colombia']\n",
    "\n",
    "df_columbia = df_columbia[['year', 'success', 'gdp_value']].groupby(['year'],as_index=False).sum()\n",
    "df_columbia"
   ]
  },
  {
   "cell_type": "code",
   "execution_count": null,
   "metadata": {},
   "outputs": [],
   "source": [
    "x = df_columbia['year']\n",
    "y1 = df_columbia['success']\n",
    "y2 = df_columbia['gdp_value']\n",
    "fig, ax1 = plt.subplots(figsize = (8, 8))\n",
    "ax1.plot(x, y1, c='r', linewidth = 3)\n",
    "ax1.set_ylabel('Number of Sucessful Attacks \\nIn Columbia', fontsize = 14)\n",
    "ax2 = ax1.twinx()\n",
    "ax2.plot(x, y2, c='b', linewidth = 3)\n",
    "ax2.set_ylabel('GDP Values (US $)', fontsize = 14)\n",
    "ax1.set_xlabel('Year', fontsize = 14)\n",
    "plt.title('GDP Values and Number of Sucessful Attacks in Columbia', fontsize = 14)\n",
    "plt.savefig('Figure3.png')\n",
    "plt.legend()\n",
    "plt.show()"
   ]
  },
  {
   "cell_type": "code",
   "execution_count": null,
   "metadata": {},
   "outputs": [],
   "source": [
    "df_iraq = df_combined[df_combined['country'] == 'Iraq'].reset_index(drop=True)\n",
    "df_iraq.head()"
   ]
  },
  {
   "cell_type": "code",
   "execution_count": null,
   "metadata": {},
   "outputs": [],
   "source": [
    "df_iraq_year = df_iraq[['year', 'success']].groupby(['year'],as_index=False).sum()\n",
    "df_iraq_year[df_iraq_year['year'] > 2000]\n",
    "plt.figure(figsize=(10, 10))\n",
    "x = df_iraq_year['year']\n",
    "y = df_iraq_year['success']\n",
    "plt.plot(x, y, alpha = 0.5)\n",
    "plt.ylabel('Number of Successful Attacks Per Year', fontsize = 14)\n",
    "plt.xlabel('Year', fontsize = 14)\n",
    "plt.title('Number of Successful Attacks Per Year (Iraq)', fontsize = 14)\n",
    "plt.xlim(1970, 2020)\n",
    "plt.show()"
   ]
  },
  {
   "cell_type": "code",
   "execution_count": null,
   "metadata": {},
   "outputs": [],
   "source": [
    "df_iraq_city_gb = df_iraq[['city', 'success']].groupby('city', as_index=False).sum()\n",
    "df_iraq_city_gb.sort_values(by=['success'], ascending=False).head()"
   ]
  },
  {
   "cell_type": "code",
   "execution_count": null,
   "metadata": {},
   "outputs": [],
   "source": [
    "x = df_iraq['year']\n",
    "y = df_iraq['gdp_value']\n",
    "plt.plot(x, y)\n",
    "plt.show()"
   ]
  },
  {
   "cell_type": "code",
   "execution_count": null,
   "metadata": {
    "collapsed": true
   },
   "outputs": [],
   "source": [
    "df_iraq_2000_2016 = df_iraq[df_iraq['year'] > 2000].reset_index(drop=True)\n",
    "x = df_iraq_2000_2016['year']\n",
    "y = df_iraq_2000_2016['gdp_value']"
   ]
  },
  {
   "cell_type": "code",
   "execution_count": null,
   "metadata": {
    "collapsed": true
   },
   "outputs": [],
   "source": [
    "df_iraq_year = df_iraq[['year', 'success', 'gdp_value']].groupby(['year'],as_index=False).sum()\n",
    "df_iraq_year_2000_2016 = df_iraq_year[df_iraq_year['year'] > 2000].reset_index(drop=True)\n",
    "df_iraq_year_2000_2016 = df_iraq_year_2000_2016.fillna(0)"
   ]
  },
  {
   "cell_type": "code",
   "execution_count": null,
   "metadata": {},
   "outputs": [],
   "source": [
    "df_iraq_year_2000_2016"
   ]
  },
  {
   "cell_type": "code",
   "execution_count": null,
   "metadata": {},
   "outputs": [],
   "source": [
    "x = df_iraq_year_2000_2016['year']\n",
    "y1 = df_iraq_year_2000_2016['success']\n",
    "y2 = df_iraq_year_2000_2016['gdp_value']\n",
    "\n",
    "fig, ax1 = plt.subplots(figsize = (8, 8))\n",
    "ax1.plot(x, y1, c='r', linewidth = 3)\n",
    "ax1.set_ylabel('Number of Sucessful Attacks In Iraq', fontsize = 14)\n",
    "ax2 = ax1.twinx()\n",
    "ax2.plot(x, y2, c='b', linewidth = 3)\n",
    "ax2.set_ylabel('GDP Values', fontsize = 14)\n",
    "ax1.set_xlabel('Year', fontsize = 14)\n",
    "plt.title('GDP Values and Number of Sucessful Attacks in Iraq', fontsize = 14)\n",
    "plt.legend()\n",
    "plt.show()"
   ]
  },
  {
   "cell_type": "code",
   "execution_count": null,
   "metadata": {},
   "outputs": [],
   "source": [
    "df_iraq.corr()"
   ]
  },
  {
   "cell_type": "code",
   "execution_count": null,
   "metadata": {},
   "outputs": [],
   "source": [
    "df_iraq_attack_type = df_iraq[['type_of_attack', 'success']].groupby(['type_of_attack'], as_index=False).count()\n",
    "df_iraq_attack_type.sort_values(by=['success'], ascending=False).reset_index(drop=True)"
   ]
  },
  {
   "cell_type": "code",
   "execution_count": null,
   "metadata": {},
   "outputs": [],
   "source": [
    "df_iraq[['city', 'success', 'year']].groupby(['city', 'year'], as_index = False).sum().sort_values(by='success', ascending=False).head()"
   ]
  },
  {
   "cell_type": "code",
   "execution_count": null,
   "metadata": {},
   "outputs": [],
   "source": [
    "df_baghdad = df_iraq[df_iraq['city'] == 'Baghdad']\n",
    "df_baghdad_gb = df_baghdad[['group_name', 'success']].groupby('group_name', as_index=False).sum()\n",
    "df_baghdad_gb.sort_values(by='success', ascending=False).head()"
   ]
  },
  {
   "cell_type": "code",
   "execution_count": null,
   "metadata": {},
   "outputs": [],
   "source": [
    "df_isis = df_iraq[df_iraq['group_name'] == 'Islamic State of Iraq and the Levant (ISIL)'].reset_index()\n",
    "df_isis[['city', 'success']].groupby('city', as_index=False).sum().sort_values(by='success', ascending=False).head()"
   ]
  },
  {
   "cell_type": "code",
   "execution_count": null,
   "metadata": {},
   "outputs": [],
   "source": [
    "df_isis[['type_of_target', 'success']].groupby('type_of_target', \n",
    "                                               as_index=False).sum().sort_values(by='success', \n",
    "                                                                                 ascending=False).head()"
   ]
  },
  {
   "cell_type": "code",
   "execution_count": null,
   "metadata": {},
   "outputs": [],
   "source": [
    "plt.figure(figsize=(10, 10))\n",
    "df_usa = df_combined[df_combined['country'] == 'United States']\n",
    "df_usa_gb = df_usa[['year', 'success']].groupby('year', as_index=False).sum()\n",
    "x = df_usa_gb['year']\n",
    "y = df_usa_gb['success']\n",
    "plt.xlabel('Year', fontsize = 14)\n",
    "plt.ylabel('Number of Successful Terror Attacks', fontsize = 14)\n",
    "plt.plot(x, y)\n",
    "plt.show()"
   ]
  },
  {
   "cell_type": "code",
   "execution_count": null,
   "metadata": {},
   "outputs": [],
   "source": [
    "df_usa = df_combined[df_combined['country'] == 'United States']\n",
    "df_usa[['city', 'success']].groupby('city', as_index=False).sum().sort_values(by='success', ascending=False).head()"
   ]
  },
  {
   "cell_type": "code",
   "execution_count": null,
   "metadata": {},
   "outputs": [],
   "source": [
    "df_losangeles = df_usa[df_usa['city'] == 'Los Angeles']\n",
    "df_losangeles[['year', \n",
    "               'success']].groupby('year', \n",
    "                                           as_index=False).sum().sort_values(by='success', \n",
    "                                                                             ascending=False).head()\n",
    "cross_la = pd.crosstab(df_losangeles.year, df_losangeles.type_of_attack)\n",
    "cross_la.plot()\n",
    "plt.show()"
   ]
  },
  {
   "cell_type": "code",
   "execution_count": null,
   "metadata": {},
   "outputs": [],
   "source": [
    "df_nyc = df_usa[df_usa['city'] == 'New York City']\n",
    "df_nyc[['year', \n",
    "               'success']].groupby('year', \n",
    "                                           as_index=False).sum().sort_values(by='success', \n",
    "                                                                             ascending=False).head()\n",
    "cross_nyc = pd.crosstab(df_nyc.year, df_nyc.type_of_attack)\n",
    "cross_nyc.plot()\n",
    "plt.show()"
   ]
  },
  {
   "cell_type": "code",
   "execution_count": null,
   "metadata": {},
   "outputs": [],
   "source": [
    "#http://jonathansoma.com/lede/data-studio/classes/small-multiples/long-explanation-of-using-plt-subplots-to-create-small-multiples/\n",
    "\n",
    "plt.figure(figsize=(20, 40), facecolor = 'white')\n",
    "\n",
    "plot_num = 1\n",
    "\n",
    "for country_name, selection in df_combined.groupby('country'):\n",
    "    ax = plt.subplot(15, 11, plot_num)\n",
    "    selection.plot(x= 'year', y='success', ax=ax, label = country_name, legend = False)\n",
    "    ax.set_title(country_name)\n",
    "    plot_num += 1\n",
    "plt.tight_layout()\n",
    "plt.show()"
   ]
  }
 ],
 "metadata": {
  "kernelspec": {
   "display_name": "Python 3",
   "language": "python",
   "name": "python3"
  },
  "language_info": {
   "codemirror_mode": {
    "name": "ipython",
    "version": 3
   },
   "file_extension": ".py",
   "mimetype": "text/x-python",
   "name": "python",
   "nbconvert_exporter": "python",
   "pygments_lexer": "ipython3",
   "version": "3.6.3"
  }
 },
 "nbformat": 4,
 "nbformat_minor": 2
}

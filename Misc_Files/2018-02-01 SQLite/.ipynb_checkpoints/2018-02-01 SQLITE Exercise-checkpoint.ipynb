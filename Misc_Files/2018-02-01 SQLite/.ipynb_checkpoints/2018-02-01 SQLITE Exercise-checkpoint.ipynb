{
 "cells": [
  {
   "cell_type": "markdown",
   "metadata": {},
   "source": [
    "Chinook Database Analysis Part 1\n",
    "•    In part 1 of this activity, you will complete some exploratory analysis of the chinook database. In particular, we will study the invoices and invoice_items tables.\n",
    "Instructions\n",
    "•    Create a Jupyter Notebook for your analysis.\n",
    "•    Create a SQLAlchemy engine to the database chinook.sqlite.\n",
    "•    Use automap_base to reflect the database tables.\n",
    "•    Create references to the invoices and invoice_items tables called Invoices and Items.\n",
    "•    Create a SQLALchemy ORM session object.\n",
    "•    Design a query that lists all of the billing countries found in the invoices table.\n",
    "•    Design a query that lists the invoices totals for each billing country and sort the output in descending order.\n",
    "o    The results tuple should contain the country name and the invoice total for that country using all records in the invoices table.\n",
    "•    Design a query that lists all of the Billing Postal Codes for the USA.\n",
    "•    Calculate the Item Totals sum(UnitPrice * Quantity)) for the USA.\n",
    "o    Return the value as a scalar floating point number.\n",
    "•    Calculate the invoice items totals sum(UnitPrice * Quantity) for each Billing Postal Code for the USA."
   ]
  },
  {
   "cell_type": "code",
   "execution_count": 33,
   "metadata": {
    "collapsed": true
   },
   "outputs": [],
   "source": [
    "import sqlalchemy \n",
    "from sqlalchemy.ext.automap import automap_base\n",
    "from sqlalchemy.orm import Session\n",
    "from sqlalchemy import create_engine\n",
    "from sqlalchemy import inspect"
   ]
  },
  {
   "cell_type": "code",
   "execution_count": 3,
   "metadata": {
    "collapsed": true
   },
   "outputs": [],
   "source": [
    "engine = create_engine('sqlite:///chinook.sqlite')"
   ]
  },
  {
   "cell_type": "code",
   "execution_count": 34,
   "metadata": {
    "collapsed": true
   },
   "outputs": [],
   "source": [
    "inspector = inspect(engine)"
   ]
  },
  {
   "cell_type": "code",
   "execution_count": null,
   "metadata": {
    "collapsed": true
   },
   "outputs": [],
   "source": [
    "inspector."
   ]
  },
  {
   "cell_type": "code",
   "execution_count": 5,
   "metadata": {},
   "outputs": [
    {
     "data": {
      "text/plain": [
       "['albums',\n",
       " 'artists',\n",
       " 'customers',\n",
       " 'employees',\n",
       " 'genres',\n",
       " 'invoice_items',\n",
       " 'invoices',\n",
       " 'tracks',\n",
       " 'media_types',\n",
       " 'playlists']"
      ]
     },
     "execution_count": 5,
     "metadata": {},
     "output_type": "execute_result"
    }
   ],
   "source": [
    "Base = automap_base()\n",
    "Base.prepare(engine, reflect = True)\n",
    "Base.classes.keys()"
   ]
  },
  {
   "cell_type": "code",
   "execution_count": 14,
   "metadata": {},
   "outputs": [
    {
     "name": "stderr",
     "output_type": "stream",
     "text": [
      "/Users/gta/anaconda3/lib/python3.6/site-packages/sqlalchemy/sql/sqltypes.py:603: SAWarning: Dialect sqlite+pysqlite does *not* support Decimal objects natively, and SQLAlchemy must convert from floating point - rounding errors and other issues may occur. Please consider storing Decimal numbers as strings or integers on this platform for lossless storage.\n",
      "  'storage.' % (dialect.name, dialect.driver))\n"
     ]
    },
    {
     "data": {
      "text/plain": [
       "{'BillingAddress': 'Theodor-Heuss-Straße 34',\n",
       " 'BillingCity': 'Stuttgart',\n",
       " 'BillingCountry': 'Germany',\n",
       " 'BillingPostalCode': '70174',\n",
       " 'BillingState': None,\n",
       " 'CustomerId': 2,\n",
       " 'InvoiceDate': datetime.datetime(2009, 1, 1, 0, 0),\n",
       " 'InvoiceId': 1,\n",
       " 'Total': Decimal('1.98'),\n",
       " '_sa_instance_state': <sqlalchemy.orm.state.InstanceState at 0x10c9804e0>}"
      ]
     },
     "execution_count": 14,
     "metadata": {},
     "output_type": "execute_result"
    }
   ],
   "source": [
    "Invoices = Base.classes.invoices\n",
    "session = Session(engine)\n",
    "first_row = session.query(Invoices).first()\n",
    "first_row.__dict__"
   ]
  },
  {
   "cell_type": "code",
   "execution_count": 15,
   "metadata": {},
   "outputs": [
    {
     "data": {
      "text/plain": [
       "{'BillingAddress': 'Theodor-Heuss-Straße 34',\n",
       " 'BillingCity': 'Stuttgart',\n",
       " 'BillingCountry': 'Germany',\n",
       " 'BillingPostalCode': '70174',\n",
       " 'BillingState': None,\n",
       " 'CustomerId': 2,\n",
       " 'InvoiceDate': datetime.datetime(2009, 1, 1, 0, 0),\n",
       " 'InvoiceId': 1,\n",
       " 'Total': Decimal('1.98'),\n",
       " '_sa_instance_state': <sqlalchemy.orm.state.InstanceState at 0x10c965f60>}"
      ]
     },
     "execution_count": 15,
     "metadata": {},
     "output_type": "execute_result"
    }
   ],
   "source": [
    "Invoice_items = Base.classes.invoices\n",
    "session = Session(engine)\n",
    "first_row = session.query(Invoice_items).first()\n",
    "first_row.__dict__"
   ]
  },
  {
   "cell_type": "code",
   "execution_count": 16,
   "metadata": {
    "collapsed": true
   },
   "outputs": [],
   "source": [
    "#Design a query that lists all of the billing countries found in the invoices table."
   ]
  },
  {
   "cell_type": "code",
   "execution_count": 22,
   "metadata": {},
   "outputs": [],
   "source": [
    "Billing = session.query(Invoice_items).filter(Invoice_items.BillingAddress)"
   ]
  },
  {
   "cell_type": "code",
   "execution_count": 24,
   "metadata": {},
   "outputs": [],
   "source": [
    "address_list = []\n",
    "for each in Billing:\n",
    "    address_list.append(each.BillingAddress)"
   ]
  },
  {
   "cell_type": "code",
   "execution_count": 26,
   "metadata": {},
   "outputs": [],
   "source": [
    "Total_ = session.query(Invoice_items).filter(Invoice_items.Total)"
   ]
  },
  {
   "cell_type": "code",
   "execution_count": 27,
   "metadata": {
    "collapsed": true
   },
   "outputs": [],
   "source": [
    "total_list = []\n",
    "for each in Total_:\n",
    "    total_list.append(each.Total)"
   ]
  },
  {
   "cell_type": "code",
   "execution_count": 29,
   "metadata": {},
   "outputs": [],
   "source": [
    "Country_ = session.query(Invoice_items).filter(Invoice_items.BillingCountry)"
   ]
  },
  {
   "cell_type": "code",
   "execution_count": 30,
   "metadata": {
    "collapsed": true
   },
   "outputs": [],
   "source": [
    "#Design a query that lists all of the Billing Postal Codes for the USA."
   ]
  },
  {
   "cell_type": "code",
   "execution_count": 32,
   "metadata": {},
   "outputs": [],
   "source": [
    "USA_billing = session.query(Invoice_items).filter(Invoice_items.BillingCountry == 'USA')"
   ]
  },
  {
   "cell_type": "code",
   "execution_count": null,
   "metadata": {
    "collapsed": true
   },
   "outputs": [],
   "source": []
  }
 ],
 "metadata": {
  "kernelspec": {
   "display_name": "Python 3",
   "language": "python",
   "name": "python3"
  },
  "language_info": {
   "codemirror_mode": {
    "name": "ipython",
    "version": 3
   },
   "file_extension": ".py",
   "mimetype": "text/x-python",
   "name": "python",
   "nbconvert_exporter": "python",
   "pygments_lexer": "ipython3",
   "version": "3.6.3"
  }
 },
 "nbformat": 4,
 "nbformat_minor": 2
}

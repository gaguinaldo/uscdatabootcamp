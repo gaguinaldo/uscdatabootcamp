{
 "cells": [
  {
   "cell_type": "code",
   "execution_count": 3,
   "metadata": {
    "collapsed": true
   },
   "outputs": [],
   "source": [
    "# Dependency\n",
    "from os import getcwd\n",
    "from os.path import join\n",
    "from bs4 import BeautifulSoup as bs"
   ]
  },
  {
   "cell_type": "code",
   "execution_count": 17,
   "metadata": {},
   "outputs": [],
   "source": [
    "with open(join(getcwd(), 'template.html')) as file:\n",
    "    \n",
    "    # Read HTML\n",
    "    html = file.read()\n",
    "\n",
    "    # Create a Beautiful Soup object\n",
    "    soup = bs(html, 'lxml')"
   ]
  },
  {
   "cell_type": "markdown",
   "metadata": {},
   "source": [
    "The title of the webpage\n",
    "\n",
    "All paragraph texts on the page\n",
    "\n",
    "The top 10 headlines for the year. This last one is a bit tricky and may not come out perfectly!"
   ]
  },
  {
   "cell_type": "code",
   "execution_count": 18,
   "metadata": {},
   "outputs": [
    {
     "name": "stdout",
     "output_type": "stream",
     "text": [
      "<html>\n",
      " <head>\n",
      "  <title>\n",
      "   Top Ten Stories From 1996\n",
      "  </title>\n",
      " </head>\n",
      " <body alink=\"#FFFFCE\" bgcolor=\"#FFFFCC\" link=\"#162323\" vlink=\"#162323\">\n",
      "  <center>\n",
      "   <p>\n",
      "    <br/>\n",
      "   </p>\n",
      "   <table border=\"0\" cellpadding=\"0\" cellspacing=\"0\">\n",
      "    <tr>\n",
      "     <td>\n",
      "      <img align=\"TOP\" height=\"60\" src=\"logos.gif\" width=\"112\"/>\n",
      "     </td>\n",
      "     <td>\n",
      "      <img align=\"TOP\" height=\"60\" src=\"banner.gif\" width=\"360\"/>\n",
      "     </td>\n",
      "    </tr>\n",
      "   </table>\n",
      "  </center>\n",
      "  <blockquote>\n",
      "   <center>\n",
      "    <table border=\"0\" cellpadding=\"2\">\n",
      "     <tr>\n",
      "      <td rowspan=\"11\" valign=\"TOP\" width=\"90\">\n",
      "       <p align=\"RIGHT\">\n",
      "        <b>\n",
      "         <tt>\n",
      "          What were the biggest stories of the year?\n",
      "         </tt>\n",
      "        </b>\n",
      "        <br/>\n",
      "        <br/>\n",
      "        <font size=\"2\">\n",
      "         It's a question journalists like to ask themselves at the end of every\n",
      "            year. Now you can join in the process. Here are our selections for the top ten news\n",
      "            stories of 1996.\n",
      "         <br/>\n",
      "         <br/>\n",
      "         Disagree with our choices? Then tell us what stories you think were most compelling\n",
      "            in the poll below.\n",
      "        </font>\n",
      "       </p>\n",
      "      </td>\n",
      "      <td rowspan=\"11\" width=\"4\">\n",
      "      </td>\n",
      "      <td rowspan=\"11\" valign=\"MIDDLE\">\n",
      "       <img align=\"MIDDLE\" height=\"250\" src=\"generic/dot.gif\" width=\"1\"/>\n",
      "      </td>\n",
      "      <td rowspan=\"11\" width=\"10\">\n",
      "      </td>\n",
      "      <td colspan=\"4\" valign=\"TOP\">\n",
      "       <p align=\"CENTER\">\n",
      "        <img align=\"MIDDLE\" height=\"24\" src=\"generic/topten.gif\" vspace=\"5\" width=\"263\"/>\n",
      "       </p>\n",
      "      </td>\n",
      "     </tr>\n",
      "     <tr>\n",
      "      <td>\n",
      "       <a href=\"topten/israel/israel.index.html\" target=\"_top\">\n",
      "        <img align=\"MIDDLE\" border=\"0\" height=\"17\" src=\"generic/1.gif\" width=\"17\"/>\n",
      "       </a>\n",
      "      </td>\n",
      "      <td>\n",
      "       <a href=\"topten/israel/israel.index.html\" target=\"_top\">\n",
      "        <b>\n",
      "         Israel\n",
      "        </b>\n",
      "        elects\n",
      "        <b>\n",
      "         Netanyahu\n",
      "        </b>\n",
      "       </a>\n",
      "      </td>\n",
      "     </tr>\n",
      "     <tr>\n",
      "      <td>\n",
      "       <a href=\"topten/twa/twa.index.html\" target=\"_top\">\n",
      "        <img align=\"MIDDLE\" border=\"0\" height=\"17\" src=\"generic/2.gif\" width=\"17\"/>\n",
      "       </a>\n",
      "      </td>\n",
      "      <td>\n",
      "       <a href=\"topten/twa/twa.index.html\" target=\"_top\">\n",
      "        Crash of TWA Flight 800\n",
      "       </a>\n",
      "      </td>\n",
      "     </tr>\n",
      "     <tr>\n",
      "      <td>\n",
      "       <a href=\"topten/yeltsin/yeltsin.index.html\" target=\"_top\">\n",
      "        <img align=\"MIDDLE\" border=\"0\" height=\"17\" src=\"generic/3.gif\" width=\"17\"/>\n",
      "       </a>\n",
      "      </td>\n",
      "      <td>\n",
      "       <a href=\"topten/yeltsin/yeltsin.index.html\" target=\"_top\">\n",
      "        <b>\n",
      "         Russia\n",
      "        </b>\n",
      "        elects\n",
      "        <b>\n",
      "         Yeltsin\n",
      "        </b>\n",
      "       </a>\n",
      "      </td>\n",
      "     </tr>\n",
      "     <tr>\n",
      "      <td>\n",
      "       <a href=\"topten/clinton/clinton.index.html\" target=\"_top\">\n",
      "        <img align=\"MIDDLE\" border=\"0\" height=\"17\" src=\"generic/4.gif\" width=\"17\"/>\n",
      "       </a>\n",
      "      </td>\n",
      "      <td>\n",
      "       <a href=\"topten/clinton/clinton.index.html\" target=\"_top\">\n",
      "        <b>\n",
      "         U.S\n",
      "        </b>\n",
      "        . elects\n",
      "        <b>\n",
      "         Clinton\n",
      "        </b>\n",
      "       </a>\n",
      "      </td>\n",
      "     </tr>\n",
      "     <tr>\n",
      "      <td>\n",
      "       <a href=\"topten/hutu/hutu.index.html\" target=\"_top\">\n",
      "        <img align=\"MIDDLE\" border=\"0\" height=\"17\" src=\"generic/5.gif\" width=\"17\"/>\n",
      "       </a>\n",
      "      </td>\n",
      "      <td>\n",
      "       <a href=\"topten/hutu/hutu.index.html\" target=\"_top\">\n",
      "        <b>\n",
      "         Hutu-Tutsi\n",
      "        </b>\n",
      "        conflict in central Africa\n",
      "       </a>\n",
      "      </td>\n",
      "     </tr>\n",
      "     <tr>\n",
      "      <td>\n",
      "       <a href=\"topten/bosnia/bosnia.index.html\" target=\"_top\">\n",
      "        <img align=\"MIDDLE\" border=\"0\" height=\"17\" src=\"generic/6.gif\" width=\"17\"/>\n",
      "       </a>\n",
      "      </td>\n",
      "      <td>\n",
      "       <a href=\"topten/bosnia/bosnia.index.html\" target=\"_top\">\n",
      "        Peace, elections in\n",
      "        <b>\n",
      "         Bosnia\n",
      "        </b>\n",
      "       </a>\n",
      "      </td>\n",
      "     </tr>\n",
      "     <tr>\n",
      "      <td>\n",
      "       <a href=\"topten/saudi/saudi.index.html\" target=\"_top\">\n",
      "        <img align=\"MIDDLE\" border=\"0\" height=\"17\" src=\"generic/7.gif\" width=\"17\"/>\n",
      "       </a>\n",
      "      </td>\n",
      "      <td>\n",
      "       <a href=\"topten/saudi/saudi.index.html\" target=\"_top\">\n",
      "        <b>\n",
      "         U.S\n",
      "        </b>\n",
      "        . base bombed in\n",
      "        <b>\n",
      "         Saudi Arabia\n",
      "        </b>\n",
      "       </a>\n",
      "      </td>\n",
      "     </tr>\n",
      "     <tr>\n",
      "      <td>\n",
      "       <a href=\"topten/olympics/olympics.index.html\" target=\"_top\">\n",
      "        <img align=\"MIDDLE\" border=\"0\" height=\"17\" src=\"generic/8.gif\" width=\"17\"/>\n",
      "       </a>\n",
      "      </td>\n",
      "      <td>\n",
      "       <a href=\"topten/olympics/olympics.index.html\" target=\"_top\">\n",
      "        Centennial\n",
      "        <b>\n",
      "         Olympic\n",
      "        </b>\n",
      "        Games\n",
      "       </a>\n",
      "      </td>\n",
      "     </tr>\n",
      "     <tr>\n",
      "      <td>\n",
      "       <a href=\"topten/aids/aids.index.html\" target=\"_top\">\n",
      "        <img align=\"MIDDLE\" border=\"0\" height=\"17\" src=\"generic/9.gif\" width=\"17\"/>\n",
      "       </a>\n",
      "      </td>\n",
      "      <td>\n",
      "       <a href=\"topten/aids/aids.index.html\" target=\"_top\">\n",
      "        Advances against\n",
      "        <b>\n",
      "         AIDS\n",
      "        </b>\n",
      "       </a>\n",
      "      </td>\n",
      "     </tr>\n",
      "     <tr>\n",
      "      <td>\n",
      "       <a href=\"topten/unabomb/unabomb.index.html\" target=\"_top\">\n",
      "        <img align=\"MIDDLE\" border=\"0\" height=\"17\" src=\"generic/10.gif\" width=\"17\"/>\n",
      "       </a>\n",
      "      </td>\n",
      "      <td>\n",
      "       <a href=\"topten/unabomb/unabomb.index.html\" target=\"_top\">\n",
      "        <b>\n",
      "         Unabomb\n",
      "        </b>\n",
      "        suspect\n",
      "        <b>\n",
      "         Ted Kaczynski\n",
      "        </b>\n",
      "        arrested\n",
      "       </a>\n",
      "      </td>\n",
      "     </tr>\n",
      "    </table>\n",
      "    <br clear=\"all\"/>\n",
      "    <table width=\"300\">\n",
      "     <tr>\n",
      "      <td>\n",
      "       <center>\n",
      "        <a href=\"topten/poll.html\" target=\"_top\">\n",
      "         <img align=\"MIDDLE\" border=\"0\" height=\"60\" src=\"poll.gif\" width=\"120\"/>\n",
      "        </a>\n",
      "       </center>\n",
      "      </td>\n",
      "      <td>\n",
      "       <center>\n",
      "        <a href=\"http://www-cgi.cnn.com/cgi-bin/quiz/yir_main/go.pl/main\" target=\"_top\">\n",
      "         <img align=\"MIDDLE\" border=\"0\" height=\"60\" src=\"quiz.gif\" width=\"120\"/>\n",
      "        </a>\n",
      "       </center>\n",
      "      </td>\n",
      "     </tr>\n",
      "     <tr>\n",
      "      <td colspan=\"2\">\n",
      "       <center>\n",
      "        <a href=\"http://www-cgi.cnn.com/cgi-bin/poll/heavypoll.pl?slug=9612%2Fyir_top_10\" target=\"_top\">\n",
      "         The top 10 stories according to our users\n",
      "        </a>\n",
      "       </center>\n",
      "      </td>\n",
      "     </tr>\n",
      "    </table>\n",
      "    <img align=\"MIDDLE\" height=\"1\" src=\"generic/dot.gif\" width=\"450\"/>\n",
      "    <br/>\n",
      "    <br/>\n",
      "    <img align=\"MIDDLE\" height=\"1\" src=\"generic/dot.gif\" width=\"450\"/>\n",
      "    <br/>\n",
      "    <br/>\n",
      "    <center>\n",
      "     <a href=\"http://pathfinder.com/time/bestof1996/index.html\" target=\"_top\">\n",
      "      T I M E: The Best of 1996\n",
      "     </a>\n",
      "     <br clear=\"all\"/>\n",
      "     <br/>\n",
      "     <a href=\"http://pathfinder.com/@@qsdFOQcA62PJWEWu/time/moy/index.html\" target=\"_top\">\n",
      "      T I M E: Man of the Year\n",
      "     </a>\n",
      "     <br clear=\"all\"/>\n",
      "     <br/>\n",
      "     <a href=\"http://pathfinder.com/time/1996/\" target=\"_top\">\n",
      "      <img align=\"MIDDLE\" border=\"0\" height=\"50\" src=\"time.gif\" width=\"540\"/>\n",
      "     </a>\n",
      "     <br clear=\"all\"/>\n",
      "     <br/>\n",
      "     <br/>\n",
      "     <img align=\"MIDDLE\" height=\"1\" src=\"generic/dot.gif\" width=\"450\"/>\n",
      "    </center>\n",
      "    <br clear=\"all\"/>\n",
      "    <table border=\"0\" cellpadding=\"0\" cellspacing=\"0\" width=\"63%\">\n",
      "     <tr>\n",
      "      <td width=\"100%\">\n",
      "       <p>\n",
      "        <b>\n",
      "         <tt>\n",
      "          What makes a\n",
      "         </tt>\n",
      "        </b>\n",
      "        <font size=\"5\">\n",
      "         <tt>\n",
      "          <b>\n",
      "           big\n",
      "          </b>\n",
      "         </tt>\n",
      "        </font>\n",
      "        <tt>\n",
      "         <b>\n",
      "          story\n",
      "         </b>\n",
      "        </tt>\n",
      "        <font size=\"5\">\n",
      "         <tt>\n",
      "          <b>\n",
      "           BIG?\n",
      "          </b>\n",
      "         </tt>\n",
      "        </font>\n",
      "       </p>\n",
      "       <blockquote>\n",
      "        <p>\n",
      "         It depends on your criteria, of course, and your perspective. That's why we offered\n",
      "            a poll to find out what you think.\n",
      "        </p>\n",
      "        <p>\n",
      "         For our list, we polled producers throughout the CNN/Pathfinder family of networks\n",
      "            and publications, and weighed such criteria as a story's long-term implications,\n",
      "            geopolitical significance, user interest, amount of coverage, and old-fashioned newsworthiness.\n",
      "            All these things help make a \"big\" story big.\n",
      "        </p>\n",
      "        <p>\n",
      "         By no means do we think our lists are the final word. Even our polls among CNN\n",
      "            producers turned up a wide variety of responses. The process is meant to encourage\n",
      "            you to reconsider the stories that dominated the media during the past year and determine\n",
      "            for yourself which were mere sensations and which were truly significant.\n",
      "        </p>\n",
      "       </blockquote>\n",
      "      </td>\n",
      "     </tr>\n",
      "    </table>\n",
      "    <br clear=\"ALL\"/>\n",
      "    <br/>\n",
      "    <center>\n",
      "     <br clear=\"ALL\"/>\n",
      "     <br/>\n",
      "     <img align=\"MIDDLE\" height=\"1\" src=\"generic/dot.gif\" width=\"450\"/>\n",
      "     <br clear=\"ALL\"/>\n",
      "     <br/>\n",
      "     <table width=\"300\">\n",
      "      <tr valign=\"CENTER\">\n",
      "       <td align=\"CENTER\">\n",
      "        <img alt=\"What you think\" border=\"0\" height=\"59\" src=\"what_you_think.gif\" width=\"60\"/>\n",
      "       </td>\n",
      "       <td>\n",
      "        <strong>\n",
      "         <a href=\"/feedback/index.html\" name=\"_top\">\n",
      "          Tell us what you think\n",
      "         </a>\n",
      "        </strong>\n",
      "        <br/>\n",
      "        <br/>\n",
      "        <strong>\n",
      "         <a href=\"/feedback/comments.html\" name=\"_top\">\n",
      "          You said it...\n",
      "         </a>\n",
      "        </strong>\n",
      "       </td>\n",
      "      </tr>\n",
      "     </table>\n",
      "     <br clear=\"ALL\"/>\n",
      "     <br/>\n",
      "     <img align=\"MIDDLE\" height=\"1\" src=\"generic/dot.gif\" width=\"450\"/>\n",
      "     <br clear=\"ALL\"/>\n",
      "     <br/>\n",
      "    </center>\n",
      "    <center>\n",
      "     <a href=\"generic/credits.index.html\" target=\"_top\">\n",
      "      <tt>\n",
      "       <b>\n",
      "        C R E D I T S\n",
      "       </b>\n",
      "      </tt>\n",
      "     </a>\n",
      "    </center>\n",
      "    <br clear=\"ALL\"/>\n",
      "    <br/>\n",
      "    <img align=\"MIDDLE\" height=\"1\" src=\"generic/dot.gif\" width=\"450\"/>\n",
      "    <br clear=\"ALL\"/>\n",
      "    <br/>\n",
      "    <center>\n",
      "     <a href=\"#TOP\">\n",
      "      <tt>\n",
      "       <b>\n",
      "        Back to top\n",
      "       </b>\n",
      "      </tt>\n",
      "     </a>\n",
      "    </center>\n",
      "    <br clear=\"ALL\"/>\n",
      "    <br/>\n",
      "    <font size=\"-1\">\n",
      "     <p>\n",
      "      © 1996 Cable News Network, Inc.\n",
      "      <br/>\n",
      "      All Rights Reserved.\n",
      "     </p>\n",
      "    </font>\n",
      "    <h6>\n",
      "     <a href=\"http://cnn.com/interactive_legal.html\" target=\"_top\">\n",
      "      Terms\n",
      "     </a>\n",
      "     under which this\n",
      "     service is provided to you.\n",
      "    </h6>\n",
      "   </center>\n",
      "  </blockquote>\n",
      " </body>\n",
      "</html>\n"
     ]
    }
   ],
   "source": [
    "print(soup.prettify())"
   ]
  },
  {
   "cell_type": "code",
   "execution_count": 19,
   "metadata": {},
   "outputs": [
    {
     "data": {
      "text/plain": [
       "'Top Ten Stories From 1996'"
      ]
     },
     "execution_count": 19,
     "metadata": {},
     "output_type": "execute_result"
    }
   ],
   "source": [
    "soup.title.text"
   ]
  },
  {
   "cell_type": "code",
   "execution_count": 21,
   "metadata": {},
   "outputs": [
    {
     "data": {
      "text/plain": [
       "<p><br/>\n",
       "</p>"
      ]
     },
     "execution_count": 21,
     "metadata": {},
     "output_type": "execute_result"
    }
   ],
   "source": [
    "soup.find_all('p')[0]"
   ]
  },
  {
   "cell_type": "code",
   "execution_count": 22,
   "metadata": {},
   "outputs": [
    {
     "data": {
      "text/plain": [
       "8"
      ]
     },
     "execution_count": 22,
     "metadata": {},
     "output_type": "execute_result"
    }
   ],
   "source": [
    "len(soup.find_all('p'))"
   ]
  },
  {
   "cell_type": "code",
   "execution_count": 24,
   "metadata": {},
   "outputs": [
    {
     "data": {
      "text/plain": [
       "\"What were the biggest stories of the year?\\n\\nIt's a question journalists like to ask themselves at the end of every\\n            year. Now you can join in the process. Here are our selections for the top ten news\\n            stories of 1996.\\n\\n            Disagree with our choices? Then tell us what stories you think were most compelling\\n            in the poll below.\\n\""
      ]
     },
     "execution_count": 24,
     "metadata": {},
     "output_type": "execute_result"
    }
   ],
   "source": [
    "soup.find_all('p')[1].text"
   ]
  },
  {
   "cell_type": "code",
   "execution_count": 72,
   "metadata": {},
   "outputs": [
    {
     "data": {
      "text/plain": [
       "[\"What were the biggest stories of the year?\\n\\nIt's a question journalists like to ask themselves at the end of every\\n            year. Now you can join in the process. Here are our selections for the top ten news\\n            stories of 1996.\\n\\n            Disagree with our choices? Then tell us what stories you think were most compelling\\n            in the poll below.\",\n",
       " '',\n",
       " 'What makes a big\\n            story BIG?',\n",
       " \"It depends on your criteria, of course, and your perspective. That's why we offered\\n            a poll to find out what you think.\",\n",
       " 'For our list, we polled producers throughout the CNN/Pathfinder family of networks\\n            and publications, and weighed such criteria as a story\\'s long-term implications,\\n            geopolitical significance, user interest, amount of coverage, and old-fashioned newsworthiness.\\n            All these things help make a \"big\" story big.',\n",
       " 'By no means do we think our lists are the final word. Even our polls among CNN\\n            producers turned up a wide variety of responses. The process is meant to encourage\\n            you to reconsider the stories that dominated the media during the past year and determine\\n            for yourself which were mere sensations and which were truly significant.',\n",
       " '© 1996 Cable News Network, Inc.\\nAll Rights Reserved.']"
      ]
     },
     "execution_count": 72,
     "metadata": {},
     "output_type": "execute_result"
    }
   ],
   "source": [
    "paragraph_list = []\n",
    "\n",
    "for i in range(1, 8):\n",
    "    para_page = soup.find_all('p')\n",
    "    paragraph_list.append(para_page[i].text.strip())\n",
    "paragraph_list"
   ]
  },
  {
   "cell_type": "code",
   "execution_count": 65,
   "metadata": {},
   "outputs": [
    {
     "data": {
      "text/plain": [
       "<a href=\"topten/israel/israel.index.html\" target=\"_top\"><b>Israel</b> elects <b>Netanyahu</b></a>"
      ]
     },
     "execution_count": 65,
     "metadata": {},
     "output_type": "execute_result"
    }
   ],
   "source": [
    "soup.find_all('a')[1]"
   ]
  },
  {
   "cell_type": "code",
   "execution_count": 47,
   "metadata": {},
   "outputs": [
    {
     "data": {
      "text/plain": [
       "<a href=\"topten/twa/twa.index.html\" target=\"_top\">Crash of TWA Flight 800</a>"
      ]
     },
     "execution_count": 47,
     "metadata": {},
     "output_type": "execute_result"
    }
   ],
   "source": [
    "soup.find_all('a')[3]"
   ]
  },
  {
   "cell_type": "code",
   "execution_count": 48,
   "metadata": {},
   "outputs": [
    {
     "data": {
      "text/plain": [
       "<a href=\"topten/yeltsin/yeltsin.index.html\" target=\"_top\"><b>Russia</b> elects <b>Yeltsin</b></a>"
      ]
     },
     "execution_count": 48,
     "metadata": {},
     "output_type": "execute_result"
    }
   ],
   "source": [
    "soup.find_all('a')[5]"
   ]
  },
  {
   "cell_type": "code",
   "execution_count": 49,
   "metadata": {},
   "outputs": [
    {
     "data": {
      "text/plain": [
       "<a href=\"topten/clinton/clinton.index.html\" target=\"_top\"><b>U.S</b>. elects <b>Clinton</b></a>"
      ]
     },
     "execution_count": 49,
     "metadata": {},
     "output_type": "execute_result"
    }
   ],
   "source": [
    "soup.find_all('a')[7]"
   ]
  },
  {
   "cell_type": "code",
   "execution_count": 68,
   "metadata": {},
   "outputs": [
    {
     "data": {
      "text/plain": [
       "<a href=\"topten/unabomb/unabomb.index.html\" target=\"_top\"><b>Unabomb</b> suspect <b>Ted Kaczynski</b> arrested</a>"
      ]
     },
     "execution_count": 68,
     "metadata": {},
     "output_type": "execute_result"
    }
   ],
   "source": [
    "a = soup.find_all('a')[19]\n",
    "a"
   ]
  },
  {
   "cell_type": "code",
   "execution_count": 76,
   "metadata": {},
   "outputs": [
    {
     "data": {
      "text/plain": [
       "'Unabomb'"
      ]
     },
     "execution_count": 76,
     "metadata": {},
     "output_type": "execute_result"
    }
   ],
   "source": [
    "a.find_all('b')[0].text"
   ]
  },
  {
   "cell_type": "code",
   "execution_count": 77,
   "metadata": {},
   "outputs": [
    {
     "data": {
      "text/plain": [
       "'Ted Kaczynski'"
      ]
     },
     "execution_count": 77,
     "metadata": {},
     "output_type": "execute_result"
    }
   ],
   "source": [
    "a.find_all('b')[1].text"
   ]
  },
  {
   "cell_type": "code",
   "execution_count": null,
   "metadata": {},
   "outputs": [],
   "source": []
  },
  {
   "cell_type": "code",
   "execution_count": 84,
   "metadata": {},
   "outputs": [
    {
     "data": {
      "text/plain": [
       "['Israel elects Netanyahu',\n",
       " 'Crash of TWA Flight 800',\n",
       " 'Russia elects Yeltsin',\n",
       " 'U.S. elects Clinton',\n",
       " 'Hutu-Tutsi conflict in central Africa',\n",
       " 'Peace, elections in Bosnia',\n",
       " 'U.S. base bombed in Saudi Arabia',\n",
       " 'Centennial Olympic Games',\n",
       " 'Advances against AIDS',\n",
       " 'Unabomb suspect Ted Kaczynski arrested']"
      ]
     },
     "execution_count": 84,
     "metadata": {},
     "output_type": "execute_result"
    }
   ],
   "source": [
    "title = []\n",
    "for i in range(1, 21, 2):\n",
    "    title.append(soup.find_all('a')[i].text)\n",
    "title"
   ]
  },
  {
   "cell_type": "code",
   "execution_count": 86,
   "metadata": {},
   "outputs": [],
   "source": [
    "import requests as r"
   ]
  },
  {
   "cell_type": "code",
   "execution_count": null,
   "metadata": {
    "collapsed": true
   },
   "outputs": [],
   "source": [
    "html_link = ''"
   ]
  }
 ],
 "metadata": {
  "kernelspec": {
   "display_name": "Python 3",
   "language": "python",
   "name": "python3"
  },
  "language_info": {
   "codemirror_mode": {
    "name": "ipython",
    "version": 3
   },
   "file_extension": ".py",
   "mimetype": "text/x-python",
   "name": "python",
   "nbconvert_exporter": "python",
   "pygments_lexer": "ipython3",
   "version": "3.6.3"
  }
 },
 "nbformat": 4,
 "nbformat_minor": 1
}

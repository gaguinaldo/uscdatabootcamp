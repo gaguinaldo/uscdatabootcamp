{
 "cells": [
  {
   "cell_type": "code",
   "execution_count": null,
   "metadata": {
    "collapsed": true
   },
   "outputs": [],
   "source": [
    "import tweepy\n",
    "import requests as r\n",
    "import json\n",
    "import time\n",
    "import matplotlib.pyplot as plt\n",
    "import seaborn as sns\n",
    "import numpy as np\n",
    "import re\n",
    "import csv\n",
    "import time\n",
    "from vaderSentiment.vaderSentiment import SentimentIntensityAnalyzer \n",
    "from twitter_keys import Access_Token, Access_Token_Secret, Consumer_Key, Consumer_API_Secret"
   ]
  },
  {
   "cell_type": "code",
   "execution_count": null,
   "metadata": {
    "collapsed": true
   },
   "outputs": [],
   "source": [
    "auth = tweepy.OAuthHandler(Consumer_Key, Consumer_API_Secret)\n",
    "auth.set_access_token(Access_Token, Access_Token_Secret)\n",
    "api = tweepy.API(auth, parser=tweepy.parsers.JSONParser())\n",
    "data_file = './data/twitter_log.csv'"
   ]
  },
  {
   "cell_type": "code",
   "execution_count": null,
   "metadata": {
    "collapsed": true
   },
   "outputs": [],
   "source": [
    "def find_last():\n",
    "    last_tweet = api.search('@enveraai')\n",
    "\n",
    "    last_tweet_text = last_tweet['statuses'][0]['text'].lower()\n",
    "    last_tweet_id = last_tweet['statuses'][0]['id']\n",
    "    last_tweet_screen_name = last_tweet['statuses'][0]['user']['screen_name']\n",
    "\n",
    "    twitter_search_name = re.findall(r\"(@[a-z0-9\\S]+)\", last_tweet_text)\n",
    "    last_tweet_analysis = twitter_search_name[1]\n",
    "\n",
    "    return last_tweet_text, last_tweet_id, last_tweet_screen_name, last_tweet_analysis\n",
    "\n",
    "#Possible problem is when last_tweet is empty.\n",
    "#In this case, the script should recheck in 5 min and keeping checking unitl last_tweet \n",
    "#returns a non-zero value."
   ]
  },
  {
   "cell_type": "code",
   "execution_count": null,
   "metadata": {},
   "outputs": [],
   "source": [
    "#Possible solution to issue noted in find_last\n",
    "\n",
    "while(True):\n",
    "    try:\n",
    "        find_last()\n",
    "    except:\n",
    "        print('No tweets found.')\n",
    "    \n",
    "    time.sleep(10)    "
   ]
  },
  {
   "cell_type": "code",
   "execution_count": null,
   "metadata": {
    "collapsed": true
   },
   "outputs": [],
   "source": [
    "def check_dupilicates(data_file, last_tweet_analysis):\n",
    "    df = pd.read_csv(data_file)\n",
    "    last_tweet_names = df['screen_name_analysis'].tolist().unique()\n",
    "\n",
    "    if last_tweet_analysis in last_tweet_names:\n",
    "        result = True\n",
    "    else:\n",
    "        result = False\n",
    "    \n",
    "    return result\n",
    "\n",
    "#Question.  How do I need to structure the functions to work if I will be using\n",
    "#input values from other functions?\n",
    "\n",
    "# Question.  How does the return statement work?  Will the return statements work as written?\n",
    "# When I ran a smiliar code code block, I got an indentation error on line 6."
   ]
  },
  {
   "cell_type": "code",
   "execution_count": null,
   "metadata": {
    "collapsed": true
   },
   "outputs": [],
   "source": [
    "def add_row_extract(last_tweet_text, last_tweet_id, last_tweet_screen_name, last_tweet_analysis):\n",
    "    with open(data_file, mode = 'a') as f:\n",
    "        writer = csv.writer(f)\n",
    "        writer.writerow([last_tweet_text, last_tweet_id, last_tweet_screen_name, last_tweet_analysis])\n",
    "    \n",
    "    for x in range(25):\n",
    "        public_tweets = api.user_timeline(twitter_search_name[1], page = x)\n",
    "        tweet_text = [tweet['text'] for tweet in public_tweets]\n",
    "\n",
    "    return tweet_text\n",
    "\n",
    "#Question.  How do I need to structure the functions to work if I will be using\n",
    "#input values from other functions?\n",
    "\n",
    "#Question.  How do I add a header to a newly-created CSV file?"
   ]
  },
  {
   "cell_type": "code",
   "execution_count": null,
   "metadata": {
    "collapsed": true
   },
   "outputs": [],
   "source": [
    "def analyze_tweets(tweet_text):\n",
    "    compound_score = []\n",
    "    analyzer = SentimentIntensityAnalyzer()\n",
    "    for text_ in tweet_text:\n",
    "        score = analyzer.polarity_scores(text_)['compound']\n",
    "        compound_score.append(score)\n",
    "    return compound_score\n",
    "\n",
    "#Question.  How do I need to structure the functions to work if I will be using\n",
    "#input values from other functions?"
   ]
  },
  {
   "cell_type": "code",
   "execution_count": null,
   "metadata": {
    "collapsed": true
   },
   "outputs": [],
   "source": [
    "def plot_results(compound_score):\n",
    "    plt.figure(figsize = (10, 10))\n",
    "    plt.plot(np.arange(1, len(compound_score) + 1), compound_score, marker='o', alpha = 0.5, label = twitter_search_name[1])\n",
    "    plt.xlabel('Tweets Ago', fontsize = 14)\n",
    "    plt.ylabel('Compound Score (unitless)', fontsize = 14)\n",
    "    plt.title('Tweet Sentiment Over Last 500 Tweets', fontsize = 14)\n",
    "    plt.ylim(-1, 1, 0.25)\n",
    "    plt.legend(title=\"Tweets\")\n",
    "    plt.savefig('tweet_sentiment.png')\n",
    "    plt.show()\n",
    "    \n",
    "#Question.  How do I need to structure the functions to work if I will be using\n",
    "#input values from other functions?"
   ]
  },
  {
   "cell_type": "code",
   "execution_count": null,
   "metadata": {
    "collapsed": true
   },
   "outputs": [],
   "source": [
    "def app():\n",
    "    find_last()\n",
    "    check_dupilicates()\n",
    "    \n",
    "    if result == False:\n",
    "        add_row()\n",
    "        extract()\n",
    "        analyze_tweets()\n",
    "        plot_results()\n",
    "    else:\n",
    "        print('Sorry, cannot analyze twitter name')"
   ]
  },
  {
   "cell_type": "code",
   "execution_count": null,
   "metadata": {
    "collapsed": true
   },
   "outputs": [],
   "source": [
    "#     status_text = 'Thanks for the tweet ' + '@' + last_tweet_screen_name + ' heres the analysis of ' + twitter_search_name[1]\n",
    "#     api.update_with_media('/Users/gta/dev/hw-7/tweet_sentiment.png', status = status_text, in_reply_to_status_id = last_tweet_id)"
   ]
  }
 ],
 "metadata": {
  "kernelspec": {
   "display_name": "Python 3",
   "language": "python",
   "name": "python3"
  },
  "language_info": {
   "codemirror_mode": {
    "name": "ipython",
    "version": 3
   },
   "file_extension": ".py",
   "mimetype": "text/x-python",
   "name": "python",
   "nbconvert_exporter": "python",
   "pygments_lexer": "ipython3",
   "version": "3.6.3"
  }
 },
 "nbformat": 4,
 "nbformat_minor": 2
}

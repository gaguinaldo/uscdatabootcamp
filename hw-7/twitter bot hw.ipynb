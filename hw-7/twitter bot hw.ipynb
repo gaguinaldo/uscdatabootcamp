{
 "cells": [
  {
   "cell_type": "code",
   "execution_count": 1,
   "metadata": {
    "collapsed": true
   },
   "outputs": [],
   "source": [
    "import tweepy\n",
    "import requests as r\n",
    "import json\n",
    "import time\n",
    "import matplotlib.pyplot as plt\n",
    "import seaborn as sns\n",
    "import numpy as np\n",
    "import re\n",
    "import csv\n",
    "from vaderSentiment.vaderSentiment import SentimentIntensityAnalyzer \n",
    "from twitter_keys import Access_Token, Access_Token_Secret, Consumer_Key, Consumer_API_Secret"
   ]
  },
  {
   "cell_type": "code",
   "execution_count": 2,
   "metadata": {
    "collapsed": true
   },
   "outputs": [],
   "source": [
    "auth = tweepy.OAuthHandler(Consumer_Key, Consumer_API_Secret)\n",
    "auth.set_access_token(Access_Token, Access_Token_Secret)\n",
    "api = tweepy.API(auth, parser=tweepy.parsers.JSONParser())"
   ]
  },
  {
   "cell_type": "code",
   "execution_count": null,
   "metadata": {},
   "outputs": [],
   "source": []
  },
  {
   "cell_type": "code",
   "execution_count": null,
   "metadata": {},
   "outputs": [],
   "source": []
  },
  {
   "cell_type": "code",
   "execution_count": null,
   "metadata": {
    "collapsed": true
   },
   "outputs": [],
   "source": [
    "# IndexError: list index out of range"
   ]
  },
  {
   "cell_type": "code",
   "execution_count": null,
   "metadata": {
    "collapsed": true
   },
   "outputs": [],
   "source": []
  },
  {
   "cell_type": "code",
   "execution_count": null,
   "metadata": {
    "collapsed": true
   },
   "outputs": [],
   "source": []
  },
  {
   "cell_type": "code",
   "execution_count": null,
   "metadata": {},
   "outputs": [],
   "source": []
  },
  {
   "cell_type": "code",
   "execution_count": null,
   "metadata": {},
   "outputs": [],
   "source": []
  },
  {
   "cell_type": "code",
   "execution_count": 10,
   "metadata": {},
   "outputs": [
    {
     "data": {
      "text/plain": [
       "['@grantaguinaldo @enveraconsult @jetblue i’m impressed!',\n",
       " 950634855561220096,\n",
       " 'MelanyeT',\n",
       " '@enveraconsult']"
      ]
     },
     "execution_count": 10,
     "metadata": {},
     "output_type": "execute_result"
    }
   ],
   "source": [
    "#Return last tweet from selected user.\n",
    "\n",
    "last_tweet = api.search('@grantaguinaldo')\n",
    "\n",
    "last_tweet_text = last_tweet['statuses'][0]['text'].lower()\n",
    "last_tweet_id = last_tweet['statuses'][0]['id']\n",
    "last_tweet_screen_name = last_tweet['statuses'][0]['user']['screen_name']\n",
    "\n",
    "twitter_search_name = re.findall(r\"(@[a-z0-9\\S]+)\", last_tweet_text)\n",
    "last_tweet_analysis = twitter_search_name[1]\n",
    "\n",
    "list_ = [last_tweet_text, last_tweet_id, last_tweet_screen_name, last_tweet_analysis]\n",
    "list_"
   ]
  },
  {
   "cell_type": "code",
   "execution_count": 13,
   "metadata": {},
   "outputs": [],
   "source": [
    "#Check screen name against file for duplicates.\n",
    "with open('./data/twitter_log.csv', mode = 'r') as f:\n",
    "    reader = csv.reader(f, delimiter = ',')\n",
    "\n",
    "    for row in reader:\n",
    "        \n",
    "        if last_tweet_analysis in row[3]:\n",
    "            result = True\n",
    "        \n",
    "        else:\n",
    "            result = False"
   ]
  },
  {
   "cell_type": "code",
   "execution_count": null,
   "metadata": {},
   "outputs": [],
   "source": []
  },
  {
   "cell_type": "code",
   "execution_count": 6,
   "metadata": {},
   "outputs": [],
   "source": [
    "#Write data to CSV if result == False.\n",
    "\n",
    "with open('./data/twitter_log.csv', mode = 'a') as f:\n",
    "    writer = csv.writer(f)\n",
    "    writer.writerow([last_tweet_text, last_tweet_id, last_tweet_screen_name, last_tweet_analysis])"
   ]
  },
  {
   "cell_type": "code",
   "execution_count": null,
   "metadata": {},
   "outputs": [],
   "source": [
    "tweet_text = []\n",
    "for x in range(25):\n",
    "    public_tweets = api.user_timeline(twitter_search_name[1], page = x)\n",
    "\n",
    "    for tweet in public_tweets:\n",
    "        tweet_text.append(tweet['text'])"
   ]
  },
  {
   "cell_type": "code",
   "execution_count": null,
   "metadata": {},
   "outputs": [],
   "source": []
  },
  {
   "cell_type": "code",
   "execution_count": null,
   "metadata": {},
   "outputs": [],
   "source": []
  },
  {
   "cell_type": "code",
   "execution_count": null,
   "metadata": {},
   "outputs": [],
   "source": []
  },
  {
   "cell_type": "code",
   "execution_count": null,
   "metadata": {
    "collapsed": true
   },
   "outputs": [],
   "source": []
  },
  {
   "cell_type": "code",
   "execution_count": null,
   "metadata": {
    "collapsed": true
   },
   "outputs": [],
   "source": []
  },
  {
   "cell_type": "code",
   "execution_count": null,
   "metadata": {
    "collapsed": true
   },
   "outputs": [],
   "source": []
  },
  {
   "cell_type": "code",
   "execution_count": null,
   "metadata": {
    "collapsed": true
   },
   "outputs": [],
   "source": []
  },
  {
   "cell_type": "code",
   "execution_count": null,
   "metadata": {
    "collapsed": true
   },
   "outputs": [],
   "source": []
  },
  {
   "cell_type": "code",
   "execution_count": null,
   "metadata": {},
   "outputs": [],
   "source": [
    "compound_score = []\n",
    "analyzer = SentimentIntensityAnalyzer()\n",
    "for text_ in tweet_text:\n",
    "    score = analyzer.polarity_scores(text_)['compound']\n",
    "    compound_score.append(score)\n",
    "\n",
    "plt.figure(figsize = (10, 10))\n",
    "plt.plot(np.arange(1, len(compound_score) + 1), compound_score, marker='o', alpha = 0.5, label = twitter_search_name[1])\n",
    "plt.xlabel('Tweets Ago', fontsize = 14)\n",
    "plt.ylabel('Compound Score (unitless)', fontsize = 14)\n",
    "plt.title('Tweet Sentiment Over Last 500 Tweets', fontsize = 14)\n",
    "plt.ylim(-1, 1, 0.25)\n",
    "plt.legend(title=\"Tweets\")\n",
    "plt.savefig('tweet_sentiment.png')\n",
    "plt.show()\n",
    "\n",
    "#     status_text = 'Thanks for the tweet ' + '@' + last_tweet_screen_name + ' heres the analysis of ' + twitter_search_name[1]\n",
    "#     api.update_with_media('/Users/gta/dev/hw-7/tweet_sentiment.png', status = status_text, in_reply_to_status_id = last_tweet_id)"
   ]
  },
  {
   "cell_type": "code",
   "execution_count": null,
   "metadata": {},
   "outputs": [],
   "source": [
    "# try:\n",
    "#     tweet_extract_post()\n",
    "#     tweet_analysis()\n",
    "# except:\n",
    "#     print('Sorry, cannot analyze twitter name')"
   ]
  },
  {
   "cell_type": "code",
   "execution_count": null,
   "metadata": {
    "collapsed": true
   },
   "outputs": [],
   "source": []
  }
 ],
 "metadata": {
  "kernelspec": {
   "display_name": "Python 3",
   "language": "python",
   "name": "python3"
  },
  "language_info": {
   "codemirror_mode": {
    "name": "ipython",
    "version": 3
   },
   "file_extension": ".py",
   "mimetype": "text/x-python",
   "name": "python",
   "nbconvert_exporter": "python",
   "pygments_lexer": "ipython3",
   "version": "3.6.3"
  }
 },
 "nbformat": 4,
 "nbformat_minor": 2
}

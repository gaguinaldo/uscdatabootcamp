{
 "cells": [
  {
   "cell_type": "markdown",
   "metadata": {},
   "source": [
    "# Popular Twitter Accounts\n",
    "\n",
    "## Instructions\n",
    "\n",
    "* In this activity, you are given an incomplete CSV file of Twitter's most popular accounts. You will use this CSV file in conjunction with Tweepy's API to create a pandas DataFrame.\n",
    "\n",
    "* Consult the Jupyter Notebook file for instructions, but here are your tasks:\n",
    "\n",
    "* The \"PopularAccounts.csv\" file has columns whose info needs to be filled in.\n",
    "\n",
    "* Create a pandas DataFrame and import the CSV file into it.\n",
    "\n",
    "* Call Tweepy's API to retrieve the info for the missing columns in the starter CSV.\n",
    "\n",
    "* Export the results to a new CSV file called \"PopularAccounts_New.csv\"\n",
    "\n",
    "* Calculate the averages of a user's tweets, # of followers, etc., then create a DataFrame of the averages."
   ]
  },
  {
   "cell_type": "code",
   "execution_count": 1,
   "metadata": {
    "collapsed": true
   },
   "outputs": [],
   "source": [
    "import pandas as pd\n",
    "import json\n",
    "import requests as r\n",
    "from twitter_keys import Consumer_Key, Consumer_API_Secret, Access_Token, Access_Token_Secret\n",
    "import tweepy \n",
    "import matplotlib.pyplot as plt"
   ]
  },
  {
   "cell_type": "code",
   "execution_count": 2,
   "metadata": {
    "collapsed": true
   },
   "outputs": [],
   "source": [
    "csv_file = 'PopularAccounts_short.csv'"
   ]
  },
  {
   "cell_type": "code",
   "execution_count": 3,
   "metadata": {},
   "outputs": [
    {
     "data": {
      "text/html": [
       "<div>\n",
       "<style>\n",
       "    .dataframe thead tr:only-child th {\n",
       "        text-align: right;\n",
       "    }\n",
       "\n",
       "    .dataframe thead th {\n",
       "        text-align: left;\n",
       "    }\n",
       "\n",
       "    .dataframe tbody tr th {\n",
       "        vertical-align: top;\n",
       "    }\n",
       "</style>\n",
       "<table border=\"1\" class=\"dataframe\">\n",
       "  <thead>\n",
       "    <tr style=\"text-align: right;\">\n",
       "      <th></th>\n",
       "      <th>Screen Name</th>\n",
       "      <th>Real Name</th>\n",
       "      <th>Tweets</th>\n",
       "      <th>Followers</th>\n",
       "      <th>Following</th>\n",
       "      <th>Favorites Count</th>\n",
       "    </tr>\n",
       "  </thead>\n",
       "  <tbody>\n",
       "    <tr>\n",
       "      <th>0</th>\n",
       "      <td>katyperry</td>\n",
       "      <td>NaN</td>\n",
       "      <td>NaN</td>\n",
       "      <td>NaN</td>\n",
       "      <td>NaN</td>\n",
       "      <td>NaN</td>\n",
       "    </tr>\n",
       "    <tr>\n",
       "      <th>1</th>\n",
       "      <td>justinbieber</td>\n",
       "      <td>NaN</td>\n",
       "      <td>NaN</td>\n",
       "      <td>NaN</td>\n",
       "      <td>NaN</td>\n",
       "      <td>NaN</td>\n",
       "    </tr>\n",
       "    <tr>\n",
       "      <th>2</th>\n",
       "      <td>BarackObama</td>\n",
       "      <td>NaN</td>\n",
       "      <td>NaN</td>\n",
       "      <td>NaN</td>\n",
       "      <td>NaN</td>\n",
       "      <td>NaN</td>\n",
       "    </tr>\n",
       "    <tr>\n",
       "      <th>3</th>\n",
       "      <td>Taylorswift13</td>\n",
       "      <td>NaN</td>\n",
       "      <td>NaN</td>\n",
       "      <td>NaN</td>\n",
       "      <td>NaN</td>\n",
       "      <td>NaN</td>\n",
       "    </tr>\n",
       "    <tr>\n",
       "      <th>4</th>\n",
       "      <td>rihanna</td>\n",
       "      <td>NaN</td>\n",
       "      <td>NaN</td>\n",
       "      <td>NaN</td>\n",
       "      <td>NaN</td>\n",
       "      <td>NaN</td>\n",
       "    </tr>\n",
       "    <tr>\n",
       "      <th>5</th>\n",
       "      <td>youtube</td>\n",
       "      <td>NaN</td>\n",
       "      <td>NaN</td>\n",
       "      <td>NaN</td>\n",
       "      <td>NaN</td>\n",
       "      <td>NaN</td>\n",
       "    </tr>\n",
       "    <tr>\n",
       "      <th>6</th>\n",
       "      <td>theellenshow</td>\n",
       "      <td>NaN</td>\n",
       "      <td>NaN</td>\n",
       "      <td>NaN</td>\n",
       "      <td>NaN</td>\n",
       "      <td>NaN</td>\n",
       "    </tr>\n",
       "  </tbody>\n",
       "</table>\n",
       "</div>"
      ],
      "text/plain": [
       "     Screen Name Real Name Tweets Followers Following Favorites Count\n",
       "0      katyperry       NaN    NaN       NaN       NaN             NaN\n",
       "1   justinbieber       NaN    NaN       NaN       NaN             NaN\n",
       "2    BarackObama       NaN    NaN       NaN       NaN             NaN\n",
       "3  Taylorswift13       NaN    NaN       NaN       NaN             NaN\n",
       "4        rihanna       NaN    NaN       NaN       NaN             NaN\n",
       "5        youtube       NaN    NaN       NaN       NaN             NaN\n",
       "6   theellenshow       NaN    NaN       NaN       NaN             NaN"
      ]
     },
     "execution_count": 3,
     "metadata": {},
     "output_type": "execute_result"
    }
   ],
   "source": [
    "df = pd.read_csv(csv_file, dtype=str)\n",
    "df"
   ]
  },
  {
   "cell_type": "code",
   "execution_count": 4,
   "metadata": {
    "collapsed": true
   },
   "outputs": [],
   "source": [
    "auth = tweepy.OAuthHandler(Consumer_Key, Consumer_API_Secret)\n",
    "auth.set_access_token(Access_Token, Access_Token_Secret)\n",
    "\n",
    "api = tweepy.API(auth, parser=tweepy.parsers.JSONParser())\n",
    "\n",
    "public_tweets = api.home_timeline()"
   ]
  },
  {
   "cell_type": "code",
   "execution_count": 5,
   "metadata": {},
   "outputs": [
    {
     "name": "stdout",
     "output_type": "stream",
     "text": [
      "Test User Data: \n",
      "Total Tweets: 158792\n",
      "Total Followers: 1628241\n",
      "Total Following:  10073\n",
      "Total Favorites:  51428\n",
      "Real Name:  Gary Vaynerchuk\n"
     ]
    }
   ],
   "source": [
    "json_data = api.get_user('garyvee')\n",
    "total_tweets = json_data['statuses_count']\n",
    "total_followers = json_data['followers_count']\n",
    "total_following = json_data['friends_count']\n",
    "total_favs = json_data['favourites_count']\n",
    "real_name = json_data['name'] \n",
    "\n",
    "print('Test User Data: ')\n",
    "print('Total Tweets:' ,total_tweets)\n",
    "print('Total Followers:' , total_followers)\n",
    "print('Total Following: ', total_following)\n",
    "print('Total Favorites: ', total_favs)\n",
    "print('Real Name: ', real_name)"
   ]
  },
  {
   "cell_type": "code",
   "execution_count": 6,
   "metadata": {},
   "outputs": [
    {
     "data": {
      "text/html": [
       "<div>\n",
       "<style>\n",
       "    .dataframe thead tr:only-child th {\n",
       "        text-align: right;\n",
       "    }\n",
       "\n",
       "    .dataframe thead th {\n",
       "        text-align: left;\n",
       "    }\n",
       "\n",
       "    .dataframe tbody tr th {\n",
       "        vertical-align: top;\n",
       "    }\n",
       "</style>\n",
       "<table border=\"1\" class=\"dataframe\">\n",
       "  <thead>\n",
       "    <tr style=\"text-align: right;\">\n",
       "      <th></th>\n",
       "      <th>Screen Name</th>\n",
       "      <th>Real Name</th>\n",
       "      <th>Tweets</th>\n",
       "      <th>Followers</th>\n",
       "      <th>Following</th>\n",
       "      <th>Favorites Count</th>\n",
       "    </tr>\n",
       "  </thead>\n",
       "  <tbody>\n",
       "    <tr>\n",
       "      <th>0</th>\n",
       "      <td>katyperry</td>\n",
       "      <td>KATY PERRY</td>\n",
       "      <td>8786</td>\n",
       "      <td>107611532</td>\n",
       "      <td>207</td>\n",
       "      <td>5869</td>\n",
       "    </tr>\n",
       "    <tr>\n",
       "      <th>1</th>\n",
       "      <td>justinbieber</td>\n",
       "      <td>Justin Bieber</td>\n",
       "      <td>30647</td>\n",
       "      <td>104459813</td>\n",
       "      <td>317294</td>\n",
       "      <td>3445</td>\n",
       "    </tr>\n",
       "    <tr>\n",
       "      <th>2</th>\n",
       "      <td>BarackObama</td>\n",
       "      <td>Barack Obama</td>\n",
       "      <td>15486</td>\n",
       "      <td>98007812</td>\n",
       "      <td>625998</td>\n",
       "      <td>10</td>\n",
       "    </tr>\n",
       "    <tr>\n",
       "      <th>3</th>\n",
       "      <td>Taylorswift13</td>\n",
       "      <td>Taylor Swift</td>\n",
       "      <td>80</td>\n",
       "      <td>85811147</td>\n",
       "      <td>0</td>\n",
       "      <td>115</td>\n",
       "    </tr>\n",
       "    <tr>\n",
       "      <th>4</th>\n",
       "      <td>rihanna</td>\n",
       "      <td>Rihanna</td>\n",
       "      <td>10055</td>\n",
       "      <td>84448455</td>\n",
       "      <td>1124</td>\n",
       "      <td>1025</td>\n",
       "    </tr>\n",
       "  </tbody>\n",
       "</table>\n",
       "</div>"
      ],
      "text/plain": [
       "     Screen Name      Real Name Tweets  Followers Following Favorites Count\n",
       "0      katyperry     KATY PERRY   8786  107611532       207            5869\n",
       "1   justinbieber  Justin Bieber  30647  104459813    317294            3445\n",
       "2    BarackObama   Barack Obama  15486   98007812    625998              10\n",
       "3  Taylorswift13   Taylor Swift     80   85811147         0             115\n",
       "4        rihanna        Rihanna  10055   84448455      1124            1025"
      ]
     },
     "execution_count": 6,
     "metadata": {},
     "output_type": "execute_result"
    }
   ],
   "source": [
    "for index, row in df.iterrows():\n",
    "    target_user = row['Screen Name']\n",
    "    \n",
    "    account_data = api.get_user(target_user)\n",
    "#     print(account_data)\n",
    "\n",
    "    total_tweets = account_data['statuses_count']\n",
    "    total_followers = account_data['followers_count']\n",
    "    total_following = account_data['friends_count']\n",
    "    total_favs = account_data['favourites_count']\n",
    "    real_name = account_data['name'] \n",
    "    \n",
    "    df.set_value(index, 'Real Name', real_name)\n",
    "    df.set_value(index, 'Tweets', total_tweets)\n",
    "    df.set_value(index, 'Followers', total_followers)\n",
    "    df.set_value(index, 'Following', total_following)\n",
    "    df.set_value(index, 'Favorites Count', total_favs)\n",
    "\n",
    "df.head()"
   ]
  },
  {
   "cell_type": "code",
   "execution_count": 7,
   "metadata": {},
   "outputs": [],
   "source": [
    "ave_tweets = df['Tweets'].mean()\n",
    "ave_followers = df['Followers'].mean()\n",
    "ave_following = df['Following'].mean()\n",
    "ave_favs = df['Favorites Count'].mean()"
   ]
  },
  {
   "cell_type": "code",
   "execution_count": 8,
   "metadata": {},
   "outputs": [],
   "source": [
    "ave_dict = {'average tweets': ave_tweets,\n",
    "'average followers': ave_followers,\n",
    "'average following': ave_following,\n",
    "'average favorites': ave_favs}"
   ]
  },
  {
   "cell_type": "code",
   "execution_count": 9,
   "metadata": {},
   "outputs": [
    {
     "data": {
      "text/html": [
       "<div>\n",
       "<style>\n",
       "    .dataframe thead tr:only-child th {\n",
       "        text-align: right;\n",
       "    }\n",
       "\n",
       "    .dataframe thead th {\n",
       "        text-align: left;\n",
       "    }\n",
       "\n",
       "    .dataframe tbody tr th {\n",
       "        vertical-align: top;\n",
       "    }\n",
       "</style>\n",
       "<table border=\"1\" class=\"dataframe\">\n",
       "  <thead>\n",
       "    <tr style=\"text-align: right;\">\n",
       "      <th></th>\n",
       "      <th>average favorites</th>\n",
       "      <th>average followers</th>\n",
       "      <th>average following</th>\n",
       "      <th>average tweets</th>\n",
       "    </tr>\n",
       "  </thead>\n",
       "  <tbody>\n",
       "    <tr>\n",
       "      <th>For All Users</th>\n",
       "      <td>1827.285714</td>\n",
       "      <td>8.964758e+07</td>\n",
       "      <td>140233.0</td>\n",
       "      <td>14585.285714</td>\n",
       "    </tr>\n",
       "  </tbody>\n",
       "</table>\n",
       "</div>"
      ],
      "text/plain": [
       "               average favorites  average followers  average following  \\\n",
       "For All Users        1827.285714       8.964758e+07           140233.0   \n",
       "\n",
       "               average tweets  \n",
       "For All Users    14585.285714  "
      ]
     },
     "execution_count": 9,
     "metadata": {},
     "output_type": "execute_result"
    }
   ],
   "source": [
    "df_ave = pd.DataFrame(ave_dict, index=['For All Users'])\n",
    "df_ave"
   ]
  },
  {
   "cell_type": "code",
   "execution_count": 10,
   "metadata": {},
   "outputs": [
    {
     "data": {
      "text/plain": [
       "Index(['Screen Name', 'Real Name', 'Tweets', 'Followers', 'Following',\n",
       "       'Favorites Count'],\n",
       "      dtype='object')"
      ]
     },
     "execution_count": 10,
     "metadata": {},
     "output_type": "execute_result"
    }
   ],
   "source": [
    "df.columns"
   ]
  },
  {
   "cell_type": "code",
   "execution_count": 11,
   "metadata": {
    "collapsed": true
   },
   "outputs": [],
   "source": [
    "def plot_axis(c):\n",
    "    tweets_total = c['Tweets']\n",
    "    followers_total = c['Followers']\n",
    "    following_total = c['Following']\n",
    "    fav_total = c['Favorites Count']\n",
    "    return tweets_total, followers_total, following_total, fav_total"
   ]
  },
  {
   "cell_type": "code",
   "execution_count": 12,
   "metadata": {},
   "outputs": [
    {
     "data": {
      "image/png": "[encoded data removed]",
      "text/plain": [
       "<matplotlib.figure.Figure at 0x109f544a8>"
      ]
     },
     "metadata": {},
     "output_type": "display_data"
    }
   ],
   "source": [
    "plt.scatter(plot_axis(df)[0], plot_axis(df)[1])\n",
    "plt.xlabel('Total Tweets')\n",
    "plt.ylabel('Total Followers')\n",
    "plt.title('Total Followers vs Tweets')\n",
    "plt.show()"
   ]
  },
  {
   "cell_type": "code",
   "execution_count": 13,
   "metadata": {},
   "outputs": [
    {
     "data": {
      "image/png": "[encoded data removed]",
      "text/plain": [
       "<matplotlib.figure.Figure at 0x112a40630>"
      ]
     },
     "metadata": {},
     "output_type": "display_data"
    }
   ],
   "source": [
    "plt.scatter(plot_axis(df)[0], plot_axis(df)[2])\n",
    "plt.xlabel('Total Tweets')\n",
    "plt.ylabel('Total Following')\n",
    "plt.title('Total Following vs Tweets')\n",
    "plt.show()"
   ]
  },
  {
   "cell_type": "code",
   "execution_count": 14,
   "metadata": {},
   "outputs": [
    {
     "data": {
      "image/png": "[encoded data removed]",
      "text/plain": [
       "<matplotlib.figure.Figure at 0x109fb6f28>"
      ]
     },
     "metadata": {},
     "output_type": "display_data"
    }
   ],
   "source": [
    "plt.scatter(plot_axis(df)[0], plot_axis(df)[3])\n",
    "plt.xlabel('Total Tweets')\n",
    "plt.ylabel('Total Favorites')\n",
    "plt.title('Total Favorites vs Tweets')\n",
    "plt.show()"
   ]
  },
  {
   "cell_type": "code",
   "execution_count": 15,
   "metadata": {
    "collapsed": true
   },
   "outputs": [],
   "source": [
    "df.to_csv('Twitter_User_Export.csv')"
   ]
  }
 ],
 "metadata": {
  "kernelspec": {
   "display_name": "Python 3",
   "language": "python",
   "name": "python3"
  },
  "language_info": {
   "codemirror_mode": {
    "name": "ipython",
    "version": 3
   },
   "file_extension": ".py",
   "mimetype": "text/x-python",
   "name": "python",
   "nbconvert_exporter": "python",
   "pygments_lexer": "ipython3",
   "version": "3.6.3"
  }
 },
 "nbformat": 4,
 "nbformat_minor": 2
}

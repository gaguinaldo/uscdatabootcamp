{
 "cells": [
  {
   "cell_type": "code",
   "execution_count": null,
   "metadata": {},
   "outputs": [],
   "source": [
    "#Imports\n",
    "import tweepy\n",
    "import json\n",
    "import requests as r\n",
    "import numpy as np\n",
    "import time\n",
    "from twitter_keys import Consumer_Key, Consumer_API_Secret, Access_Token, Access_Token_Secret\n",
    "\n",
    "auth = tweepy.OAuthHandler(Consumer_Key, Consumer_API_Secret)\n",
    "auth.set_access_token(Access_Token, Access_Token_Secret)\n",
    "api = tweepy.API(auth, parser = tweepy.parsers.JSONParser())"
   ]
  },
  {
   "cell_type": "code",
   "execution_count": null,
   "metadata": {},
   "outputs": [],
   "source": [
    "#Get last tweet text and ID an store from twitter.\n",
    "def tweet_check():\n",
    "    print('Let\\'s get this thing started!')\n",
    "\n",
    "    public_tweets = api.search('@grantaguinaldo', result_type = 'recent')\n",
    "\n",
    "    last_tweet_id = public_tweets['statuses'][0]['id']\n",
    "    last_tweet_text = public_tweets['statuses'][0]['text']\n",
    "    last_tweet_user = public_tweets['statuses'][0]['user']['screen_name']\n",
    "    print(last_tweet_id)\n",
    "    print(last_tweet_text)\n",
    "    print(last_tweet_user)\n",
    "\n",
    "    try:\n",
    "        #Reply to last tweet with status_text in twitter.\n",
    "        status_text = '@%s Thank you come again. This response is from a bot that I made in python!' % last_tweet_user\n",
    "        public_tweets = api.update_status(status_text, in_reply_to_status_id = last_tweet_id)\n",
    "        print('One and done!')\n",
    "\n",
    "    except:\n",
    "        #If status has been replied to, then print to console.\n",
    "        print('I already replied to this tweet!  I\\'ll check in 15 seconds')"
   ]
  },
  {
   "cell_type": "code",
   "execution_count": null,
   "metadata": {},
   "outputs": [],
   "source": [
    "while(True):\n",
    "    tweet_check()\n",
    "    time.sleep(15)"
   ]
  },
  {
   "cell_type": "code",
   "execution_count": null,
   "metadata": {
    "collapsed": true
   },
   "outputs": [],
   "source": []
  }
 ],
 "metadata": {
  "kernelspec": {
   "display_name": "Python 3",
   "language": "python",
   "name": "python3"
  },
  "language_info": {
   "codemirror_mode": {
    "name": "ipython",
    "version": 3
   },
   "file_extension": ".py",
   "mimetype": "text/x-python",
   "name": "python",
   "nbconvert_exporter": "python",
   "pygments_lexer": "ipython3",
   "version": "3.6.3"
  }
 },
 "nbformat": 4,
 "nbformat_minor": 2
}

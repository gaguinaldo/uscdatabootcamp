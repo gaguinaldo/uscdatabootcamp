{
 "cells": [
  {
   "cell_type": "markdown",
   "metadata": {},
   "source": [
    "# Get My Tweets\n",
    "\n",
    "## Instructions\n",
    "\n",
    "* In this activity, you will retrieve the most recent tweets sent out from your Twitter account using the Tweepy library.\n",
    "\n",
    "* Consult the [Tweepy](http://docs.tweepy.org/en/v3.5.0/api.html?) documentation for the method used to accomplish this task.\n",
    "\n",
    "## Bonus\n",
    "\n",
    "* If you finish the activity early, try tweaking the parameters. For example, can you fetch ten tweets with the script? If you haven't yet sent out more than ten tweets from your account, do that first. "
   ]
  },
  {
   "cell_type": "code",
   "execution_count": 1,
   "metadata": {
    "collapsed": true
   },
   "outputs": [],
   "source": [
    "import tweepy"
   ]
  },
  {
   "cell_type": "code",
   "execution_count": 2,
   "metadata": {
    "collapsed": true
   },
   "outputs": [],
   "source": [
    "Access_Token = '581514585-BQ4QFz1ND5HuHrZTopFWSgCxpXYMI0ZpEEQjxyDJ'\n",
    "Access_Token_Secret\t= '45GfAsJmE4bTlrGwr0wGJsMmvJNEUeytVbivoDGLE'\n",
    "\n",
    "Consumer_Key = '3bcmOTbXRLYNFVwLBw56jv6SA'\n",
    "Consumer_API_Secret = 'lWhZqglijrX1UZzb8uwLGWhndSRVeeGXgFOSXVr2CYjHewf7jz'"
   ]
  },
  {
   "cell_type": "code",
   "execution_count": 3,
   "metadata": {
    "collapsed": true
   },
   "outputs": [],
   "source": [
    "auth = tweepy.OAuthHandler(Consumer_Key, Consumer_API_Secret)\n",
    "auth.set_access_token(Access_Token, Access_Token_Secret)\n",
    "\n",
    "api = tweepy.API(auth)\n",
    "\n",
    "public_tweets = api.home_timeline()"
   ]
  },
  {
   "cell_type": "code",
   "execution_count": 4,
   "metadata": {
    "collapsed": true
   },
   "outputs": [],
   "source": [
    "tweet_list = []\n",
    "for tweet in public_tweets:\n",
    "    tweet_list.append(tweet.text)"
   ]
  },
  {
   "cell_type": "code",
   "execution_count": 5,
   "metadata": {},
   "outputs": [
    {
     "data": {
      "text/plain": [
       "['7 common reasons why people say they got divorced https://t.co/gCscuiwj7r https://t.co/J0W0ajtyGy',\n",
       " 'Forget the open-plan office, modern work spaces should be ‘agile’ https://t.co/r0k3nyeZKa https://t.co/ruiFDlEEcw',\n",
       " 'NIO launches its ES8 all-electric SUV in China https://t.co/8FRw7tuIWf https://t.co/trPLGN8Vi1',\n",
       " \"RT @maxwelltani: I got my hands on shareholder documents that detail Mashable's financial situation before the company's sale to Ziff Davis…\",\n",
       " 'RT @historylvrsclub: Members of the Antarctic Shackleton Expedition and their dogs, 1910s https://t.co/9J35FzANVP',\n",
       " 'Mamba Mentality. #Ko8e24 https://t.co/zF6RN5DLcz',\n",
       " '12 Podcasts Every Founder Should Listen To In 2018 https://t.co/1dnCzRf3uZ',\n",
       " 'What a great idea. Though not sure I could keep up with @ldtimmerman on those hills, even without the ginormous bac… https://t.co/LL5B9SD5Hn',\n",
       " 'Have you been interested in joining ACS? Now is the perfect time! Get a member to recruit you and you’ll get a Mini… https://t.co/6Q3OFcg7Bi',\n",
       " \"Here's what's coming up on #tictocnews https://t.co/riOBtuSy6L\",\n",
       " 'We want to inspire our pilots to start creating and exploring the world above the horizon.\\n\\nhttps://t.co/Mu78JgOOmM',\n",
       " 'Apparently dandelions are tougher in Acton? https://t.co/noUEMDNaOW',\n",
       " 'RT @DavidRoads: Change begins at the end of your comfort zone.',\n",
       " 'RT @JessicaMahoney_: missing my buddies but thank GOD for houseparty #ganggang 🍻 https://t.co/HQvtl3ahFx',\n",
       " 'Apparently dandelions are tougher in Acton. https://t.co/NhTjajZXSY',\n",
       " 'What to get the #StarWars fan who has everything? Check out this luxury gift guide #tictocnews https://t.co/4TvlJI3p7a',\n",
       " 'RT @VansformationHQ: 🎧👉Massively Exciting News👈🎧\\nThe Podcast is just about to launch!   Please consider helping as many campervan self-buil…',\n",
       " 'Behind the scenes with @FoxNews star Shepard Smith https://t.co/luuTAsL3Hd',\n",
       " 'Why \"Sales\" in Social Media Marketing Should Not Taste Like Sales https://t.co/6EXwYfnQXw https://t.co/0nKtutcUkR',\n",
       " 'This may be the secret to building your emotional intelligence. @DrTiffWattSmith https://t.co/MDgTsRs27z']"
      ]
     },
     "execution_count": 5,
     "metadata": {},
     "output_type": "execute_result"
    }
   ],
   "source": [
    "tweet_list"
   ]
  },
  {
   "cell_type": "markdown",
   "metadata": {},
   "source": [
    "# Get Other Tweets\n",
    "\n",
    "## Instructions\n",
    "\n",
    "* In this activity, you will write a Python script that will:\n",
    "\n",
    "  1. Ask the user to type in the name of a Twitter account\n",
    "  2. Retrieve the latest tweets sent out from that account\n",
    "\n",
    "* Use the code from the previous activities to get you started!"
   ]
  },
  {
   "cell_type": "code",
   "execution_count": 6,
   "metadata": {
    "collapsed": true
   },
   "outputs": [],
   "source": [
    "import tweepy"
   ]
  },
  {
   "cell_type": "code",
   "execution_count": 7,
   "metadata": {
    "collapsed": true
   },
   "outputs": [],
   "source": [
    "Access_Token = '581514585-BQ4QFz1ND5HuHrZTopFWSgCxpXYMI0ZpEEQjxyDJ'\n",
    "Access_Token_Secret\t= '45GfAsJmE4bTlrGwr0wGJsMmvJNEUeytVbivoDGLE'\n",
    "\n",
    "Consumer_Key = '3bcmOTbXRLYNFVwLBw56jv6SA'\n",
    "Consumer_API_Secret = 'lWhZqglijrX1UZzb8uwLGWhndSRVeeGXgFOSXVr2CYjHewf7jz'"
   ]
  },
  {
   "cell_type": "code",
   "execution_count": 1,
   "metadata": {},
   "outputs": [
    {
     "ename": "NameError",
     "evalue": "name 'tweepy' is not defined",
     "output_type": "error",
     "traceback": [
      "\u001b[0;31m---------------------------------------------------------------------------\u001b[0m",
      "\u001b[0;31mNameError\u001b[0m                                 Traceback (most recent call last)",
      "\u001b[0;32m<ipython-input-1-37f220af0dc4>\u001b[0m in \u001b[0;36m<module>\u001b[0;34m()\u001b[0m\n\u001b[0;32m----> 1\u001b[0;31m \u001b[0mauth\u001b[0m \u001b[0;34m=\u001b[0m \u001b[0mtweepy\u001b[0m\u001b[0;34m.\u001b[0m\u001b[0mOAuthHandler\u001b[0m\u001b[0;34m(\u001b[0m\u001b[0mConsumer_Key\u001b[0m\u001b[0;34m,\u001b[0m \u001b[0mConsumer_API_Secret\u001b[0m\u001b[0;34m)\u001b[0m\u001b[0;34m\u001b[0m\u001b[0m\n\u001b[0m\u001b[1;32m      2\u001b[0m \u001b[0mauth\u001b[0m\u001b[0;34m.\u001b[0m\u001b[0mset_access_token\u001b[0m\u001b[0;34m(\u001b[0m\u001b[0mAccess_Token\u001b[0m\u001b[0;34m,\u001b[0m \u001b[0mAccess_Token_Secret\u001b[0m\u001b[0;34m)\u001b[0m\u001b[0;34m\u001b[0m\u001b[0m\n\u001b[1;32m      3\u001b[0m \u001b[0;34m\u001b[0m\u001b[0m\n\u001b[1;32m      4\u001b[0m \u001b[0mapi\u001b[0m \u001b[0;34m=\u001b[0m \u001b[0mtweepy\u001b[0m\u001b[0;34m.\u001b[0m\u001b[0mAPI\u001b[0m\u001b[0;34m(\u001b[0m\u001b[0mauth\u001b[0m\u001b[0;34m,\u001b[0m \u001b[0mparser\u001b[0m\u001b[0;34m=\u001b[0m\u001b[0mtweepy\u001b[0m\u001b[0;34m.\u001b[0m\u001b[0mparsers\u001b[0m\u001b[0;34m.\u001b[0m\u001b[0mJSONParser\u001b[0m\u001b[0;34m(\u001b[0m\u001b[0;34m)\u001b[0m\u001b[0;34m)\u001b[0m\u001b[0;34m\u001b[0m\u001b[0m\n",
      "\u001b[0;31mNameError\u001b[0m: name 'tweepy' is not defined"
     ]
    }
   ],
   "source": [
    "auth = tweepy.OAuthHandler(Consumer_Key, Consumer_API_Secret)\n",
    "auth.set_access_token(Access_Token, Access_Token_Secret)\n",
    "\n",
    "api = tweepy.API(auth)"
   ]
  },
  {
   "cell_type": "code",
   "execution_count": 21,
   "metadata": {
    "collapsed": true
   },
   "outputs": [],
   "source": [
    "public_tweets = api.user_timeline('garyvee')"
   ]
  },
  {
   "cell_type": "code",
   "execution_count": 23,
   "metadata": {},
   "outputs": [
    {
     "data": {
      "text/plain": [
       "['@timskye @AnthonyBaird Yup looking that entire platform over this holiday',\n",
       " '@steveplunkett @QuoteGaryVee Houston @NickDiodato u should come by for vip',\n",
       " 'Are you a street fashion clothing brand? If so are you looking to do smart creative for social with athletes? If so… https://t.co/XEk6LdA2p3',\n",
       " '@Jkemp23 Yes @WineLib_BW',\n",
       " 'Any businesses leaders in Houston area? \\n\\nCc @NickDiodato',\n",
       " 'https://t.co/3pJTIulN91  \\n\\n2018 Grammy Nominee for Best Rap/Sung Performance Talking Through His Next Move | DailyV… https://t.co/9QXllglbr6',\n",
       " 'Love that! @vaynersports https://t.co/EQs390SoFj',\n",
       " 'Fire https://t.co/IQnkWbseDI',\n",
       " 'https://t.co/3pJTIulN91 \\n\\n2018 Grammy Nominee for Best Rap Performance GoldLink Talking Through His Next Moves | Da… https://t.co/a0G63WLnur',\n",
       " 'Any large businesses or entrepreneurs in Texas or surrounding states? I’m coming to Houston for a talk in Feb but h… https://t.co/ysSjPGYw6u',\n",
       " 'https://t.co/RNxsa93dSr https://t.co/Xfl5nox3ji',\n",
       " 'This weeks playlist is 3picccccc !\\nhttps://t.co/YigVAdY0pJ its time to subscribe https://t.co/sgZPm6Thw0',\n",
       " ':-) ☀️🔥',\n",
       " '@edzitron Lol',\n",
       " 'Good cause I have 20+ years of hard and smart work to even be in position https://t.co/OYqznohCdP',\n",
       " 'I don’t want the panthers ...',\n",
       " 'https://t.co/e07o4fRpan https://t.co/lGTrcBczt9',\n",
       " 'Just nailed down an insane Pinot Noir for January  https://t.co/5H4i06NkPX',\n",
       " 'Wow! Review coming - need some hit up @WineLib_BW - Brandon give tweeter peeps a free shipping code  https://t.co/hqUNcNl8nJ',\n",
       " 'Did u listen today ? https://t.co/Yuk92bPEZL']"
      ]
     },
     "execution_count": 23,
     "metadata": {},
     "output_type": "execute_result"
    }
   ],
   "source": [
    "tweet_list = []\n",
    "for tweet in public_tweets:\n",
    "    tweet_list.append(tweet.text)\n",
    "tweet_list"
   ]
  },
  {
   "cell_type": "code",
   "execution_count": null,
   "metadata": {
    "collapsed": true
   },
   "outputs": [],
   "source": []
  }
 ],
 "metadata": {
  "kernelspec": {
   "display_name": "Python 3",
   "language": "python",
   "name": "python3"
  },
  "language_info": {
   "codemirror_mode": {
    "name": "ipython",
    "version": 3
   },
   "file_extension": ".py",
   "mimetype": "text/x-python",
   "name": "python",
   "nbconvert_exporter": "python",
   "pygments_lexer": "ipython3",
   "version": "3.6.3"
  }
 },
 "nbformat": 4,
 "nbformat_minor": 2
}

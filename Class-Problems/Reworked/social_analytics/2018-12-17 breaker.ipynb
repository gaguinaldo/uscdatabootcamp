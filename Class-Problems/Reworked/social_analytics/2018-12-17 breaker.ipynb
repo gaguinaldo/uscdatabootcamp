{
 "cells": [
  {
   "cell_type": "code",
   "execution_count": 4,
   "metadata": {},
   "outputs": [
    {
     "name": "stdout",
     "output_type": "stream",
     "text": [
      "{\n",
      "    \"contributors\": null,\n",
      "    \"coordinates\": null,\n",
      "    \"created_at\": \"Thu Mar 09 00:03:50 +0000 2017\",\n",
      "    \"entities\": {\n",
      "        \"hashtags\": [],\n",
      "        \"symbols\": [],\n",
      "        \"urls\": [\n",
      "            {\n",
      "                \"display_url\": \"twitter.com/i/web/status/8\\u2026\",\n",
      "                \"expanded_url\": \"https://twitter.com/i/web/status/839627753116827648\",\n",
      "                \"indices\": [\n",
      "                    114,\n",
      "                    137\n",
      "                ],\n",
      "                \"url\": \"https://t.co/zEOpWLibDy\"\n",
      "            }\n",
      "        ],\n",
      "        \"user_mentions\": []\n",
      "    },\n",
      "    \"favorite_count\": 58,\n",
      "    \"favorited\": false,\n",
      "    \"geo\": null,\n",
      "    \"id\": 839627753116827648,\n",
      "    \"id_str\": \"839627753116827648\",\n",
      "    \"in_reply_to_screen_name\": null,\n",
      "    \"in_reply_to_status_id\": null,\n",
      "    \"in_reply_to_status_id_str\": null,\n",
      "    \"in_reply_to_user_id\": null,\n",
      "    \"in_reply_to_user_id_str\": null,\n",
      "    \"is_quote_status\": false,\n",
      "    \"lang\": \"en\",\n",
      "    \"place\": null,\n",
      "    \"possibly_sensitive\": false,\n",
      "    \"retweet_count\": 37,\n",
      "    \"retweeted\": false,\n",
      "    \"source\": \"<a href=\\\"https://www.sprinklr.com\\\" rel=\\\"nofollow\\\">Sprinklr</a>\",\n",
      "    \"text\": \"Jon Huntsman, former ambassador to China under Obama, tapped as US ambassador to Russia, senior US officials say\\u2026 https://t.co/zEOpWLibDy\",\n",
      "    \"truncated\": true,\n",
      "    \"user\": {\n",
      "        \"contributors_enabled\": false,\n",
      "        \"created_at\": \"Fri Feb 09 00:35:02 +0000 2007\",\n",
      "        \"default_profile\": false,\n",
      "        \"default_profile_image\": false,\n",
      "        \"description\": \"It\\u2019s our job to #GoThere and tell the most difficult stories. Come with us!\\n\\n\\u27a1\\ufe0e For more breaking news updates follow @CNNBRK\",\n",
      "        \"entities\": {\n",
      "            \"description\": {\n",
      "                \"urls\": []\n",
      "            },\n",
      "            \"url\": {\n",
      "                \"urls\": [\n",
      "                    {\n",
      "                        \"display_url\": \"cnn.com\",\n",
      "                        \"expanded_url\": \"http://www.cnn.com\",\n",
      "                        \"indices\": [\n",
      "                            0,\n",
      "                            22\n",
      "                        ],\n",
      "                        \"url\": \"http://t.co/IaghNW8Xm2\"\n",
      "                    }\n",
      "                ]\n",
      "            }\n",
      "        },\n",
      "        \"favourites_count\": 1459,\n",
      "        \"follow_request_sent\": false,\n",
      "        \"followers_count\": 32365513,\n",
      "        \"following\": false,\n",
      "        \"friends_count\": 1120,\n",
      "        \"geo_enabled\": true,\n",
      "        \"has_extended_profile\": false,\n",
      "        \"id\": 759251,\n",
      "        \"id_str\": \"759251\",\n",
      "        \"is_translation_enabled\": true,\n",
      "        \"is_translator\": false,\n",
      "        \"lang\": \"en\",\n",
      "        \"listed_count\": 124546,\n",
      "        \"location\": \"\",\n",
      "        \"name\": \"CNN\",\n",
      "        \"notifications\": false,\n",
      "        \"profile_background_color\": \"323232\",\n",
      "        \"profile_background_image_url\": \"http://pbs.twimg.com/profile_background_images/515228058286952449/zVfUxqPl.jpeg\",\n",
      "        \"profile_background_image_url_https\": \"https://pbs.twimg.com/profile_background_images/515228058286952449/zVfUxqPl.jpeg\",\n",
      "        \"profile_background_tile\": false,\n",
      "        \"profile_banner_url\": \"https://pbs.twimg.com/profile_banners/759251/1486579954\",\n",
      "        \"profile_image_url\": \"http://pbs.twimg.com/profile_images/508960761826131968/LnvhR8ED_normal.png\",\n",
      "        \"profile_image_url_https\": \"https://pbs.twimg.com/profile_images/508960761826131968/LnvhR8ED_normal.png\",\n",
      "        \"profile_link_color\": \"004287\",\n",
      "        \"profile_sidebar_border_color\": \"000000\",\n",
      "        \"profile_sidebar_fill_color\": \"EEEEEE\",\n",
      "        \"profile_text_color\": \"000000\",\n",
      "        \"profile_use_background_image\": false,\n",
      "        \"protected\": false,\n",
      "        \"screen_name\": \"CNN\",\n",
      "        \"statuses_count\": 121107,\n",
      "        \"time_zone\": \"Eastern Time (US & Canada)\",\n",
      "        \"translator_type\": \"regular\",\n",
      "        \"url\": \"http://t.co/IaghNW8Xm2\",\n",
      "        \"utc_offset\": -18000,\n",
      "        \"verified\": true\n",
      "    }\n",
      "}\n"
     ]
    }
   ],
   "source": [
    "# Dependencies\n",
    "import json\n",
    "\n",
    "# Read JSONs\n",
    "sample = \"Sample.json\"\n",
    "\n",
    "# Sample 1 Data\n",
    "with open(sample) as data_file:\n",
    "    sample_data = json.load(data_file)\n",
    "\n",
    "    # Cleaned up JSON\n",
    "    print(\n",
    "        json.dumps(\n",
    "            sample_data[0],\n",
    "            sort_keys=True,\n",
    "            indent=4,\n",
    "            separators=(\n",
    "                ',',\n",
    "                ': ')))"
   ]
  },
  {
   "cell_type": "code",
   "execution_count": 3,
   "metadata": {
    "collapsed": true
   },
   "outputs": [],
   "source": [
    "# Using the Sample_Data provided above, write code to answer each of the\n",
    "    # following questions:\n",
    "\n",
    "    # Question 1: With what account are the tweets in the Sample associated?\n",
    "    # Question 2: How many followers does this account have associated with it?\n",
    "    # Question 3: How many tweets are included in the Sample?\n",
    "    # Question 4: How many tweets total has this account made?\n",
    "    # Question 5: What was the text in the most recent tweet?\n",
    "    #             Hint: You may need to look into \"encding utf-8 in python\"\n",
    "    # Question 6: What was the text associated with each of the tweets\n",
    "    #             included in this sample data?\n",
    "    # Question 7 (Bonus): Which of the user's tweets was most frequently\n",
    "    # retweeted? How many retweets were there?\n"
   ]
  },
  {
   "cell_type": "code",
   "execution_count": 11,
   "metadata": {},
   "outputs": [
    {
     "data": {
      "text/plain": [
       "'CNN'"
      ]
     },
     "execution_count": 11,
     "metadata": {},
     "output_type": "execute_result"
    }
   ],
   "source": [
    "# Question 1: With what account are the tweets in the Sample associated?\n",
    "\n",
    "sample_data[0]['user']['screen_name']"
   ]
  },
  {
   "cell_type": "code",
   "execution_count": 42,
   "metadata": {},
   "outputs": [
    {
     "data": {
      "text/plain": [
       "32365513"
      ]
     },
     "execution_count": 42,
     "metadata": {},
     "output_type": "execute_result"
    }
   ],
   "source": [
    "# Question 2: How many followers does this account have associated with it?\n",
    "sample_data[0]['user']['followers_count']"
   ]
  },
  {
   "cell_type": "code",
   "execution_count": 45,
   "metadata": {},
   "outputs": [
    {
     "data": {
      "text/plain": [
       "'Jon Huntsman, former ambassador to China under Obama, tapped as US ambassador to Russia, senior US officials say… https://t.co/zEOpWLibDy'"
      ]
     },
     "execution_count": 45,
     "metadata": {},
     "output_type": "execute_result"
    }
   ],
   "source": [
    " # Question 3: How many tweets are included in the Sample?\n",
    "sample_data[0]['text']\n",
    "#One tweet included in the sample"
   ]
  },
  {
   "cell_type": "code",
   "execution_count": 48,
   "metadata": {},
   "outputs": [
    {
     "data": {
      "text/plain": [
       "121107"
      ]
     },
     "execution_count": 48,
     "metadata": {},
     "output_type": "execute_result"
    }
   ],
   "source": [
    "# Question 4: How many tweets total has this account made?\n",
    "sample_data[0]['user']['statuses_count']"
   ]
  },
  {
   "cell_type": "code",
   "execution_count": 49,
   "metadata": {},
   "outputs": [
    {
     "data": {
      "text/plain": [
       "'Jon Huntsman, former ambassador to China under Obama, tapped as US ambassador to Russia, senior US officials say… https://t.co/zEOpWLibDy'"
      ]
     },
     "execution_count": 49,
     "metadata": {},
     "output_type": "execute_result"
    }
   ],
   "source": [
    "# Question 5: What was the text in the most recent tweet?\n",
    "#             Hint: You may need to look into \"encding utf-8 in python\"\n",
    "sample_data[0]['text']\n",
    "#One tweet included in the sample"
   ]
  }
 ],
 "metadata": {
  "kernelspec": {
   "display_name": "Python 3",
   "language": "python",
   "name": "python3"
  },
  "language_info": {
   "codemirror_mode": {
    "name": "ipython",
    "version": 3
   },
   "file_extension": ".py",
   "mimetype": "text/x-python",
   "name": "python",
   "nbconvert_exporter": "python",
   "pygments_lexer": "ipython3",
   "version": "3.6.3"
  }
 },
 "nbformat": 4,
 "nbformat_minor": 2
}

{
 "cells": [
  {
   "cell_type": "markdown",
   "metadata": {},
   "source": [
    "# Cities & Weather\n",
    "\n",
    "This activity provides practice making API calls iteratively.\n",
    "\n",
    "## Instructions\n",
    "\n",
    "For this exercise, either work with `cities.csv` as provided, or add a few cities of your own. If you finish the main challenge and feel ambitious, try using a subset of [CountriesToCities.json](https://github.com/David-Haim/CountriesToCitiesJSON) for this activity.\n",
    "\n",
    "* Load your `cities.csv` file, and use it to create a list of city names you can search for.\n",
    "\n",
    "* Request weather information on each city, and store each response in a list.\n",
    "\n",
    "* Collect longitude and atmospheric pressure data for each city. Use the API documentation to determine which keys to extract.\n",
    "\n",
    "* Put this data into a dict, and load that dict into a Pandas DataFrame.\n",
    "\n",
    "* Use matplotlib to create a scatter plot of pressures vs longitudes."
   ]
  },
  {
   "cell_type": "code",
   "execution_count": null,
   "metadata": {
    "collapsed": true
   },
   "outputs": [],
   "source": []
  }
 ],
 "metadata": {
  "kernelspec": {
   "display_name": "Python 3",
   "language": "python",
   "name": "python3"
  },
  "language_info": {
   "codemirror_mode": {
    "name": "ipython",
    "version": 3
   },
   "file_extension": ".py",
   "mimetype": "text/x-python",
   "name": "python",
   "nbconvert_exporter": "python",
   "pygments_lexer": "ipython3",
   "version": "3.6.3"
  }
 },
 "nbformat": 4,
 "nbformat_minor": 2
}

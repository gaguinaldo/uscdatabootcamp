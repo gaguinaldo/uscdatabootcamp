{
 "cells": [
  {
   "cell_type": "markdown",
   "metadata": {},
   "source": [
    "# Weather in Bujumbura\n",
    "\n",
    "This activity gives students practice with making API calls and handling responses.\n",
    "\n",
    "## Instructions\n",
    "\n",
    "* Save all of your \"config\" information (i.e., your API key; the base URL; etc.) before moving on.\n",
    "\n",
    "* Build your query URL. Check the documentation to figure out how to request temperatures in Celsius.\n",
    "\n",
    "* Make your request, and save the API's response.\n",
    "\n",
    "* Retrieve the current temperature in Bujumbura from the JSON response.\n",
    "\n",
    "* Print the temperature to the console.\n",
    "\n",
    "## Bonus\n",
    "\n",
    "* Augment your code to report the temperature in both Fahrenheit _and_ Celsius."
   ]
  },
  {
   "cell_type": "code",
   "execution_count": 3,
   "metadata": {
    "collapsed": true
   },
   "outputs": [],
   "source": [
    "import json\n",
    "import pandas as pd\n",
    "import requests as r"
   ]
  },
  {
   "cell_type": "code",
   "execution_count": 25,
   "metadata": {},
   "outputs": [],
   "source": [
    "apikey = '&APPID=0c715aff73757bce5f32aba6da14fd45'\n",
    "url = 'http://api.openweathermap.org/data/2.5/weather?'\n",
    "query = 'bujumbura'\n",
    "\n",
    "query_url_imperial = url + 'q=' + query + apikey + '&units=imperial'\n",
    "query_url_metric = url + 'q=' + query + apikey + '&units=metric'"
   ]
  },
  {
   "cell_type": "code",
   "execution_count": 17,
   "metadata": {},
   "outputs": [
    {
     "data": {
      "text/plain": [
       "{'base': 'stations',\n",
       " 'clouds': {'all': 12},\n",
       " 'cod': 200,\n",
       " 'coord': {'lat': -3.38, 'lon': 29.36},\n",
       " 'dt': 1513576047,\n",
       " 'id': 425378,\n",
       " 'main': {'grnd_level': 857.41,\n",
       "  'humidity': 100,\n",
       "  'pressure': 857.41,\n",
       "  'sea_level': 1023.88,\n",
       "  'temp': 65.61,\n",
       "  'temp_max': 65.61,\n",
       "  'temp_min': 65.61},\n",
       " 'name': 'Bujumbura',\n",
       " 'sys': {'country': 'BI',\n",
       "  'message': 0.1633,\n",
       "  'sunrise': 1513568983,\n",
       "  'sunset': 1513613338},\n",
       " 'weather': [{'description': 'few clouds',\n",
       "   'icon': '02d',\n",
       "   'id': 801,\n",
       "   'main': 'Clouds'}],\n",
       " 'wind': {'deg': 36.0049, 'speed': 3.94}}"
      ]
     },
     "execution_count": 17,
     "metadata": {},
     "output_type": "execute_result"
    }
   ],
   "source": [
    "response = r.get(query_url_imperial)\n",
    "response_data = response.json()\n",
    "response_data"
   ]
  },
  {
   "cell_type": "code",
   "execution_count": 21,
   "metadata": {},
   "outputs": [
    {
     "data": {
      "text/plain": [
       "65.61"
      ]
     },
     "execution_count": 21,
     "metadata": {},
     "output_type": "execute_result"
    }
   ],
   "source": [
    "temp_f = response_data['main']['temp']\n",
    "temp_f"
   ]
  },
  {
   "cell_type": "code",
   "execution_count": 23,
   "metadata": {},
   "outputs": [
    {
     "data": {
      "text/plain": [
       "18.67222222222222"
      ]
     },
     "execution_count": 23,
     "metadata": {},
     "output_type": "execute_result"
    }
   ],
   "source": [
    "temp_c = (temp_f - 32) / 1.8\n",
    "temp_c"
   ]
  },
  {
   "cell_type": "code",
   "execution_count": 26,
   "metadata": {},
   "outputs": [
    {
     "data": {
      "text/plain": [
       "{'base': 'stations',\n",
       " 'clouds': {'all': 12},\n",
       " 'cod': 200,\n",
       " 'coord': {'lat': -3.38, 'lon': 29.36},\n",
       " 'dt': 1513576321,\n",
       " 'id': 425378,\n",
       " 'main': {'grnd_level': 857.41,\n",
       "  'humidity': 100,\n",
       "  'pressure': 857.41,\n",
       "  'sea_level': 1023.88,\n",
       "  'temp': 18.68,\n",
       "  'temp_max': 18.68,\n",
       "  'temp_min': 18.68},\n",
       " 'name': 'Bujumbura',\n",
       " 'sys': {'country': 'BI',\n",
       "  'message': 0.165,\n",
       "  'sunrise': 1513568983,\n",
       "  'sunset': 1513613338},\n",
       " 'weather': [{'description': 'few clouds',\n",
       "   'icon': '02d',\n",
       "   'id': 801,\n",
       "   'main': 'Clouds'}],\n",
       " 'wind': {'deg': 36.0049, 'speed': 1.76}}"
      ]
     },
     "execution_count": 26,
     "metadata": {},
     "output_type": "execute_result"
    }
   ],
   "source": [
    "response = r.get(query_url_metric)\n",
    "response_data = response.json()\n",
    "response_data"
   ]
  },
  {
   "cell_type": "code",
   "execution_count": 29,
   "metadata": {},
   "outputs": [
    {
     "data": {
      "text/plain": [
       "18.68"
      ]
     },
     "execution_count": 29,
     "metadata": {},
     "output_type": "execute_result"
    }
   ],
   "source": [
    "temp_c = response_data['main']['temp']\n",
    "temp_c"
   ]
  }
 ],
 "metadata": {
  "kernelspec": {
   "display_name": "Python 3",
   "language": "python",
   "name": "python3"
  },
  "language_info": {
   "codemirror_mode": {
    "name": "ipython",
    "version": 3
   },
   "file_extension": ".py",
   "mimetype": "text/x-python",
   "name": "python",
   "nbconvert_exporter": "python",
   "pygments_lexer": "ipython3",
   "version": "3.6.3"
  }
 },
 "nbformat": 4,
 "nbformat_minor": 2
}

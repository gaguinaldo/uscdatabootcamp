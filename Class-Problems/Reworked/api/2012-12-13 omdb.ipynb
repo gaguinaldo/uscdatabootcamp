{
 "cells": [
  {
   "cell_type": "markdown",
   "metadata": {},
   "source": [
    "# Instructions\n",
    "\n",
    "Read the OMDb documentation, and make a few API calls to\n",
    "get some information about your favorite movie.\n",
    "\n",
    "You are free to duplicate the demonstration, or explore\n",
    "more freely, as you wish. Just be sure to print two or three\n",
    "properties of the JSON you retrieve."
   ]
  },
  {
   "cell_type": "code",
   "execution_count": 1,
   "metadata": {
    "collapsed": true
   },
   "outputs": [],
   "source": [
    "import requests as r\n",
    "import json\n",
    "import pandas as pd"
   ]
  },
  {
   "cell_type": "code",
   "execution_count": 2,
   "metadata": {
    "collapsed": true
   },
   "outputs": [],
   "source": [
    "api_key = '7c44b61b'\n",
    "url = 'http://www.omdbapi.com/?'"
   ]
  },
  {
   "cell_type": "code",
   "execution_count": 3,
   "metadata": {
    "collapsed": true
   },
   "outputs": [],
   "source": [
    "movie_name = 'titanic'"
   ]
  },
  {
   "cell_type": "code",
   "execution_count": 4,
   "metadata": {},
   "outputs": [
    {
     "data": {
      "text/plain": [
       "'http://www.omdbapi.com/?apikey=7c44b61b&t=titanic'"
      ]
     },
     "execution_count": 4,
     "metadata": {},
     "output_type": "execute_result"
    }
   ],
   "source": [
    "query_url = url + 'apikey=' + api_key + '&' + 't=' + movie_name\n",
    "query_url"
   ]
  },
  {
   "cell_type": "code",
   "execution_count": 5,
   "metadata": {},
   "outputs": [
    {
     "data": {
      "text/plain": [
       "<Response [200]>"
      ]
     },
     "execution_count": 5,
     "metadata": {},
     "output_type": "execute_result"
    }
   ],
   "source": [
    "response = r.get(query_url)\n",
    "response"
   ]
  },
  {
   "cell_type": "code",
   "execution_count": 6,
   "metadata": {},
   "outputs": [
    {
     "data": {
      "text/plain": [
       "{'Actors': 'Leonardo DiCaprio, Kate Winslet, Billy Zane, Kathy Bates',\n",
       " 'Awards': 'Won 11 Oscars. Another 110 wins & 75 nominations.',\n",
       " 'BoxOffice': 'N/A',\n",
       " 'Country': 'USA',\n",
       " 'DVD': '10 Sep 2012',\n",
       " 'Director': 'James Cameron',\n",
       " 'Genre': 'Drama, Romance',\n",
       " 'Language': 'English, Swedish',\n",
       " 'Metascore': '74',\n",
       " 'Plot': 'A seventeen-year-old aristocrat falls in love with a kind but poor artist aboard the luxurious, ill-fated R.M.S. Titanic.',\n",
       " 'Poster': 'https://images-na.ssl-images-amazon.com/images/M/MV5BMDdmZGU3NDQtY2E5My00ZTliLWIzOTUtMTY4ZGI1YjdiNjk3XkEyXkFqcGdeQXVyNTA4NzY1MzY@._V1_SX300.jpg',\n",
       " 'Production': 'Paramount Pictures',\n",
       " 'Rated': 'PG-13',\n",
       " 'Ratings': [{'Source': 'Internet Movie Database', 'Value': '7.8/10'},\n",
       "  {'Source': 'Rotten Tomatoes', 'Value': '88%'},\n",
       "  {'Source': 'Metacritic', 'Value': '74/100'}],\n",
       " 'Released': '19 Dec 1997',\n",
       " 'Response': 'True',\n",
       " 'Runtime': '194 min',\n",
       " 'Title': 'Titanic',\n",
       " 'Type': 'movie',\n",
       " 'Website': 'http://www.titanicmovie.com/',\n",
       " 'Writer': 'James Cameron',\n",
       " 'Year': '1997',\n",
       " 'imdbID': 'tt0120338',\n",
       " 'imdbRating': '7.8',\n",
       " 'imdbVotes': '869,216'}"
      ]
     },
     "execution_count": 6,
     "metadata": {},
     "output_type": "execute_result"
    }
   ],
   "source": [
    "json_data = response.json()\n",
    "json_data"
   ]
  },
  {
   "cell_type": "code",
   "execution_count": 7,
   "metadata": {},
   "outputs": [
    {
     "data": {
      "text/plain": [
       "'Titanic'"
      ]
     },
     "execution_count": 7,
     "metadata": {},
     "output_type": "execute_result"
    }
   ],
   "source": [
    "json_data['Title']"
   ]
  },
  {
   "cell_type": "code",
   "execution_count": 8,
   "metadata": {},
   "outputs": [
    {
     "data": {
      "text/plain": [
       "'A seventeen-year-old aristocrat falls in love with a kind but poor artist aboard the luxurious, ill-fated R.M.S. Titanic.'"
      ]
     },
     "execution_count": 8,
     "metadata": {},
     "output_type": "execute_result"
    }
   ],
   "source": [
    "json_data['Plot']"
   ]
  },
  {
   "cell_type": "code",
   "execution_count": 9,
   "metadata": {},
   "outputs": [
    {
     "data": {
      "text/plain": [
       "'7.8'"
      ]
     },
     "execution_count": 9,
     "metadata": {},
     "output_type": "execute_result"
    }
   ],
   "source": [
    "json_data['imdbRating']"
   ]
  },
  {
   "cell_type": "code",
   "execution_count": 10,
   "metadata": {},
   "outputs": [
    {
     "data": {
      "text/plain": [
       "'869,216'"
      ]
     },
     "execution_count": 10,
     "metadata": {},
     "output_type": "execute_result"
    }
   ],
   "source": [
    "json_data['imdbVotes']"
   ]
  },
  {
   "cell_type": "code",
   "execution_count": 11,
   "metadata": {
    "collapsed": true
   },
   "outputs": [],
   "source": [
    "movie_list = ['titanic', 'pulp+fiction', 'The Godfather', 'inglorious+bastards', 'star+wars', 'rounders', 'the+social+network', 'The Shawshank Redemption']"
   ]
  },
  {
   "cell_type": "code",
   "execution_count": 12,
   "metadata": {
    "collapsed": true
   },
   "outputs": [],
   "source": [
    "query_url_list = [(url + 'apikey=' + api_key + '&' + 't=' + name) for name in movie_list]"
   ]
  },
  {
   "cell_type": "code",
   "execution_count": 13,
   "metadata": {},
   "outputs": [
    {
     "name": "stdout",
     "output_type": "stream",
     "text": [
      "['A seventeen-year-old aristocrat falls in love with a kind but poor artist aboard the luxurious, ill-fated R.M.S. Titanic.', \"The lives of two mob hit men, a boxer, a gangster's wife, and a pair of diner bandits intertwine in four tales of violence and redemption.\", 'The aging patriarch of an organized crime dynasty transfers control of his clandestine empire to his reluctant son.', 'In 1944 France, a group of escaped American military prisoners en route to Switzerland volunteers to steal a Nazi V2 rocket warhead for the Allies.', \"Luke Skywalker joins forces with a Jedi Knight, a cocky pilot, a Wookiee, and two droids to save the galaxy from the Empire's world-destroying battle-station, while also attempting to rescue Princess Leia from the evil Darth Vader.\", 'A young man is a reformed gambler who must return to playing big stakes poker to help a friend pay off loan sharks, while balancing his relationship with his girlfriend and his commitments to law school.', 'Harvard student Mark Zuckerberg creates the social networking site that would become known as Facebook, but is later sued by two brothers who claimed he stole their idea, and the co-founder who was later squeezed out of the business.', 'Two imprisoned men bond over a number of years, finding solace and eventual redemption through acts of common decency.']\n",
      "['869,216', '1,471,678', '1,284,325', '7,791', '1,009,663', '128,674', '525,654', '1,874,788']\n",
      "['Titanic', 'Pulp Fiction', 'The Godfather', 'The Inglorious Bastards', 'Star Wars: Episode IV - A New Hope', 'Rounders', 'The Social Network', 'The Shawshank Redemption']\n"
     ]
    }
   ],
   "source": [
    "plot_list = []\n",
    "vote_list = []\n",
    "title_list = []\n",
    "for title in query_url_list:\n",
    "    \n",
    "    response = r.get(title)\n",
    "\n",
    "    plot_data = response.json()['Plot']\n",
    "    plot_list.append(plot_data)\n",
    "    \n",
    "    vote_data = response.json()['imdbVotes']\n",
    "    vote_list.append(vote_data)\n",
    "    \n",
    "    title_data = response.json()['Title']\n",
    "    title_list.append(title_data)\n",
    "print(plot_list)\n",
    "print(vote_list)\n",
    "print(title_list)"
   ]
  },
  {
   "cell_type": "code",
   "execution_count": 14,
   "metadata": {},
   "outputs": [
    {
     "data": {
      "text/plain": [
       "{'plot': ['A seventeen-year-old aristocrat falls in love with a kind but poor artist aboard the luxurious, ill-fated R.M.S. Titanic.',\n",
       "  \"The lives of two mob hit men, a boxer, a gangster's wife, and a pair of diner bandits intertwine in four tales of violence and redemption.\",\n",
       "  'The aging patriarch of an organized crime dynasty transfers control of his clandestine empire to his reluctant son.',\n",
       "  'In 1944 France, a group of escaped American military prisoners en route to Switzerland volunteers to steal a Nazi V2 rocket warhead for the Allies.',\n",
       "  \"Luke Skywalker joins forces with a Jedi Knight, a cocky pilot, a Wookiee, and two droids to save the galaxy from the Empire's world-destroying battle-station, while also attempting to rescue Princess Leia from the evil Darth Vader.\",\n",
       "  'A young man is a reformed gambler who must return to playing big stakes poker to help a friend pay off loan sharks, while balancing his relationship with his girlfriend and his commitments to law school.',\n",
       "  'Harvard student Mark Zuckerberg creates the social networking site that would become known as Facebook, but is later sued by two brothers who claimed he stole their idea, and the co-founder who was later squeezed out of the business.',\n",
       "  'Two imprisoned men bond over a number of years, finding solace and eventual redemption through acts of common decency.'],\n",
       " 'titles': ['Titanic',\n",
       "  'Pulp Fiction',\n",
       "  'The Godfather',\n",
       "  'The Inglorious Bastards',\n",
       "  'Star Wars: Episode IV - A New Hope',\n",
       "  'Rounders',\n",
       "  'The Social Network',\n",
       "  'The Shawshank Redemption'],\n",
       " 'votes': ['869,216',\n",
       "  '1,471,678',\n",
       "  '1,284,325',\n",
       "  '7,791',\n",
       "  '1,009,663',\n",
       "  '128,674',\n",
       "  '525,654',\n",
       "  '1,874,788']}"
      ]
     },
     "execution_count": 14,
     "metadata": {},
     "output_type": "execute_result"
    }
   ],
   "source": [
    "movie_dict = {'plot': plot_list,\n",
    "              'votes': vote_list,\n",
    "              'titles': title_list}\n",
    "movie_dict"
   ]
  },
  {
   "cell_type": "code",
   "execution_count": 15,
   "metadata": {},
   "outputs": [
    {
     "data": {
      "text/html": [
       "<div>\n",
       "<style>\n",
       "    .dataframe thead tr:only-child th {\n",
       "        text-align: right;\n",
       "    }\n",
       "\n",
       "    .dataframe thead th {\n",
       "        text-align: left;\n",
       "    }\n",
       "\n",
       "    .dataframe tbody tr th {\n",
       "        vertical-align: top;\n",
       "    }\n",
       "</style>\n",
       "<table border=\"1\" class=\"dataframe\">\n",
       "  <thead>\n",
       "    <tr style=\"text-align: right;\">\n",
       "      <th></th>\n",
       "      <th>plot</th>\n",
       "      <th>titles</th>\n",
       "      <th>votes</th>\n",
       "    </tr>\n",
       "  </thead>\n",
       "  <tbody>\n",
       "    <tr>\n",
       "      <th>0</th>\n",
       "      <td>A seventeen-year-old aristocrat falls in love ...</td>\n",
       "      <td>Titanic</td>\n",
       "      <td>869,216</td>\n",
       "    </tr>\n",
       "    <tr>\n",
       "      <th>1</th>\n",
       "      <td>The lives of two mob hit men, a boxer, a gangs...</td>\n",
       "      <td>Pulp Fiction</td>\n",
       "      <td>1,471,678</td>\n",
       "    </tr>\n",
       "    <tr>\n",
       "      <th>2</th>\n",
       "      <td>The aging patriarch of an organized crime dyna...</td>\n",
       "      <td>The Godfather</td>\n",
       "      <td>1,284,325</td>\n",
       "    </tr>\n",
       "    <tr>\n",
       "      <th>3</th>\n",
       "      <td>In 1944 France, a group of escaped American mi...</td>\n",
       "      <td>The Inglorious Bastards</td>\n",
       "      <td>7,791</td>\n",
       "    </tr>\n",
       "    <tr>\n",
       "      <th>4</th>\n",
       "      <td>Luke Skywalker joins forces with a Jedi Knight...</td>\n",
       "      <td>Star Wars: Episode IV - A New Hope</td>\n",
       "      <td>1,009,663</td>\n",
       "    </tr>\n",
       "    <tr>\n",
       "      <th>5</th>\n",
       "      <td>A young man is a reformed gambler who must ret...</td>\n",
       "      <td>Rounders</td>\n",
       "      <td>128,674</td>\n",
       "    </tr>\n",
       "    <tr>\n",
       "      <th>6</th>\n",
       "      <td>Harvard student Mark Zuckerberg creates the so...</td>\n",
       "      <td>The Social Network</td>\n",
       "      <td>525,654</td>\n",
       "    </tr>\n",
       "    <tr>\n",
       "      <th>7</th>\n",
       "      <td>Two imprisoned men bond over a number of years...</td>\n",
       "      <td>The Shawshank Redemption</td>\n",
       "      <td>1,874,788</td>\n",
       "    </tr>\n",
       "  </tbody>\n",
       "</table>\n",
       "</div>"
      ],
      "text/plain": [
       "                                                plot  \\\n",
       "0  A seventeen-year-old aristocrat falls in love ...   \n",
       "1  The lives of two mob hit men, a boxer, a gangs...   \n",
       "2  The aging patriarch of an organized crime dyna...   \n",
       "3  In 1944 France, a group of escaped American mi...   \n",
       "4  Luke Skywalker joins forces with a Jedi Knight...   \n",
       "5  A young man is a reformed gambler who must ret...   \n",
       "6  Harvard student Mark Zuckerberg creates the so...   \n",
       "7  Two imprisoned men bond over a number of years...   \n",
       "\n",
       "                               titles      votes  \n",
       "0                             Titanic    869,216  \n",
       "1                        Pulp Fiction  1,471,678  \n",
       "2                       The Godfather  1,284,325  \n",
       "3             The Inglorious Bastards      7,791  \n",
       "4  Star Wars: Episode IV - A New Hope  1,009,663  \n",
       "5                            Rounders    128,674  \n",
       "6                  The Social Network    525,654  \n",
       "7            The Shawshank Redemption  1,874,788  "
      ]
     },
     "execution_count": 15,
     "metadata": {},
     "output_type": "execute_result"
    }
   ],
   "source": [
    "df = pd.DataFrame(movie_dict)\n",
    "df"
   ]
  },
  {
   "cell_type": "markdown",
   "metadata": {},
   "source": [
    "# Instructions\n",
    "\n",
    "Use the OMDb API to retrieve and print the following information.\n",
    "\n",
    "* Who was the director of the movie **Aliens**?\n",
    "\n",
    "* What was the movie **Gladiator** rated?\n",
    "\n",
    "* What year was **50 First Dates** released? \n",
    "\n",
    "* Who wrote **Moana**?\n",
    "\n",
    "* What was the plot of the movie **Sing**?"
   ]
  },
  {
   "cell_type": "code",
   "execution_count": 16,
   "metadata": {
    "collapsed": true
   },
   "outputs": [],
   "source": [
    "movie_list = ['aliens', 'gladiator', '50 first dates', 'moana', 'sing']\n",
    "query_url = [(url + 'apikey=' + api_key + '&' + 't=' + name) for name in movie_list]"
   ]
  },
  {
   "cell_type": "code",
   "execution_count": 17,
   "metadata": {
    "collapsed": true
   },
   "outputs": [],
   "source": [
    "dir_list = []\n",
    "rating_list = []\n",
    "year_list = []\n",
    "writer_list = []\n",
    "plot_list = []\n",
    "\n",
    "for name in query_url:\n",
    "    response = r.get(name)\n",
    "    dir_list.append(response.json()['Director'])\n",
    "    rating_list.append(response.json()['Rated'])\n",
    "    year_list.append(response.json()['Year'])\n",
    "    writer_list.append(response.json()['Writer'])\n",
    "    plot_list.append(response.json()['Plot'])"
   ]
  },
  {
   "cell_type": "code",
   "execution_count": 18,
   "metadata": {
    "collapsed": true
   },
   "outputs": [],
   "source": [
    "movie_dict = {'director': dir_list,\n",
    "         'rating': rating_list,\n",
    "         'year': year_list,\n",
    "        'writer': writer_list,\n",
    "             'plot': plot_list}"
   ]
  },
  {
   "cell_type": "code",
   "execution_count": 19,
   "metadata": {},
   "outputs": [
    {
     "data": {
      "text/html": [
       "<div>\n",
       "<style>\n",
       "    .dataframe thead tr:only-child th {\n",
       "        text-align: right;\n",
       "    }\n",
       "\n",
       "    .dataframe thead th {\n",
       "        text-align: left;\n",
       "    }\n",
       "\n",
       "    .dataframe tbody tr th {\n",
       "        vertical-align: top;\n",
       "    }\n",
       "</style>\n",
       "<table border=\"1\" class=\"dataframe\">\n",
       "  <thead>\n",
       "    <tr style=\"text-align: right;\">\n",
       "      <th></th>\n",
       "      <th>director</th>\n",
       "      <th>plot</th>\n",
       "      <th>rating</th>\n",
       "      <th>writer</th>\n",
       "      <th>year</th>\n",
       "    </tr>\n",
       "  </thead>\n",
       "  <tbody>\n",
       "    <tr>\n",
       "      <th>0</th>\n",
       "      <td>James Cameron</td>\n",
       "      <td>57 years later, Ellen Ripley is rescued by a d...</td>\n",
       "      <td>R</td>\n",
       "      <td>James Cameron (story by), David Giler (story b...</td>\n",
       "      <td>1986</td>\n",
       "    </tr>\n",
       "    <tr>\n",
       "      <th>1</th>\n",
       "      <td>Ridley Scott</td>\n",
       "      <td>When a Roman General is betrayed, and his fami...</td>\n",
       "      <td>R</td>\n",
       "      <td>David Franzoni (story), David Franzoni (screen...</td>\n",
       "      <td>2000</td>\n",
       "    </tr>\n",
       "    <tr>\n",
       "      <th>2</th>\n",
       "      <td>Peter Segal</td>\n",
       "      <td>Henry Roth is a man afraid of commitment up un...</td>\n",
       "      <td>PG-13</td>\n",
       "      <td>George Wing</td>\n",
       "      <td>2004</td>\n",
       "    </tr>\n",
       "    <tr>\n",
       "      <th>3</th>\n",
       "      <td>Ron Clements, John Musker, Don Hall(co-directo...</td>\n",
       "      <td>In Ancient Polynesia, when a terrible curse in...</td>\n",
       "      <td>PG</td>\n",
       "      <td>Jared Bush (screenplay by), Ron Clements (stor...</td>\n",
       "      <td>2016</td>\n",
       "    </tr>\n",
       "    <tr>\n",
       "      <th>4</th>\n",
       "      <td>Garth Jennings, Christophe Lourdelet(co-director)</td>\n",
       "      <td>In a city of humanoid animals, a hustling thea...</td>\n",
       "      <td>PG</td>\n",
       "      <td>Garth Jennings</td>\n",
       "      <td>2016</td>\n",
       "    </tr>\n",
       "  </tbody>\n",
       "</table>\n",
       "</div>"
      ],
      "text/plain": [
       "                                            director  \\\n",
       "0                                      James Cameron   \n",
       "1                                       Ridley Scott   \n",
       "2                                        Peter Segal   \n",
       "3  Ron Clements, John Musker, Don Hall(co-directo...   \n",
       "4  Garth Jennings, Christophe Lourdelet(co-director)   \n",
       "\n",
       "                                                plot rating  \\\n",
       "0  57 years later, Ellen Ripley is rescued by a d...      R   \n",
       "1  When a Roman General is betrayed, and his fami...      R   \n",
       "2  Henry Roth is a man afraid of commitment up un...  PG-13   \n",
       "3  In Ancient Polynesia, when a terrible curse in...     PG   \n",
       "4  In a city of humanoid animals, a hustling thea...     PG   \n",
       "\n",
       "                                              writer  year  \n",
       "0  James Cameron (story by), David Giler (story b...  1986  \n",
       "1  David Franzoni (story), David Franzoni (screen...  2000  \n",
       "2                                        George Wing  2004  \n",
       "3  Jared Bush (screenplay by), Ron Clements (stor...  2016  \n",
       "4                                     Garth Jennings  2016  "
      ]
     },
     "execution_count": 19,
     "metadata": {},
     "output_type": "execute_result"
    }
   ],
   "source": [
    "df = pd.DataFrame(movie_dict)\n",
    "df"
   ]
  },
  {
   "cell_type": "markdown",
   "metadata": {
    "collapsed": true
   },
   "source": [
    "# Instructions\n",
    "\n",
    "Consider the following list of movie titles.\n",
    "\n",
    "```python\n",
    "movies = [\"Aliens\", \"Sing\", \"Moana\"]\n",
    "```\n",
    "\n",
    "Make a request to the OMDb API for each movie in the list. Then:\n",
    "\n",
    "1. Print the director of each movie\n",
    "\n",
    "2. Save the responses in another list"
   ]
  },
  {
   "cell_type": "code",
   "execution_count": 20,
   "metadata": {},
   "outputs": [
    {
     "data": {
      "text/plain": [
       "['http://www.omdbapi.com/?apikey=7c44b61b&t=Aliens',\n",
       " 'http://www.omdbapi.com/?apikey=7c44b61b&t=Sing',\n",
       " 'http://www.omdbapi.com/?apikey=7c44b61b&t=Moana']"
      ]
     },
     "execution_count": 20,
     "metadata": {},
     "output_type": "execute_result"
    }
   ],
   "source": [
    "movies = [\"Aliens\", \"Sing\", \"Moana\"]\n",
    "query_url = [(url + 'apikey=' + api_key + '&' + 't=' + name) for name in movies]\n",
    "query_url"
   ]
  },
  {
   "cell_type": "code",
   "execution_count": 21,
   "metadata": {},
   "outputs": [
    {
     "data": {
      "text/plain": [
       "['James Cameron',\n",
       " 'Garth Jennings, Christophe Lourdelet(co-director)',\n",
       " 'Ron Clements, John Musker, Don Hall(co-director), Chris Williams(co-director)']"
      ]
     },
     "execution_count": 21,
     "metadata": {},
     "output_type": "execute_result"
    }
   ],
   "source": [
    "dir_list = []\n",
    "for name in query_url:\n",
    "    response = r.get(name)\n",
    "    dir_list.append(response.json()['Director'])\n",
    "dir_list"
   ]
  }
 ],
 "metadata": {
  "kernelspec": {
   "display_name": "Python 3",
   "language": "python",
   "name": "python3"
  },
  "language_info": {
   "codemirror_mode": {
    "name": "ipython",
    "version": 3
   },
   "file_extension": ".py",
   "mimetype": "text/x-python",
   "name": "python",
   "nbconvert_exporter": "python",
   "pygments_lexer": "ipython3",
   "version": "3.6.3"
  }
 },
 "nbformat": 4,
 "nbformat_minor": 2
}

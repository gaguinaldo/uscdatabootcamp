{
 "cells": [
  {
   "cell_type": "markdown",
   "metadata": {},
   "source": [
    "# Instructions\n",
    "\n",
    "* Save the NYT API endpoint to a variable. Make sure you include the right query parameter to retrieve JSON data!\n",
    "\n",
    "* Register for and save your API Key to a variable.\n",
    "\n",
    "* Decide on a search term, and save it to a variable.\n",
    "\n",
    "* Limit your search to articles published within a range of datesâ€”for example, only articles published in 2014. _Hint_: Read the documentation on `end_date`.\n",
    "\n",
    "* Build your query URL, and save it to a variable.\n",
    "\n",
    "* Retrieve your list of articles with a GET request.\n",
    "\n",
    "* Take a look at the documentation. How do you get ahold of the articles in the response?\n",
    "\n",
    "* Store each article in the response inside of a list.\n",
    "\n",
    "* Print a `snippet` from each article.\n",
    "\n",
    "* As a bonus, try to figure out how we could get 30 results. _Hint_: Look up the `page` query parameter. If you get a message saying you've exceeded your rate limit, don't fretâ€”you've solved the problem."
   ]
  },
  {
   "cell_type": "code",
   "execution_count": 78,
   "metadata": {
    "collapsed": true
   },
   "outputs": [],
   "source": [
    "import requests as r\n",
    "import json\n",
    "import pandas as pd"
   ]
  },
  {
   "cell_type": "code",
   "execution_count": 120,
   "metadata": {},
   "outputs": [],
   "source": [
    "url = 'https://api.nytimes.com/svc/search/v2/articlesearch.json?'\n",
    "api_key = '28ba2fc2a5bc43928607dc31f309622e'\n",
    "q = 'yeezy'\n",
    "query_url = (url + '?' + 'q=' + query + '&' + 'api-key=' + api_key)\n",
    "query = url + \"api-key=\" + api_key + \"&q=\" + q"
   ]
  },
  {
   "cell_type": "code",
   "execution_count": 136,
   "metadata": {},
   "outputs": [],
   "source": [
    "response_data = r.get(query).json()\n",
    "name_list = []\n",
    "url_list = []\n",
    "headlines = [response_data for response_data in response_data['response']['docs']]\n",
    "for num in headlines:\n",
    "        name_list.append(num['headline']['main'])\n",
    "        url_list.append(num['web_url'])"
   ]
  },
  {
   "cell_type": "code",
   "execution_count": 134,
   "metadata": {},
   "outputs": [],
   "source": [
    "nyt_dict= {'headlines': name_list, 'url': url_list}"
   ]
  },
  {
   "cell_type": "code",
   "execution_count": 138,
   "metadata": {},
   "outputs": [
    {
     "data": {
      "text/html": [
       "<div>\n",
       "<style>\n",
       "    .dataframe thead tr:only-child th {\n",
       "        text-align: right;\n",
       "    }\n",
       "\n",
       "    .dataframe thead th {\n",
       "        text-align: left;\n",
       "    }\n",
       "\n",
       "    .dataframe tbody tr th {\n",
       "        vertical-align: top;\n",
       "    }\n",
       "</style>\n",
       "<table border=\"1\" class=\"dataframe\">\n",
       "  <thead>\n",
       "    <tr style=\"text-align: right;\">\n",
       "      <th></th>\n",
       "      <th>headlines</th>\n",
       "      <th>url</th>\n",
       "    </tr>\n",
       "  </thead>\n",
       "  <tbody>\n",
       "    <tr>\n",
       "      <th>0</th>\n",
       "      <td>The Webster Takes New York</td>\n",
       "      <td>https://www.nytimes.com/2017/11/28/fashion/the...</td>\n",
       "    </tr>\n",
       "    <tr>\n",
       "      <th>1</th>\n",
       "      <td>A Clothing Line That Simplifies Getting Dressed</td>\n",
       "      <td>https://www.nytimes.com/2017/12/06/t-magazine/...</td>\n",
       "    </tr>\n",
       "    <tr>\n",
       "      <th>2</th>\n",
       "      <td>Memorial T-Shirts Create a Little Justice, a T...</td>\n",
       "      <td>https://www.nytimes.com/2017/11/14/style/memor...</td>\n",
       "    </tr>\n",
       "    <tr>\n",
       "      <th>3</th>\n",
       "      <td>Black Friday 2017: Seeking New TVs to Watch, a...</td>\n",
       "      <td>https://www.nytimes.com/2017/11/24/business/bl...</td>\n",
       "    </tr>\n",
       "    <tr>\n",
       "      <th>4</th>\n",
       "      <td>Kith’s Ronnie Fieg Knows Exactly What You Want</td>\n",
       "      <td>https://www.nytimes.com/2017/11/25/style/kith-...</td>\n",
       "    </tr>\n",
       "    <tr>\n",
       "      <th>5</th>\n",
       "      <td>Artists Who Peddle Products — and Politics</td>\n",
       "      <td>https://www.nytimes.com/2017/10/02/t-magazine/...</td>\n",
       "    </tr>\n",
       "    <tr>\n",
       "      <th>6</th>\n",
       "      <td>Fall Forecast: 4 Trends to Shop Now</td>\n",
       "      <td>https://www.nytimes.com/2017/08/23/fashion/fal...</td>\n",
       "    </tr>\n",
       "    <tr>\n",
       "      <th>7</th>\n",
       "      <td>An Afternoon With Cardi B as She Makes Money M...</td>\n",
       "      <td>https://www.nytimes.com/2017/08/17/fashion/car...</td>\n",
       "    </tr>\n",
       "    <tr>\n",
       "      <th>8</th>\n",
       "      <td>Fashion Week’s Dirty Little Secret: Laundry</td>\n",
       "      <td>https://www.nytimes.com/2017/06/21/fashion/fas...</td>\n",
       "    </tr>\n",
       "    <tr>\n",
       "      <th>9</th>\n",
       "      <td>Virgil Abloh Projects Politics Into His Floren...</td>\n",
       "      <td>https://www.nytimes.com/2017/06/12/fashion/men...</td>\n",
       "    </tr>\n",
       "  </tbody>\n",
       "</table>\n",
       "</div>"
      ],
      "text/plain": [
       "                                           headlines  \\\n",
       "0                         The Webster Takes New York   \n",
       "1    A Clothing Line That Simplifies Getting Dressed   \n",
       "2  Memorial T-Shirts Create a Little Justice, a T...   \n",
       "3  Black Friday 2017: Seeking New TVs to Watch, a...   \n",
       "4     Kith’s Ronnie Fieg Knows Exactly What You Want   \n",
       "5         Artists Who Peddle Products — and Politics   \n",
       "6                Fall Forecast: 4 Trends to Shop Now   \n",
       "7  An Afternoon With Cardi B as She Makes Money M...   \n",
       "8        Fashion Week’s Dirty Little Secret: Laundry   \n",
       "9  Virgil Abloh Projects Politics Into His Floren...   \n",
       "\n",
       "                                                 url  \n",
       "0  https://www.nytimes.com/2017/11/28/fashion/the...  \n",
       "1  https://www.nytimes.com/2017/12/06/t-magazine/...  \n",
       "2  https://www.nytimes.com/2017/11/14/style/memor...  \n",
       "3  https://www.nytimes.com/2017/11/24/business/bl...  \n",
       "4  https://www.nytimes.com/2017/11/25/style/kith-...  \n",
       "5  https://www.nytimes.com/2017/10/02/t-magazine/...  \n",
       "6  https://www.nytimes.com/2017/08/23/fashion/fal...  \n",
       "7  https://www.nytimes.com/2017/08/17/fashion/car...  \n",
       "8  https://www.nytimes.com/2017/06/21/fashion/fas...  \n",
       "9  https://www.nytimes.com/2017/06/12/fashion/men...  "
      ]
     },
     "execution_count": 138,
     "metadata": {},
     "output_type": "execute_result"
    }
   ],
   "source": [
    "df = pd.DataFrame(nyt_dict)\n",
    "df"
   ]
  }
 ],
 "metadata": {
  "kernelspec": {
   "display_name": "Python 3",
   "language": "python",
   "name": "python3"
  },
  "language_info": {
   "codemirror_mode": {
    "name": "ipython",
    "version": 3
   },
   "file_extension": ".py",
   "mimetype": "text/x-python",
   "name": "python",
   "nbconvert_exporter": "python",
   "pygments_lexer": "ipython3",
   "version": "3.6.3"
  }
 },
 "nbformat": 4,
 "nbformat_minor": 2
}

{
 "cells": [
  {
   "cell_type": "markdown",
   "metadata": {},
   "source": [
    "### Number App\n",
    "\n",
    "+ Using the Numbers API, create an application that takes in a user's inputs and returns a number fact based upon it.\n",
    "+ Hints:\n",
    "+ The URL to make your request to must have ?json at its end so that the data format returned is JSON. The default response is pure text.\n",
    "+ Make sure to read through the documentation when creating your application. Some types require more or less data than others."
   ]
  },
  {
   "cell_type": "code",
   "execution_count": 1,
   "metadata": {
    "collapsed": true
   },
   "outputs": [],
   "source": [
    "# Dependencies\n",
    "import requests as r\n",
    "import json\n",
    "\n",
    "# Base URL for GET requests to retrieve number/date facts\n",
    "url = \"http://numbersapi.com/\""
   ]
  },
  {
   "cell_type": "code",
   "execution_count": 2,
   "metadata": {
    "collapsed": true
   },
   "outputs": [],
   "source": [
    "query_type = 'trivia'"
   ]
  },
  {
   "cell_type": "code",
   "execution_count": 3,
   "metadata": {
    "collapsed": true
   },
   "outputs": [],
   "source": [
    "num = 42"
   ]
  },
  {
   "cell_type": "code",
   "execution_count": 4,
   "metadata": {},
   "outputs": [
    {
     "data": {
      "text/plain": [
       "'http://numbersapi.com/42/trivia/?json'"
      ]
     },
     "execution_count": 4,
     "metadata": {},
     "output_type": "execute_result"
    }
   ],
   "source": [
    "query_url = (url +  str(num) + '/' + query_type +'/?json')\n",
    "query_url"
   ]
  },
  {
   "cell_type": "code",
   "execution_count": 5,
   "metadata": {},
   "outputs": [
    {
     "data": {
      "text/plain": [
       "{'found': True,\n",
       " 'number': 42,\n",
       " 'text': '42 is the number of kilometers in a marathon.',\n",
       " 'type': 'trivia'}"
      ]
     },
     "execution_count": 5,
     "metadata": {},
     "output_type": "execute_result"
    }
   ],
   "source": [
    "response = r.get(query_url)\n",
    "response.json()"
   ]
  },
  {
   "cell_type": "code",
   "execution_count": 6,
   "metadata": {},
   "outputs": [
    {
     "data": {
      "text/plain": [
       "'42 is the number of kilometers in a marathon.'"
      ]
     },
     "execution_count": 6,
     "metadata": {},
     "output_type": "execute_result"
    }
   ],
   "source": [
    "user_output = response.json()['text']\n",
    "user_output"
   ]
  },
  {
   "cell_type": "code",
   "execution_count": 7,
   "metadata": {
    "collapsed": true
   },
   "outputs": [],
   "source": [
    "def number_app(user_num):\n",
    "    #user_num = input(\"Enter a number: \")\n",
    "    query_url = (url +  str(user_num) + '/' + query_type +'/?json')\n",
    "    user_response = r.get(query_url).json()['text']\n",
    "    return user_response"
   ]
  },
  {
   "cell_type": "code",
   "execution_count": null,
   "metadata": {
    "collapsed": true
   },
   "outputs": [],
   "source": []
  },
  {
   "cell_type": "code",
   "execution_count": 8,
   "metadata": {},
   "outputs": [
    {
     "data": {
      "text/plain": [
       "['0 is the coldest possible temperature old the Kelvin scale.',\n",
       " '1 is the number of dimensions of a line.',\n",
       " '2 is the price in cents per acre the USA bought Alaska from Russia.',\n",
       " '3 is the number of novels or films in a trilogy and the number of interconnected works of art in a triptych.',\n",
       " '4 is the number of legs most furniture has.',\n",
       " '5 is the number of completed, numbered piano concertos of Ludwig van Beethoven, Sergei Prokofiev, and Camille Saint-Saëns.',\n",
       " '6 is the number of points on a Star of David.',\n",
       " '7 is the number of suicides mentioned in the Bible.',\n",
       " '8 is the number of bits in a byte.',\n",
       " '9 is the number of innings in a regulation, non-tied game of baseball.']"
      ]
     },
     "execution_count": 8,
     "metadata": {},
     "output_type": "execute_result"
    }
   ],
   "source": [
    "trivia_list = [number_app(num) for num in range(10)]\n",
    "trivia_list"
   ]
  },
  {
   "cell_type": "code",
   "execution_count": null,
   "metadata": {},
   "outputs": [],
   "source": []
  },
  {
   "cell_type": "code",
   "execution_count": null,
   "metadata": {
    "collapsed": true
   },
   "outputs": [],
   "source": []
  }
 ],
 "metadata": {
  "kernelspec": {
   "display_name": "Python 3",
   "language": "python",
   "name": "python3"
  },
  "language_info": {
   "codemirror_mode": {
    "name": "ipython",
    "version": 3
   },
   "file_extension": ".py",
   "mimetype": "text/x-python",
   "name": "python",
   "nbconvert_exporter": "python",
   "pygments_lexer": "ipython3",
   "version": "3.6.3"
  }
 },
 "nbformat": 4,
 "nbformat_minor": 2
}

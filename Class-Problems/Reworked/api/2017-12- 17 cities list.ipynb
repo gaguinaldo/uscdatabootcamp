{
 "cells": [
  {
   "cell_type": "markdown",
   "metadata": {},
   "source": [
    "# Cities & Weather\n",
    "\n",
    "This activity provides practice making API calls iteratively.\n",
    "\n",
    "## Instructions\n",
    "\n",
    "For this exercise, either work with `cities.csv` as provided, or add a few cities of your own. If you finish the main challenge and feel ambitious, try using a subset of [CountriesToCities.json](https://github.com/David-Haim/CountriesToCitiesJSON) for this activity.\n",
    "\n",
    "* Load your `cities.csv` file, and use it to create a list of city names you can search for.\n",
    "\n",
    "* Request weather information on each city, and store each response in a list.\n",
    "\n",
    "* Collect longitude and atmospheric pressure data for each city. Use the API documentation to determine which keys to extract.\n",
    "\n",
    "* Put this data into a dict, and load that dict into a Pandas DataFrame.\n",
    "\n",
    "* Use matplotlib to create a scatter plot of pressures vs longitudes."
   ]
  },
  {
   "cell_type": "code",
   "execution_count": 92,
   "metadata": {},
   "outputs": [],
   "source": [
    "import requests as r\n",
    "import json\n",
    "import pandas as pd\n",
    "import matplotlib.pyplot as plt\n",
    "%matplotlib inline"
   ]
  },
  {
   "cell_type": "code",
   "execution_count": 2,
   "metadata": {
    "collapsed": true
   },
   "outputs": [],
   "source": [
    "api_key = '&APPID=0c715aff73757bce5f32aba6da14fd45'\n",
    "units = '&units=imperial'\n",
    "url = 'http://api.openweathermap.org/data/2.5/weather?q='"
   ]
  },
  {
   "cell_type": "code",
   "execution_count": 26,
   "metadata": {},
   "outputs": [],
   "source": [
    "cities = ['los angeles', 'paris', 'avignon', 'amsterdam', 'rome', 'new york', 'las vegas']\n",
    "clean_cities = [name.replace(' ', '+') for name in cities]"
   ]
  },
  {
   "cell_type": "code",
   "execution_count": 25,
   "metadata": {},
   "outputs": [],
   "source": [
    "query_url_list = [url + city + '&' + units + api_key for city in clean_cities]"
   ]
  },
  {
   "cell_type": "code",
   "execution_count": 75,
   "metadata": {},
   "outputs": [
    {
     "data": {
      "text/plain": [
       "['http://api.openweathermap.org/data/2.5/weather?q=los+angeles&&units=imperial&APPID=0c715aff73757bce5f32aba6da14fd45',\n",
       " 'http://api.openweathermap.org/data/2.5/weather?q=paris&&units=imperial&APPID=0c715aff73757bce5f32aba6da14fd45',\n",
       " 'http://api.openweathermap.org/data/2.5/weather?q=avignon&&units=imperial&APPID=0c715aff73757bce5f32aba6da14fd45',\n",
       " 'http://api.openweathermap.org/data/2.5/weather?q=amsterdam&&units=imperial&APPID=0c715aff73757bce5f32aba6da14fd45',\n",
       " 'http://api.openweathermap.org/data/2.5/weather?q=rome&&units=imperial&APPID=0c715aff73757bce5f32aba6da14fd45',\n",
       " 'http://api.openweathermap.org/data/2.5/weather?q=new+york&&units=imperial&APPID=0c715aff73757bce5f32aba6da14fd45',\n",
       " 'http://api.openweathermap.org/data/2.5/weather?q=las+vegas&&units=imperial&APPID=0c715aff73757bce5f32aba6da14fd45']"
      ]
     },
     "execution_count": 75,
     "metadata": {},
     "output_type": "execute_result"
    }
   ],
   "source": [
    "query_url_list"
   ]
  },
  {
   "cell_type": "code",
   "execution_count": 77,
   "metadata": {},
   "outputs": [],
   "source": [
    "name_list = []\n",
    "pressure_list = []\n",
    "lat_list = []\n",
    "lon_list = []\n",
    "temp_list = []\n",
    "for url in query_url_list:\n",
    "    response_data = r.get(url).json()\n",
    "    name_list.append(response_data['name'])\n",
    "    pressure_list.append(response_data['main']['pressure'])\n",
    "    lat_list.append(response_data['coord']['lat'])\n",
    "    lon_list.append(response_data['coord']['lon'])\n",
    "    temp_list.append(response_data['main']['temp'])"
   ]
  },
  {
   "cell_type": "code",
   "execution_count": 84,
   "metadata": {},
   "outputs": [],
   "source": [
    "data_dict = {'city_name': name_list, 'pressure': pressure_list, 'lat': lat_list, 'lon': lon_list, 'temp': temp_list}"
   ]
  },
  {
   "cell_type": "code",
   "execution_count": 85,
   "metadata": {},
   "outputs": [
    {
     "data": {
      "text/html": [
       "<div>\n",
       "<style>\n",
       "    .dataframe thead tr:only-child th {\n",
       "        text-align: right;\n",
       "    }\n",
       "\n",
       "    .dataframe thead th {\n",
       "        text-align: left;\n",
       "    }\n",
       "\n",
       "    .dataframe tbody tr th {\n",
       "        vertical-align: top;\n",
       "    }\n",
       "</style>\n",
       "<table border=\"1\" class=\"dataframe\">\n",
       "  <thead>\n",
       "    <tr style=\"text-align: right;\">\n",
       "      <th></th>\n",
       "      <th>city_name</th>\n",
       "      <th>lat</th>\n",
       "      <th>lon</th>\n",
       "      <th>pressure</th>\n",
       "      <th>temp</th>\n",
       "    </tr>\n",
       "  </thead>\n",
       "  <tbody>\n",
       "    <tr>\n",
       "      <th>0</th>\n",
       "      <td>Los Angeles</td>\n",
       "      <td>34.05</td>\n",
       "      <td>-118.24</td>\n",
       "      <td>1018</td>\n",
       "      <td>56.77</td>\n",
       "    </tr>\n",
       "    <tr>\n",
       "      <th>1</th>\n",
       "      <td>Paris</td>\n",
       "      <td>48.85</td>\n",
       "      <td>2.35</td>\n",
       "      <td>1023</td>\n",
       "      <td>43.57</td>\n",
       "    </tr>\n",
       "    <tr>\n",
       "      <th>2</th>\n",
       "      <td>Avignon</td>\n",
       "      <td>43.95</td>\n",
       "      <td>4.82</td>\n",
       "      <td>1026</td>\n",
       "      <td>37.72</td>\n",
       "    </tr>\n",
       "    <tr>\n",
       "      <th>3</th>\n",
       "      <td>Amsterdam</td>\n",
       "      <td>52.37</td>\n",
       "      <td>4.89</td>\n",
       "      <td>1020</td>\n",
       "      <td>45.21</td>\n",
       "    </tr>\n",
       "    <tr>\n",
       "      <th>4</th>\n",
       "      <td>Rome</td>\n",
       "      <td>34.26</td>\n",
       "      <td>-85.16</td>\n",
       "      <td>1022</td>\n",
       "      <td>44.08</td>\n",
       "    </tr>\n",
       "    <tr>\n",
       "      <th>5</th>\n",
       "      <td>New York</td>\n",
       "      <td>40.71</td>\n",
       "      <td>-74.01</td>\n",
       "      <td>1022</td>\n",
       "      <td>33.64</td>\n",
       "    </tr>\n",
       "    <tr>\n",
       "      <th>6</th>\n",
       "      <td>Las Vegas</td>\n",
       "      <td>36.17</td>\n",
       "      <td>-115.14</td>\n",
       "      <td>1022</td>\n",
       "      <td>46.40</td>\n",
       "    </tr>\n",
       "  </tbody>\n",
       "</table>\n",
       "</div>"
      ],
      "text/plain": [
       "     city_name    lat     lon  pressure   temp\n",
       "0  Los Angeles  34.05 -118.24      1018  56.77\n",
       "1        Paris  48.85    2.35      1023  43.57\n",
       "2      Avignon  43.95    4.82      1026  37.72\n",
       "3    Amsterdam  52.37    4.89      1020  45.21\n",
       "4         Rome  34.26  -85.16      1022  44.08\n",
       "5     New York  40.71  -74.01      1022  33.64\n",
       "6    Las Vegas  36.17 -115.14      1022  46.40"
      ]
     },
     "execution_count": 85,
     "metadata": {},
     "output_type": "execute_result"
    }
   ],
   "source": [
    "df = pd.DataFrame(data_dict)\n",
    "df"
   ]
  },
  {
   "cell_type": "code",
   "execution_count": 88,
   "metadata": {},
   "outputs": [],
   "source": [
    "lon = df['lon'].tolist()\n",
    "temp = df['temp'].tolist()"
   ]
  },
  {
   "cell_type": "code",
   "execution_count": 100,
   "metadata": {},
   "outputs": [
    {
     "data": {
      "image/png": "[encoded data removed]",
      "text/plain": [
       "<matplotlib.figure.Figure at 0x117ede588>"
      ]
     },
     "metadata": {},
     "output_type": "display_data"
    }
   ],
   "source": [
    "plt.scatter(lon, temp, color='b', alpha = 0.5)\n",
    "plt.xlabel('Longitude (degrees)', fontsize = 14)\n",
    "plt.ylabel('Current Temperature (F)', fontsize = 14)\n",
    "plt.title('Temperature vs Longitude', fontsize = 14)\n",
    "plt.grid(True)\n",
    "plt.show()"
   ]
  },
  {
   "cell_type": "code",
   "execution_count": 5,
   "metadata": {},
   "outputs": [],
   "source": [
    "query_url = url + clean_cities[0] + '&' + units + api_key"
   ]
  },
  {
   "cell_type": "code",
   "execution_count": 6,
   "metadata": {},
   "outputs": [
    {
     "data": {
      "text/plain": [
       "{'base': 'stations',\n",
       " 'clouds': {'all': 1},\n",
       " 'cod': 200,\n",
       " 'coord': {'lat': 34.05, 'lon': -118.24},\n",
       " 'dt': 1513576680,\n",
       " 'id': 5368361,\n",
       " 'main': {'humidity': 32,\n",
       "  'pressure': 1017,\n",
       "  'temp': 57.43,\n",
       "  'temp_max': 62.6,\n",
       "  'temp_min': 51.8},\n",
       " 'name': 'Los Angeles',\n",
       " 'sys': {'country': 'US',\n",
       "  'id': 416,\n",
       "  'message': 0.0046,\n",
       "  'sunrise': 1513608798,\n",
       "  'sunset': 1513644394,\n",
       "  'type': 1},\n",
       " 'visibility': 16093,\n",
       " 'weather': [{'description': 'clear sky',\n",
       "   'icon': '01n',\n",
       "   'id': 800,\n",
       "   'main': 'Clear'}],\n",
       " 'wind': {'deg': 14.0049, 'speed': 2.37}}"
      ]
     },
     "execution_count": 6,
     "metadata": {},
     "output_type": "execute_result"
    }
   ],
   "source": [
    "response = r.get(query_url)\n",
    "response_data = response.json()\n",
    "response_data "
   ]
  },
  {
   "cell_type": "code",
   "execution_count": 7,
   "metadata": {},
   "outputs": [],
   "source": [
    "temp = response_data['main']['temp']"
   ]
  },
  {
   "cell_type": "code",
   "execution_count": 8,
   "metadata": {},
   "outputs": [],
   "source": [
    "lat = response_data['coord']['lat']\n",
    "lon = response_data['coord']['lon']"
   ]
  },
  {
   "cell_type": "code",
   "execution_count": 9,
   "metadata": {},
   "outputs": [],
   "source": [
    "pressure = response_data['main']['pressure']"
   ]
  },
  {
   "cell_type": "code",
   "execution_count": 10,
   "metadata": {},
   "outputs": [],
   "source": [
    "name = response_data['name']"
   ]
  }
 ],
 "metadata": {
  "kernelspec": {
   "display_name": "Python 3",
   "language": "python",
   "name": "python3"
  },
  "language_info": {
   "codemirror_mode": {
    "name": "ipython",
    "version": 3
   },
   "file_extension": ".py",
   "mimetype": "text/x-python",
   "name": "python",
   "nbconvert_exporter": "python",
   "pygments_lexer": "ipython3",
   "version": "3.6.3"
  }
 },
 "nbformat": 4,
 "nbformat_minor": 2
}

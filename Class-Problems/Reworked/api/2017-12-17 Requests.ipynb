{
 "cells": [
  {
   "cell_type": "markdown",
   "metadata": {},
   "source": [
    "# Requests & Responses\n",
    "\n",
    "This activity provides practice making API calls, converting the response to JSON, and then manipulating the result with Python.\n",
    "\n",
    "## Instructions\n",
    "\n",
    "* Make a request to the following endpoint (http://nyt-mongo-scraper.herokuapp.com/api/headlines), and store the response.\n",
    "\n",
    "* JSON-ify the response.\n",
    "\n",
    "* Print the JSON representations of the first and last posts.\n",
    "\n",
    "* Print number of posts received."
   ]
  },
  {
   "cell_type": "code",
   "execution_count": 1,
   "metadata": {
    "collapsed": true
   },
   "outputs": [],
   "source": [
    "import json\n",
    "import pandas as pd\n",
    "import requests as r"
   ]
  },
  {
   "cell_type": "code",
   "execution_count": 2,
   "metadata": {
    "collapsed": true
   },
   "outputs": [],
   "source": [
    "url = 'http://nyt-mongo-scraper.herokuapp.com/api/headlines'"
   ]
  },
  {
   "cell_type": "code",
   "execution_count": 21,
   "metadata": {},
   "outputs": [
    {
     "data": {
      "text/plain": [
       "{'_id': '5a370ea690e5c50011298b8a',\n",
       " 'date': '12_18_2017',\n",
       " 'headline': 'Homes That Sold for Around $1 Million',\n",
       " 'saved': False,\n",
       " 'summary': 'Recent residential sales in New York City and the region.',\n",
       " 'url': 'https://www.nytimes.com/2017/12/17/realestate/home-sales-nyc.html'}"
      ]
     },
     "execution_count": 21,
     "metadata": {},
     "output_type": "execute_result"
    }
   ],
   "source": [
    "response = r.get(url)\n",
    "response_data = response.json()\n",
    "response_data[0]"
   ]
  },
  {
   "cell_type": "code",
   "execution_count": 11,
   "metadata": {},
   "outputs": [
    {
     "data": {
      "text/plain": [
       "'Homes That Sold for Around $1 Million'"
      ]
     },
     "execution_count": 11,
     "metadata": {},
     "output_type": "execute_result"
    }
   ],
   "source": [
    "first_headline = response_data[0]['headline']\n",
    "first_headline"
   ]
  },
  {
   "cell_type": "code",
   "execution_count": 12,
   "metadata": {},
   "outputs": [
    {
     "data": {
      "text/plain": [
       "'Imam Who Forged Barcelona Cell Long Evaded Scrutiny'"
      ]
     },
     "execution_count": 12,
     "metadata": {},
     "output_type": "execute_result"
    }
   ],
   "source": [
    "last_headline = response_data[-1]['headline']\n",
    "last_headline"
   ]
  },
  {
   "cell_type": "code",
   "execution_count": 13,
   "metadata": {},
   "outputs": [
    {
     "data": {
      "text/plain": [
       "4258"
      ]
     },
     "execution_count": 13,
     "metadata": {},
     "output_type": "execute_result"
    }
   ],
   "source": [
    "len(response_data)"
   ]
  },
  {
   "cell_type": "code",
   "execution_count": 23,
   "metadata": {},
   "outputs": [],
   "source": [
    "headline_list = [name['headline'] for name in response_data]\n",
    "headline_url = [name['url'] for name in response_data]\n",
    "headline_dict = {'headline_name': headline_list, 'url': headline_url}"
   ]
  },
  {
   "cell_type": "code",
   "execution_count": 25,
   "metadata": {},
   "outputs": [
    {
     "data": {
      "text/html": [
       "<div>\n",
       "<style>\n",
       "    .dataframe thead tr:only-child th {\n",
       "        text-align: right;\n",
       "    }\n",
       "\n",
       "    .dataframe thead th {\n",
       "        text-align: left;\n",
       "    }\n",
       "\n",
       "    .dataframe tbody tr th {\n",
       "        vertical-align: top;\n",
       "    }\n",
       "</style>\n",
       "<table border=\"1\" class=\"dataframe\">\n",
       "  <thead>\n",
       "    <tr style=\"text-align: right;\">\n",
       "      <th></th>\n",
       "      <th>headline_name</th>\n",
       "      <th>url</th>\n",
       "    </tr>\n",
       "  </thead>\n",
       "  <tbody>\n",
       "    <tr>\n",
       "      <th>0</th>\n",
       "      <td>Homes That Sold for Around $1 Million</td>\n",
       "      <td>https://www.nytimes.com/2017/12/17/realestate/...</td>\n",
       "    </tr>\n",
       "    <tr>\n",
       "      <th>1</th>\n",
       "      <td>Can the International Criminal Court Be Saved ...</td>\n",
       "      <td>https://www.nytimes.com/2017/12/17/opinion/icc...</td>\n",
       "    </tr>\n",
       "    <tr>\n",
       "      <th>2</th>\n",
       "      <td>Warren and Sanders: Who Is Congress Really Ser...</td>\n",
       "      <td>https://www.nytimes.com/2017/12/17/opinion/war...</td>\n",
       "    </tr>\n",
       "    <tr>\n",
       "      <th>3</th>\n",
       "      <td>Columnists’ Book Club</td>\n",
       "      <td>https://www.nytimes.com/interactive/2017/12/14...</td>\n",
       "    </tr>\n",
       "    <tr>\n",
       "      <th>4</th>\n",
       "      <td>Australian Tried to Sell Missile Parts for Nor...</td>\n",
       "      <td>https://www.nytimes.com/2017/12/17/world/austr...</td>\n",
       "    </tr>\n",
       "  </tbody>\n",
       "</table>\n",
       "</div>"
      ],
      "text/plain": [
       "                                       headline_name  \\\n",
       "0              Homes That Sold for Around $1 Million   \n",
       "1  Can the International Criminal Court Be Saved ...   \n",
       "2  Warren and Sanders: Who Is Congress Really Ser...   \n",
       "3                              Columnists’ Book Club   \n",
       "4  Australian Tried to Sell Missile Parts for Nor...   \n",
       "\n",
       "                                                 url  \n",
       "0  https://www.nytimes.com/2017/12/17/realestate/...  \n",
       "1  https://www.nytimes.com/2017/12/17/opinion/icc...  \n",
       "2  https://www.nytimes.com/2017/12/17/opinion/war...  \n",
       "3  https://www.nytimes.com/interactive/2017/12/14...  \n",
       "4  https://www.nytimes.com/2017/12/17/world/austr...  "
      ]
     },
     "execution_count": 25,
     "metadata": {},
     "output_type": "execute_result"
    }
   ],
   "source": [
    "df = pd.DataFrame(headline_dict)\n",
    "df.head()"
   ]
  }
 ],
 "metadata": {
  "kernelspec": {
   "display_name": "Python 3",
   "language": "python",
   "name": "python3"
  },
  "language_info": {
   "codemirror_mode": {
    "name": "ipython",
    "version": 3
   },
   "file_extension": ".py",
   "mimetype": "text/x-python",
   "name": "python",
   "nbconvert_exporter": "python",
   "pygments_lexer": "ipython3",
   "version": "3.6.3"
  }
 },
 "nbformat": 4,
 "nbformat_minor": 2
}

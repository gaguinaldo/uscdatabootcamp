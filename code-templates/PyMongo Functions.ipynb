{
 "cells": [
  {
   "cell_type": "code",
   "execution_count": 1,
   "metadata": {
    "collapsed": true
   },
   "outputs": [],
   "source": [
    "#Standard imports. \n",
    "import pymongo\n",
    "import pandas as pd"
   ]
  },
  {
   "cell_type": "code",
   "execution_count": 2,
   "metadata": {},
   "outputs": [],
   "source": [
    "#Build connection string and connect to the database. \n",
    "#The mongodb server must be running before you can make the connection (i.e., running 'mongod' from command line)\n",
    "conn = 'mongodb://localhost:27017'\n",
    "client = pymongo.MongoClient(conn)\n",
    "\n",
    "#Connect to a specific database or create a new one. \n",
    "db = client.travel_db"
   ]
  },
  {
   "cell_type": "code",
   "execution_count": 3,
   "metadata": {},
   "outputs": [],
   "source": [
    "#Query the destinations collection in the database and store the data in an variable called dityData.\n",
    "cityData = db.destinations.find()"
   ]
  },
  {
   "cell_type": "markdown",
   "metadata": {},
   "source": [
    " #### Inspecting the data in the object.\n",
    " ***\n",
    " The query executed `cityData = db.destinations.find()` stores the data in the varible called `cityData` in a `json` format.  Therefore, to get access to the data, you need to iterate through the object to see the data.\n",
    " ***"
   ]
  },
  {
   "cell_type": "code",
   "execution_count": 4,
   "metadata": {},
   "outputs": [
    {
     "name": "stdout",
     "output_type": "stream",
     "text": [
      "{'_id': ObjectId('5a7f426ffbb3d4d0cb82f6cf'), 'continent': 'Africa', 'country': 'Moroco', 'major_cities': ['casabblanca', 'fez', 'marrakech']}\n",
      "{'_id': ObjectId('5a7f4327fbb3d4d0cb82f6d0'), 'continent': 'North American', 'country': 'United States', 'major_cities': ['Los Angelges', 'San Francisco', 'New York']}\n",
      "{'_id': ObjectId('5a7f435dfbb3d4d0cb82f6d1'), 'continent': 'Europe', 'country': 'Franc', 'major_cities': ['Paris', 'Marsielle']}\n"
     ]
    }
   ],
   "source": [
    "for each in cityData:\n",
    "    print(each)"
   ]
  },
  {
   "cell_type": "markdown",
   "metadata": {},
   "source": [
    "### Sending the data from the PyMongo object to a Pandas dataframe.\n",
    "***\n",
    "From a functional standpoint, it is best to have the data in a Pandas dataframe in order to conduct addtional analysis on the data obtained from Mongodb.  In this section, I'll show you the code to send the data into a Pandas dataframe.\n",
    "***"
   ]
  },
  {
   "cell_type": "code",
   "execution_count": 5,
   "metadata": {
    "collapsed": true
   },
   "outputs": [],
   "source": [
    "#Standard imports. \n",
    "\n",
    "import pymongo\n",
    "import pandas as pd"
   ]
  },
  {
   "cell_type": "code",
   "execution_count": 6,
   "metadata": {
    "collapsed": true
   },
   "outputs": [],
   "source": [
    "#Build connection string and connect to the database. \n",
    "#The mongodb server must be running before you can make the connection (i.e., running 'mongod' from command line)\n",
    "conn = 'mongodb://localhost:27017'\n",
    "client = pymongo.MongoClient(conn)\n",
    "\n",
    "#Connect to a specific database or create a new one. \n",
    "db = client.fruitsdb"
   ]
  },
  {
   "cell_type": "code",
   "execution_count": 7,
   "metadata": {
    "collapsed": true
   },
   "outputs": [],
   "source": [
    "#Query the destinations collection in the database and store the data in an variable called fruitData.\n",
    "\n",
    "fruitData = db.fruits.find()"
   ]
  },
  {
   "cell_type": "markdown",
   "metadata": {},
   "source": [
    "### Writing data to one colleciton within a database. \n",
    "\n",
    "***\n",
    "The code below will create one document within the `fruits` collection within the `fruitsdb` database.  The struction of the document is in the form of a `json` and uses the `insert_one` method to write the data to the collection.  \n",
    "\n",
    "It is important to note that the addition of the document to the collection will create a PyMongo object.\n",
    "***"
   ]
  },
  {
   "cell_type": "code",
   "execution_count": 8,
   "metadata": {},
   "outputs": [
    {
     "data": {
      "text/plain": [
       "<pymongo.results.InsertOneResult at 0x10d172708>"
      ]
     },
     "execution_count": 8,
     "metadata": {},
     "output_type": "execute_result"
    }
   ],
   "source": [
    "db.fruits.insert_one({\n",
    "    \n",
    "    'vendorName': 'Joe Bananan',\n",
    "    'typeOffruit':'Banana',\n",
    "    'quantityReceived': 10,\n",
    "    'ripenessRating': 3\n",
    "    \n",
    "})"
   ]
  },
  {
   "cell_type": "markdown",
   "metadata": {},
   "source": [
    "***\n",
    "To check that the document was successfully added to the collection, you need to iterate through the PyMongo object and print each entry as noted below.\n",
    "***"
   ]
  },
  {
   "cell_type": "code",
   "execution_count": 9,
   "metadata": {},
   "outputs": [
    {
     "name": "stdout",
     "output_type": "stream",
     "text": [
      "{'_id': ObjectId('5a7f6926c823acf4249c8e65'), 'vendorName': 'Joe Bananan', 'typeOffruit': 'Banana', 'quantityReceived': 10, 'ripenessRating': 3}\n",
      "{'_id': ObjectId('5a7f6998c823acf4249c8e66'), 'vendorName': 'Jack Fruits', 'typeOffruit': 'Durian', 'quantityReceived': 100, 'ripenessRating': 3}\n",
      "{'_id': ObjectId('5a7f8b8ec823acf4249c8e67'), 'vendorName': 'Juicy Fruit', 'typeOffruit': 'Oranges', 'quantityReceived': 1000, 'ripenessRating': '1'}\n",
      "{'_id': ObjectId('5a7f8c10c823acf4249c8e68'), 'vendorName': 'ABC Fruit Supply of Long Beach, Inc.', 'typeOffruit': 'Durian', 'quantityReceived': 200, 'ripenessRating': 3}\n",
      "{'_id': ObjectId('5a7f8e82c823acf4249c8e69'), 'vendorName': 'Ralphs Fruits', 'typeOffruit': 'Apples', 'quantityReceived': '1000', 'ripenessRating': '2'}\n",
      "{'_id': ObjectId('5a7f8f5bc823acf4249c8e6a'), 'vendorName': 'Grant Aguinaldo Fruit Stand', 'typeOffruit': 'Guava', 'quantityReceived': '100', 'ripenessRating': '2'}\n",
      "{'_id': ObjectId('5a7f8f8cc823acf4249c8e6b'), 'vendorName': 'Grant Aguinaldo', 'typeOffruit': 'Apples', 'quantityReceived': '10', 'ripenessRating': '3'}\n",
      "{'_id': ObjectId('5a7f8fc0c823acf4249c8e6c'), 'vendorName': 'Lora Chang Fruit', 'typeOffruit': \"Guava's\", 'quantityReceived': '10000', 'ripenessRating': '2'}\n",
      "{'_id': ObjectId('5a7f910ac823acf4249c8e6d'), 'vendorName': 'Kelsi Aguinaldo', 'typeOffruit': 'Avocados', 'quantityReceived': '10', 'ripenessRating': '1'}\n",
      "{'_id': ObjectId('5a7f912ac823acf4249c8e6e'), 'vendorName': 'Kula Product', 'typeOffruit': 'Lemons', 'quantityReceived': '10', 'ripenessRating': '3'}\n",
      "{'_id': ObjectId('5a7f9151c823acf4249c8e6f'), 'vendorName': 'We Work, Inc.', 'typeOffruit': 'Grapefruits', 'quantityReceived': '10', 'ripenessRating': '3'}\n",
      "{'_id': ObjectId('5a7f9162c823acf4249c8e70'), 'vendorName': 'Iris Aguinaldo', 'typeOffruit': 'Lemons', 'quantityReceived': '10', 'ripenessRating': '1'}\n",
      "{'_id': ObjectId('5a7f916ec823acf4249c8e71'), 'vendorName': 'Apples', 'typeOffruit': '10', 'quantityReceived': '3', 'ripenessRating': 'Pilar Roundtree'}\n",
      "{'_id': ObjectId('5a7f93f6c823acf4249c8e72'), 'vendorName': 'Paris Roundtree Delivery', 'typeOffruit': 'Watermelon', 'quantityReceived': '10000', 'ripenessRating': '1'}\n",
      "{'_id': ObjectId('5a7f9412c823acf4249c8e73'), 'vendorName': 'Andie Chang', 'typeOffruit': 'Oranges', 'quantityReceived': '10', 'ripenessRating': '2'}\n",
      "{'_id': ObjectId('5a7f941dc823acf4249c8e74'), 'vendorName': 'Rosa Chang', 'typeOffruit': 'Star Fruit', 'quantityReceived': '100', 'ripenessRating': '1'}\n",
      "{'_id': ObjectId('5a7f96cac823acf4249c8e75'), 'vendorName': 'Richard Aguinaldo', 'typeOffruit': 'Watermelons', 'quantityReceived': '1000000', 'ripenessRating': '3'}\n",
      "{'_id': ObjectId('5a7f96d6c823acf4249c8e76'), 'vendorName': 'Maui Fruit Delivery', 'typeOffruit': 'Oranges', 'quantityReceived': '10', 'ripenessRating': '1'}\n",
      "{'_id': ObjectId('5a7fa302f9c563f8b6ff691f'), 'vendorName': 'Joe Bananan', 'typeOffruit': 'Banana', 'quantityReceived': 10, 'ripenessRating': 3}\n",
      "{'_id': ObjectId('5a7fa302f9c563f8b6ff6920'), 'vendorName': 'Jack Fruits', 'typeOffruit': 'Durian', 'quantityReceived': 100, 'ripenessRating': 3}\n",
      "{'_id': ObjectId('5a7fa302f9c563f8b6ff6921'), 'vendorName': 'Juicy Fruit', 'typeOffruit': 'Oranges', 'quantityReceived': 1000, 'ripenessRating': '1'}\n",
      "{'_id': ObjectId('5a7fa302f9c563f8b6ff6922'), 'vendorName': 'ABC Fruit Supply of Long Beach, Inc.', 'typeOffruit': 'Durian', 'quantityReceived': 200, 'ripenessRating': 3}\n",
      "{'_id': ObjectId('5a7fa329f9c563f8bfb4626b'), 'vendorName': 'Joe Bananan', 'typeOffruit': 'Banana', 'quantityReceived': 10, 'ripenessRating': 3}\n"
     ]
    }
   ],
   "source": [
    "for each in fruitData:\n",
    "    print(each)"
   ]
  },
  {
   "cell_type": "code",
   "execution_count": 10,
   "metadata": {},
   "outputs": [
    {
     "data": {
      "text/plain": [
       "<pymongo.results.InsertOneResult at 0x10d1816c0>"
      ]
     },
     "execution_count": 10,
     "metadata": {},
     "output_type": "execute_result"
    }
   ],
   "source": [
    "#An additional example that adds a document to a collection.\n",
    "\n",
    "db.fruits.insert_one({\n",
    "    \n",
    "    'vendorName': 'Jack Fruits',\n",
    "    'typeOffruit':'Durian',\n",
    "    'quantityReceived': 100,\n",
    "    'ripenessRating': 3\n",
    "    \n",
    "})"
   ]
  },
  {
   "cell_type": "code",
   "execution_count": 11,
   "metadata": {},
   "outputs": [],
   "source": [
    "for each in fruitData:\n",
    "    print(each)"
   ]
  },
  {
   "cell_type": "markdown",
   "metadata": {},
   "source": [
    "***\n",
    "Each time that the object is used, it seems that the object is cleared.  That is, you are not able to use the object again.  In order search the collection again, you need to run the `.find()` method.\n",
    "***"
   ]
  },
  {
   "cell_type": "code",
   "execution_count": 12,
   "metadata": {
    "collapsed": true
   },
   "outputs": [],
   "source": [
    "fruitData = db.fruits.find()"
   ]
  },
  {
   "cell_type": "code",
   "execution_count": 13,
   "metadata": {},
   "outputs": [
    {
     "name": "stdout",
     "output_type": "stream",
     "text": [
      "{'_id': ObjectId('5a7f6926c823acf4249c8e65'), 'vendorName': 'Joe Bananan', 'typeOffruit': 'Banana', 'quantityReceived': 10, 'ripenessRating': 3}\n",
      "{'_id': ObjectId('5a7f6998c823acf4249c8e66'), 'vendorName': 'Jack Fruits', 'typeOffruit': 'Durian', 'quantityReceived': 100, 'ripenessRating': 3}\n",
      "{'_id': ObjectId('5a7f8b8ec823acf4249c8e67'), 'vendorName': 'Juicy Fruit', 'typeOffruit': 'Oranges', 'quantityReceived': 1000, 'ripenessRating': '1'}\n",
      "{'_id': ObjectId('5a7f8c10c823acf4249c8e68'), 'vendorName': 'ABC Fruit Supply of Long Beach, Inc.', 'typeOffruit': 'Durian', 'quantityReceived': 200, 'ripenessRating': 3}\n",
      "{'_id': ObjectId('5a7f8e82c823acf4249c8e69'), 'vendorName': 'Ralphs Fruits', 'typeOffruit': 'Apples', 'quantityReceived': '1000', 'ripenessRating': '2'}\n",
      "{'_id': ObjectId('5a7f8f5bc823acf4249c8e6a'), 'vendorName': 'Grant Aguinaldo Fruit Stand', 'typeOffruit': 'Guava', 'quantityReceived': '100', 'ripenessRating': '2'}\n",
      "{'_id': ObjectId('5a7f8f8cc823acf4249c8e6b'), 'vendorName': 'Grant Aguinaldo', 'typeOffruit': 'Apples', 'quantityReceived': '10', 'ripenessRating': '3'}\n",
      "{'_id': ObjectId('5a7f8fc0c823acf4249c8e6c'), 'vendorName': 'Lora Chang Fruit', 'typeOffruit': \"Guava's\", 'quantityReceived': '10000', 'ripenessRating': '2'}\n",
      "{'_id': ObjectId('5a7f910ac823acf4249c8e6d'), 'vendorName': 'Kelsi Aguinaldo', 'typeOffruit': 'Avocados', 'quantityReceived': '10', 'ripenessRating': '1'}\n",
      "{'_id': ObjectId('5a7f912ac823acf4249c8e6e'), 'vendorName': 'Kula Product', 'typeOffruit': 'Lemons', 'quantityReceived': '10', 'ripenessRating': '3'}\n",
      "{'_id': ObjectId('5a7f9151c823acf4249c8e6f'), 'vendorName': 'We Work, Inc.', 'typeOffruit': 'Grapefruits', 'quantityReceived': '10', 'ripenessRating': '3'}\n",
      "{'_id': ObjectId('5a7f9162c823acf4249c8e70'), 'vendorName': 'Iris Aguinaldo', 'typeOffruit': 'Lemons', 'quantityReceived': '10', 'ripenessRating': '1'}\n",
      "{'_id': ObjectId('5a7f916ec823acf4249c8e71'), 'vendorName': 'Apples', 'typeOffruit': '10', 'quantityReceived': '3', 'ripenessRating': 'Pilar Roundtree'}\n",
      "{'_id': ObjectId('5a7f93f6c823acf4249c8e72'), 'vendorName': 'Paris Roundtree Delivery', 'typeOffruit': 'Watermelon', 'quantityReceived': '10000', 'ripenessRating': '1'}\n",
      "{'_id': ObjectId('5a7f9412c823acf4249c8e73'), 'vendorName': 'Andie Chang', 'typeOffruit': 'Oranges', 'quantityReceived': '10', 'ripenessRating': '2'}\n",
      "{'_id': ObjectId('5a7f941dc823acf4249c8e74'), 'vendorName': 'Rosa Chang', 'typeOffruit': 'Star Fruit', 'quantityReceived': '100', 'ripenessRating': '1'}\n",
      "{'_id': ObjectId('5a7f96cac823acf4249c8e75'), 'vendorName': 'Richard Aguinaldo', 'typeOffruit': 'Watermelons', 'quantityReceived': '1000000', 'ripenessRating': '3'}\n",
      "{'_id': ObjectId('5a7f96d6c823acf4249c8e76'), 'vendorName': 'Maui Fruit Delivery', 'typeOffruit': 'Oranges', 'quantityReceived': '10', 'ripenessRating': '1'}\n",
      "{'_id': ObjectId('5a7fa302f9c563f8b6ff691f'), 'vendorName': 'Joe Bananan', 'typeOffruit': 'Banana', 'quantityReceived': 10, 'ripenessRating': 3}\n",
      "{'_id': ObjectId('5a7fa302f9c563f8b6ff6920'), 'vendorName': 'Jack Fruits', 'typeOffruit': 'Durian', 'quantityReceived': 100, 'ripenessRating': 3}\n",
      "{'_id': ObjectId('5a7fa302f9c563f8b6ff6921'), 'vendorName': 'Juicy Fruit', 'typeOffruit': 'Oranges', 'quantityReceived': 1000, 'ripenessRating': '1'}\n",
      "{'_id': ObjectId('5a7fa302f9c563f8b6ff6922'), 'vendorName': 'ABC Fruit Supply of Long Beach, Inc.', 'typeOffruit': 'Durian', 'quantityReceived': 200, 'ripenessRating': 3}\n",
      "{'_id': ObjectId('5a7fa329f9c563f8bfb4626b'), 'vendorName': 'Joe Bananan', 'typeOffruit': 'Banana', 'quantityReceived': 10, 'ripenessRating': 3}\n",
      "{'_id': ObjectId('5a7fa32ef9c563f8bfb4626c'), 'vendorName': 'Jack Fruits', 'typeOffruit': 'Durian', 'quantityReceived': 100, 'ripenessRating': 3}\n"
     ]
    }
   ],
   "source": [
    "for each in fruitData:\n",
    "    print(each)"
   ]
  },
  {
   "cell_type": "code",
   "execution_count": 14,
   "metadata": {
    "collapsed": true
   },
   "outputs": [],
   "source": [
    "post = ({\n",
    "        'vendorName':'Juicy Fruit',\n",
    "        'typeOffruit':'Oranges',\n",
    "        'quantityReceived':1000,\n",
    "        'ripenessRating':'1'\n",
    "})"
   ]
  },
  {
   "cell_type": "code",
   "execution_count": 15,
   "metadata": {},
   "outputs": [
    {
     "data": {
      "text/plain": [
       "<pymongo.results.InsertOneResult at 0x10d17bb88>"
      ]
     },
     "execution_count": 15,
     "metadata": {},
     "output_type": "execute_result"
    }
   ],
   "source": [
    "db.fruits.insert_one(post)"
   ]
  },
  {
   "cell_type": "code",
   "execution_count": 16,
   "metadata": {
    "collapsed": true
   },
   "outputs": [],
   "source": [
    "fruitData = db.fruits.find()"
   ]
  },
  {
   "cell_type": "code",
   "execution_count": 17,
   "metadata": {},
   "outputs": [
    {
     "name": "stdout",
     "output_type": "stream",
     "text": [
      "{'_id': ObjectId('5a7f6926c823acf4249c8e65'), 'vendorName': 'Joe Bananan', 'typeOffruit': 'Banana', 'quantityReceived': 10, 'ripenessRating': 3}\n",
      "{'_id': ObjectId('5a7f6998c823acf4249c8e66'), 'vendorName': 'Jack Fruits', 'typeOffruit': 'Durian', 'quantityReceived': 100, 'ripenessRating': 3}\n",
      "{'_id': ObjectId('5a7f8b8ec823acf4249c8e67'), 'vendorName': 'Juicy Fruit', 'typeOffruit': 'Oranges', 'quantityReceived': 1000, 'ripenessRating': '1'}\n",
      "{'_id': ObjectId('5a7f8c10c823acf4249c8e68'), 'vendorName': 'ABC Fruit Supply of Long Beach, Inc.', 'typeOffruit': 'Durian', 'quantityReceived': 200, 'ripenessRating': 3}\n",
      "{'_id': ObjectId('5a7f8e82c823acf4249c8e69'), 'vendorName': 'Ralphs Fruits', 'typeOffruit': 'Apples', 'quantityReceived': '1000', 'ripenessRating': '2'}\n",
      "{'_id': ObjectId('5a7f8f5bc823acf4249c8e6a'), 'vendorName': 'Grant Aguinaldo Fruit Stand', 'typeOffruit': 'Guava', 'quantityReceived': '100', 'ripenessRating': '2'}\n",
      "{'_id': ObjectId('5a7f8f8cc823acf4249c8e6b'), 'vendorName': 'Grant Aguinaldo', 'typeOffruit': 'Apples', 'quantityReceived': '10', 'ripenessRating': '3'}\n",
      "{'_id': ObjectId('5a7f8fc0c823acf4249c8e6c'), 'vendorName': 'Lora Chang Fruit', 'typeOffruit': \"Guava's\", 'quantityReceived': '10000', 'ripenessRating': '2'}\n",
      "{'_id': ObjectId('5a7f910ac823acf4249c8e6d'), 'vendorName': 'Kelsi Aguinaldo', 'typeOffruit': 'Avocados', 'quantityReceived': '10', 'ripenessRating': '1'}\n",
      "{'_id': ObjectId('5a7f912ac823acf4249c8e6e'), 'vendorName': 'Kula Product', 'typeOffruit': 'Lemons', 'quantityReceived': '10', 'ripenessRating': '3'}\n",
      "{'_id': ObjectId('5a7f9151c823acf4249c8e6f'), 'vendorName': 'We Work, Inc.', 'typeOffruit': 'Grapefruits', 'quantityReceived': '10', 'ripenessRating': '3'}\n",
      "{'_id': ObjectId('5a7f9162c823acf4249c8e70'), 'vendorName': 'Iris Aguinaldo', 'typeOffruit': 'Lemons', 'quantityReceived': '10', 'ripenessRating': '1'}\n",
      "{'_id': ObjectId('5a7f916ec823acf4249c8e71'), 'vendorName': 'Apples', 'typeOffruit': '10', 'quantityReceived': '3', 'ripenessRating': 'Pilar Roundtree'}\n",
      "{'_id': ObjectId('5a7f93f6c823acf4249c8e72'), 'vendorName': 'Paris Roundtree Delivery', 'typeOffruit': 'Watermelon', 'quantityReceived': '10000', 'ripenessRating': '1'}\n",
      "{'_id': ObjectId('5a7f9412c823acf4249c8e73'), 'vendorName': 'Andie Chang', 'typeOffruit': 'Oranges', 'quantityReceived': '10', 'ripenessRating': '2'}\n",
      "{'_id': ObjectId('5a7f941dc823acf4249c8e74'), 'vendorName': 'Rosa Chang', 'typeOffruit': 'Star Fruit', 'quantityReceived': '100', 'ripenessRating': '1'}\n",
      "{'_id': ObjectId('5a7f96cac823acf4249c8e75'), 'vendorName': 'Richard Aguinaldo', 'typeOffruit': 'Watermelons', 'quantityReceived': '1000000', 'ripenessRating': '3'}\n",
      "{'_id': ObjectId('5a7f96d6c823acf4249c8e76'), 'vendorName': 'Maui Fruit Delivery', 'typeOffruit': 'Oranges', 'quantityReceived': '10', 'ripenessRating': '1'}\n",
      "{'_id': ObjectId('5a7fa302f9c563f8b6ff691f'), 'vendorName': 'Joe Bananan', 'typeOffruit': 'Banana', 'quantityReceived': 10, 'ripenessRating': 3}\n",
      "{'_id': ObjectId('5a7fa302f9c563f8b6ff6920'), 'vendorName': 'Jack Fruits', 'typeOffruit': 'Durian', 'quantityReceived': 100, 'ripenessRating': 3}\n",
      "{'_id': ObjectId('5a7fa302f9c563f8b6ff6921'), 'vendorName': 'Juicy Fruit', 'typeOffruit': 'Oranges', 'quantityReceived': 1000, 'ripenessRating': '1'}\n",
      "{'_id': ObjectId('5a7fa302f9c563f8b6ff6922'), 'vendorName': 'ABC Fruit Supply of Long Beach, Inc.', 'typeOffruit': 'Durian', 'quantityReceived': 200, 'ripenessRating': 3}\n",
      "{'_id': ObjectId('5a7fa329f9c563f8bfb4626b'), 'vendorName': 'Joe Bananan', 'typeOffruit': 'Banana', 'quantityReceived': 10, 'ripenessRating': 3}\n",
      "{'_id': ObjectId('5a7fa32ef9c563f8bfb4626c'), 'vendorName': 'Jack Fruits', 'typeOffruit': 'Durian', 'quantityReceived': 100, 'ripenessRating': 3}\n",
      "{'_id': ObjectId('5a7fa337f9c563f8bfb4626d'), 'vendorName': 'Juicy Fruit', 'typeOffruit': 'Oranges', 'quantityReceived': 1000, 'ripenessRating': '1'}\n"
     ]
    }
   ],
   "source": [
    "for each in fruitData:\n",
    "    print(each)"
   ]
  },
  {
   "cell_type": "code",
   "execution_count": 18,
   "metadata": {
    "collapsed": true
   },
   "outputs": [],
   "source": [
    "post = {\n",
    "    \n",
    "    'vendorName': 'ABC Fruit Supply of Long Beach, Inc.',\n",
    "    'typeOffruit':'Durian',\n",
    "    'quantityReceived': 200,\n",
    "    'ripenessRating': 3\n",
    "    \n",
    "}"
   ]
  },
  {
   "cell_type": "code",
   "execution_count": 19,
   "metadata": {},
   "outputs": [
    {
     "data": {
      "text/plain": [
       "<pymongo.results.InsertOneResult at 0x10d181318>"
      ]
     },
     "execution_count": 19,
     "metadata": {},
     "output_type": "execute_result"
    }
   ],
   "source": [
    "db.fruits.insert_one(post)"
   ]
  },
  {
   "cell_type": "code",
   "execution_count": 20,
   "metadata": {
    "collapsed": true
   },
   "outputs": [],
   "source": [
    "fruitData = db.fruits.find()"
   ]
  },
  {
   "cell_type": "code",
   "execution_count": 21,
   "metadata": {},
   "outputs": [
    {
     "name": "stdout",
     "output_type": "stream",
     "text": [
      "{'_id': ObjectId('5a7f6926c823acf4249c8e65'), 'vendorName': 'Joe Bananan', 'typeOffruit': 'Banana', 'quantityReceived': 10, 'ripenessRating': 3}\n",
      "{'_id': ObjectId('5a7f6998c823acf4249c8e66'), 'vendorName': 'Jack Fruits', 'typeOffruit': 'Durian', 'quantityReceived': 100, 'ripenessRating': 3}\n",
      "{'_id': ObjectId('5a7f8b8ec823acf4249c8e67'), 'vendorName': 'Juicy Fruit', 'typeOffruit': 'Oranges', 'quantityReceived': 1000, 'ripenessRating': '1'}\n",
      "{'_id': ObjectId('5a7f8c10c823acf4249c8e68'), 'vendorName': 'ABC Fruit Supply of Long Beach, Inc.', 'typeOffruit': 'Durian', 'quantityReceived': 200, 'ripenessRating': 3}\n",
      "{'_id': ObjectId('5a7f8e82c823acf4249c8e69'), 'vendorName': 'Ralphs Fruits', 'typeOffruit': 'Apples', 'quantityReceived': '1000', 'ripenessRating': '2'}\n",
      "{'_id': ObjectId('5a7f8f5bc823acf4249c8e6a'), 'vendorName': 'Grant Aguinaldo Fruit Stand', 'typeOffruit': 'Guava', 'quantityReceived': '100', 'ripenessRating': '2'}\n",
      "{'_id': ObjectId('5a7f8f8cc823acf4249c8e6b'), 'vendorName': 'Grant Aguinaldo', 'typeOffruit': 'Apples', 'quantityReceived': '10', 'ripenessRating': '3'}\n",
      "{'_id': ObjectId('5a7f8fc0c823acf4249c8e6c'), 'vendorName': 'Lora Chang Fruit', 'typeOffruit': \"Guava's\", 'quantityReceived': '10000', 'ripenessRating': '2'}\n",
      "{'_id': ObjectId('5a7f910ac823acf4249c8e6d'), 'vendorName': 'Kelsi Aguinaldo', 'typeOffruit': 'Avocados', 'quantityReceived': '10', 'ripenessRating': '1'}\n",
      "{'_id': ObjectId('5a7f912ac823acf4249c8e6e'), 'vendorName': 'Kula Product', 'typeOffruit': 'Lemons', 'quantityReceived': '10', 'ripenessRating': '3'}\n",
      "{'_id': ObjectId('5a7f9151c823acf4249c8e6f'), 'vendorName': 'We Work, Inc.', 'typeOffruit': 'Grapefruits', 'quantityReceived': '10', 'ripenessRating': '3'}\n",
      "{'_id': ObjectId('5a7f9162c823acf4249c8e70'), 'vendorName': 'Iris Aguinaldo', 'typeOffruit': 'Lemons', 'quantityReceived': '10', 'ripenessRating': '1'}\n",
      "{'_id': ObjectId('5a7f916ec823acf4249c8e71'), 'vendorName': 'Apples', 'typeOffruit': '10', 'quantityReceived': '3', 'ripenessRating': 'Pilar Roundtree'}\n",
      "{'_id': ObjectId('5a7f93f6c823acf4249c8e72'), 'vendorName': 'Paris Roundtree Delivery', 'typeOffruit': 'Watermelon', 'quantityReceived': '10000', 'ripenessRating': '1'}\n",
      "{'_id': ObjectId('5a7f9412c823acf4249c8e73'), 'vendorName': 'Andie Chang', 'typeOffruit': 'Oranges', 'quantityReceived': '10', 'ripenessRating': '2'}\n",
      "{'_id': ObjectId('5a7f941dc823acf4249c8e74'), 'vendorName': 'Rosa Chang', 'typeOffruit': 'Star Fruit', 'quantityReceived': '100', 'ripenessRating': '1'}\n",
      "{'_id': ObjectId('5a7f96cac823acf4249c8e75'), 'vendorName': 'Richard Aguinaldo', 'typeOffruit': 'Watermelons', 'quantityReceived': '1000000', 'ripenessRating': '3'}\n",
      "{'_id': ObjectId('5a7f96d6c823acf4249c8e76'), 'vendorName': 'Maui Fruit Delivery', 'typeOffruit': 'Oranges', 'quantityReceived': '10', 'ripenessRating': '1'}\n",
      "{'_id': ObjectId('5a7fa302f9c563f8b6ff691f'), 'vendorName': 'Joe Bananan', 'typeOffruit': 'Banana', 'quantityReceived': 10, 'ripenessRating': 3}\n",
      "{'_id': ObjectId('5a7fa302f9c563f8b6ff6920'), 'vendorName': 'Jack Fruits', 'typeOffruit': 'Durian', 'quantityReceived': 100, 'ripenessRating': 3}\n",
      "{'_id': ObjectId('5a7fa302f9c563f8b6ff6921'), 'vendorName': 'Juicy Fruit', 'typeOffruit': 'Oranges', 'quantityReceived': 1000, 'ripenessRating': '1'}\n",
      "{'_id': ObjectId('5a7fa302f9c563f8b6ff6922'), 'vendorName': 'ABC Fruit Supply of Long Beach, Inc.', 'typeOffruit': 'Durian', 'quantityReceived': 200, 'ripenessRating': 3}\n",
      "{'_id': ObjectId('5a7fa329f9c563f8bfb4626b'), 'vendorName': 'Joe Bananan', 'typeOffruit': 'Banana', 'quantityReceived': 10, 'ripenessRating': 3}\n",
      "{'_id': ObjectId('5a7fa32ef9c563f8bfb4626c'), 'vendorName': 'Jack Fruits', 'typeOffruit': 'Durian', 'quantityReceived': 100, 'ripenessRating': 3}\n",
      "{'_id': ObjectId('5a7fa337f9c563f8bfb4626d'), 'vendorName': 'Juicy Fruit', 'typeOffruit': 'Oranges', 'quantityReceived': 1000, 'ripenessRating': '1'}\n",
      "{'_id': ObjectId('5a7fa33df9c563f8bfb4626e'), 'vendorName': 'ABC Fruit Supply of Long Beach, Inc.', 'typeOffruit': 'Durian', 'quantityReceived': 200, 'ripenessRating': 3}\n"
     ]
    }
   ],
   "source": [
    "for each in fruitData:\n",
    "    print(each)"
   ]
  },
  {
   "cell_type": "markdown",
   "metadata": {},
   "source": [
    "***\n",
    "The code below uses a loop that asks the user for input and stores the data into a document within the database.  \n",
    "***"
   ]
  },
  {
   "cell_type": "code",
   "execution_count": null,
   "metadata": {},
   "outputs": [],
   "source": [
    "while(True):\n",
    "    vendorName = input('What is the vendor name?')\n",
    "    typeOffruit = input('What is the type of fruit that you\\'re delivering?')\n",
    "    quantityReceived = input('How many fruits are you delivering?')\n",
    "    ripenessRating = input('What is the ripeness factor?')\n",
    "\n",
    "    post = ({\n",
    "\n",
    "            \"vendorName\": vendorName,\n",
    "            \"typeOffruit\": typeOffruit,\n",
    "            \"quantityReceived\": quantityReceived,\n",
    "            \"ripenessRating\": ripenessRating\n",
    "\n",
    "    })\n",
    "\n",
    "    db.fruits.insert_one(post)"
   ]
  },
  {
   "cell_type": "code",
   "execution_count": 22,
   "metadata": {},
   "outputs": [
    {
     "name": "stdout",
     "output_type": "stream",
     "text": [
      "{'_id': ObjectId('5a7f6926c823acf4249c8e65'), 'vendorName': 'Joe Bananan', 'typeOffruit': 'Banana', 'quantityReceived': 10, 'ripenessRating': 3}\n",
      "{'_id': ObjectId('5a7f6998c823acf4249c8e66'), 'vendorName': 'Jack Fruits', 'typeOffruit': 'Durian', 'quantityReceived': 100, 'ripenessRating': 3}\n",
      "{'_id': ObjectId('5a7f8b8ec823acf4249c8e67'), 'vendorName': 'Juicy Fruit', 'typeOffruit': 'Oranges', 'quantityReceived': 1000, 'ripenessRating': '1'}\n",
      "{'_id': ObjectId('5a7f8c10c823acf4249c8e68'), 'vendorName': 'ABC Fruit Supply of Long Beach, Inc.', 'typeOffruit': 'Durian', 'quantityReceived': 200, 'ripenessRating': 3}\n",
      "{'_id': ObjectId('5a7f8e82c823acf4249c8e69'), 'vendorName': 'Ralphs Fruits', 'typeOffruit': 'Apples', 'quantityReceived': '1000', 'ripenessRating': '2'}\n",
      "{'_id': ObjectId('5a7f8f5bc823acf4249c8e6a'), 'vendorName': 'Grant Aguinaldo Fruit Stand', 'typeOffruit': 'Guava', 'quantityReceived': '100', 'ripenessRating': '2'}\n",
      "{'_id': ObjectId('5a7f8f8cc823acf4249c8e6b'), 'vendorName': 'Grant Aguinaldo', 'typeOffruit': 'Apples', 'quantityReceived': '10', 'ripenessRating': '3'}\n",
      "{'_id': ObjectId('5a7f8fc0c823acf4249c8e6c'), 'vendorName': 'Lora Chang Fruit', 'typeOffruit': \"Guava's\", 'quantityReceived': '10000', 'ripenessRating': '2'}\n",
      "{'_id': ObjectId('5a7f910ac823acf4249c8e6d'), 'vendorName': 'Kelsi Aguinaldo', 'typeOffruit': 'Avocados', 'quantityReceived': '10', 'ripenessRating': '1'}\n",
      "{'_id': ObjectId('5a7f912ac823acf4249c8e6e'), 'vendorName': 'Kula Product', 'typeOffruit': 'Lemons', 'quantityReceived': '10', 'ripenessRating': '3'}\n",
      "{'_id': ObjectId('5a7f9151c823acf4249c8e6f'), 'vendorName': 'We Work, Inc.', 'typeOffruit': 'Grapefruits', 'quantityReceived': '10', 'ripenessRating': '3'}\n",
      "{'_id': ObjectId('5a7f9162c823acf4249c8e70'), 'vendorName': 'Iris Aguinaldo', 'typeOffruit': 'Lemons', 'quantityReceived': '10', 'ripenessRating': '1'}\n",
      "{'_id': ObjectId('5a7f916ec823acf4249c8e71'), 'vendorName': 'Apples', 'typeOffruit': '10', 'quantityReceived': '3', 'ripenessRating': 'Pilar Roundtree'}\n",
      "{'_id': ObjectId('5a7f93f6c823acf4249c8e72'), 'vendorName': 'Paris Roundtree Delivery', 'typeOffruit': 'Watermelon', 'quantityReceived': '10000', 'ripenessRating': '1'}\n",
      "{'_id': ObjectId('5a7f9412c823acf4249c8e73'), 'vendorName': 'Andie Chang', 'typeOffruit': 'Oranges', 'quantityReceived': '10', 'ripenessRating': '2'}\n",
      "{'_id': ObjectId('5a7f941dc823acf4249c8e74'), 'vendorName': 'Rosa Chang', 'typeOffruit': 'Star Fruit', 'quantityReceived': '100', 'ripenessRating': '1'}\n",
      "{'_id': ObjectId('5a7f96cac823acf4249c8e75'), 'vendorName': 'Richard Aguinaldo', 'typeOffruit': 'Watermelons', 'quantityReceived': '1000000', 'ripenessRating': '3'}\n",
      "{'_id': ObjectId('5a7f96d6c823acf4249c8e76'), 'vendorName': 'Maui Fruit Delivery', 'typeOffruit': 'Oranges', 'quantityReceived': '10', 'ripenessRating': '1'}\n",
      "{'_id': ObjectId('5a7fa302f9c563f8b6ff691f'), 'vendorName': 'Joe Bananan', 'typeOffruit': 'Banana', 'quantityReceived': 10, 'ripenessRating': 3}\n",
      "{'_id': ObjectId('5a7fa302f9c563f8b6ff6920'), 'vendorName': 'Jack Fruits', 'typeOffruit': 'Durian', 'quantityReceived': 100, 'ripenessRating': 3}\n",
      "{'_id': ObjectId('5a7fa302f9c563f8b6ff6921'), 'vendorName': 'Juicy Fruit', 'typeOffruit': 'Oranges', 'quantityReceived': 1000, 'ripenessRating': '1'}\n",
      "{'_id': ObjectId('5a7fa302f9c563f8b6ff6922'), 'vendorName': 'ABC Fruit Supply of Long Beach, Inc.', 'typeOffruit': 'Durian', 'quantityReceived': 200, 'ripenessRating': 3}\n",
      "{'_id': ObjectId('5a7fa329f9c563f8bfb4626b'), 'vendorName': 'Joe Bananan', 'typeOffruit': 'Banana', 'quantityReceived': 10, 'ripenessRating': 3}\n",
      "{'_id': ObjectId('5a7fa32ef9c563f8bfb4626c'), 'vendorName': 'Jack Fruits', 'typeOffruit': 'Durian', 'quantityReceived': 100, 'ripenessRating': 3}\n",
      "{'_id': ObjectId('5a7fa337f9c563f8bfb4626d'), 'vendorName': 'Juicy Fruit', 'typeOffruit': 'Oranges', 'quantityReceived': 1000, 'ripenessRating': '1'}\n",
      "{'_id': ObjectId('5a7fa33df9c563f8bfb4626e'), 'vendorName': 'ABC Fruit Supply of Long Beach, Inc.', 'typeOffruit': 'Durian', 'quantityReceived': 200, 'ripenessRating': 3}\n"
     ]
    }
   ],
   "source": [
    "#Inspect all documents of the collection.\n",
    "fruitData = db.fruits.find()\n",
    "for each in fruitData:\n",
    "    print(each)"
   ]
  },
  {
   "cell_type": "markdown",
   "metadata": {},
   "source": [
    "***\n",
    "Ultamelty, one would like to get all of the a data into a Pandas dataframe for analysis. Since `fruitData` is an iterable, you can iterate on the object and populate a Pandas dataframe at the same time. From the looks of it, when the data get sent to a dataframe, all of the entries are stored as strings, and will need to be type casted in order to be used witin calculations.\n",
    "***"
   ]
  },
  {
   "cell_type": "code",
   "execution_count": 23,
   "metadata": {},
   "outputs": [],
   "source": [
    "fruitData = db.fruits.find()\n",
    "\n",
    "#Create empty dataframe.\n",
    "fruit_df = pd.DataFrame()\n",
    "\n",
    "#Set up the for-loop\n",
    "for each in fruitData:\n",
    "    \n",
    "    #During each iteration of the for-loop, send the data into the specified columns as noted below.\n",
    "    fruit_df = fruit_df.append(pd.DataFrame({\n",
    "        'vendor_name': each['vendorName'],\n",
    "        'fruit_type': each['typeOffruit'],\n",
    "        'qty': each['quantityReceived'],\n",
    "        'ripeness_rating': each['ripenessRating']}, \n",
    "        index=[0]), ignore_index=True)"
   ]
  },
  {
   "cell_type": "code",
   "execution_count": 24,
   "metadata": {},
   "outputs": [
    {
     "data": {
      "text/html": [
       "<div>\n",
       "<style>\n",
       "    .dataframe thead tr:only-child th {\n",
       "        text-align: right;\n",
       "    }\n",
       "\n",
       "    .dataframe thead th {\n",
       "        text-align: left;\n",
       "    }\n",
       "\n",
       "    .dataframe tbody tr th {\n",
       "        vertical-align: top;\n",
       "    }\n",
       "</style>\n",
       "<table border=\"1\" class=\"dataframe\">\n",
       "  <thead>\n",
       "    <tr style=\"text-align: right;\">\n",
       "      <th></th>\n",
       "      <th>fruit_type</th>\n",
       "      <th>qty</th>\n",
       "      <th>ripeness_rating</th>\n",
       "      <th>vendor_name</th>\n",
       "    </tr>\n",
       "  </thead>\n",
       "  <tbody>\n",
       "    <tr>\n",
       "      <th>0</th>\n",
       "      <td>Banana</td>\n",
       "      <td>10</td>\n",
       "      <td>3</td>\n",
       "      <td>Joe Bananan</td>\n",
       "    </tr>\n",
       "    <tr>\n",
       "      <th>1</th>\n",
       "      <td>Durian</td>\n",
       "      <td>100</td>\n",
       "      <td>3</td>\n",
       "      <td>Jack Fruits</td>\n",
       "    </tr>\n",
       "    <tr>\n",
       "      <th>2</th>\n",
       "      <td>Oranges</td>\n",
       "      <td>1000</td>\n",
       "      <td>1</td>\n",
       "      <td>Juicy Fruit</td>\n",
       "    </tr>\n",
       "    <tr>\n",
       "      <th>3</th>\n",
       "      <td>Durian</td>\n",
       "      <td>200</td>\n",
       "      <td>3</td>\n",
       "      <td>ABC Fruit Supply of Long Beach, Inc.</td>\n",
       "    </tr>\n",
       "    <tr>\n",
       "      <th>4</th>\n",
       "      <td>Apples</td>\n",
       "      <td>1000</td>\n",
       "      <td>2</td>\n",
       "      <td>Ralphs Fruits</td>\n",
       "    </tr>\n",
       "    <tr>\n",
       "      <th>5</th>\n",
       "      <td>Guava</td>\n",
       "      <td>100</td>\n",
       "      <td>2</td>\n",
       "      <td>Grant Aguinaldo Fruit Stand</td>\n",
       "    </tr>\n",
       "    <tr>\n",
       "      <th>6</th>\n",
       "      <td>Apples</td>\n",
       "      <td>10</td>\n",
       "      <td>3</td>\n",
       "      <td>Grant Aguinaldo</td>\n",
       "    </tr>\n",
       "    <tr>\n",
       "      <th>7</th>\n",
       "      <td>Guava's</td>\n",
       "      <td>10000</td>\n",
       "      <td>2</td>\n",
       "      <td>Lora Chang Fruit</td>\n",
       "    </tr>\n",
       "    <tr>\n",
       "      <th>8</th>\n",
       "      <td>Avocados</td>\n",
       "      <td>10</td>\n",
       "      <td>1</td>\n",
       "      <td>Kelsi Aguinaldo</td>\n",
       "    </tr>\n",
       "    <tr>\n",
       "      <th>9</th>\n",
       "      <td>Lemons</td>\n",
       "      <td>10</td>\n",
       "      <td>3</td>\n",
       "      <td>Kula Product</td>\n",
       "    </tr>\n",
       "    <tr>\n",
       "      <th>10</th>\n",
       "      <td>Grapefruits</td>\n",
       "      <td>10</td>\n",
       "      <td>3</td>\n",
       "      <td>We Work, Inc.</td>\n",
       "    </tr>\n",
       "    <tr>\n",
       "      <th>11</th>\n",
       "      <td>Lemons</td>\n",
       "      <td>10</td>\n",
       "      <td>1</td>\n",
       "      <td>Iris Aguinaldo</td>\n",
       "    </tr>\n",
       "    <tr>\n",
       "      <th>12</th>\n",
       "      <td>10</td>\n",
       "      <td>3</td>\n",
       "      <td>Pilar Roundtree</td>\n",
       "      <td>Apples</td>\n",
       "    </tr>\n",
       "    <tr>\n",
       "      <th>13</th>\n",
       "      <td>Watermelon</td>\n",
       "      <td>10000</td>\n",
       "      <td>1</td>\n",
       "      <td>Paris Roundtree Delivery</td>\n",
       "    </tr>\n",
       "    <tr>\n",
       "      <th>14</th>\n",
       "      <td>Oranges</td>\n",
       "      <td>10</td>\n",
       "      <td>2</td>\n",
       "      <td>Andie Chang</td>\n",
       "    </tr>\n",
       "    <tr>\n",
       "      <th>15</th>\n",
       "      <td>Star Fruit</td>\n",
       "      <td>100</td>\n",
       "      <td>1</td>\n",
       "      <td>Rosa Chang</td>\n",
       "    </tr>\n",
       "    <tr>\n",
       "      <th>16</th>\n",
       "      <td>Watermelons</td>\n",
       "      <td>1000000</td>\n",
       "      <td>3</td>\n",
       "      <td>Richard Aguinaldo</td>\n",
       "    </tr>\n",
       "    <tr>\n",
       "      <th>17</th>\n",
       "      <td>Oranges</td>\n",
       "      <td>10</td>\n",
       "      <td>1</td>\n",
       "      <td>Maui Fruit Delivery</td>\n",
       "    </tr>\n",
       "    <tr>\n",
       "      <th>18</th>\n",
       "      <td>Banana</td>\n",
       "      <td>10</td>\n",
       "      <td>3</td>\n",
       "      <td>Joe Bananan</td>\n",
       "    </tr>\n",
       "    <tr>\n",
       "      <th>19</th>\n",
       "      <td>Durian</td>\n",
       "      <td>100</td>\n",
       "      <td>3</td>\n",
       "      <td>Jack Fruits</td>\n",
       "    </tr>\n",
       "    <tr>\n",
       "      <th>20</th>\n",
       "      <td>Oranges</td>\n",
       "      <td>1000</td>\n",
       "      <td>1</td>\n",
       "      <td>Juicy Fruit</td>\n",
       "    </tr>\n",
       "    <tr>\n",
       "      <th>21</th>\n",
       "      <td>Durian</td>\n",
       "      <td>200</td>\n",
       "      <td>3</td>\n",
       "      <td>ABC Fruit Supply of Long Beach, Inc.</td>\n",
       "    </tr>\n",
       "    <tr>\n",
       "      <th>22</th>\n",
       "      <td>Banana</td>\n",
       "      <td>10</td>\n",
       "      <td>3</td>\n",
       "      <td>Joe Bananan</td>\n",
       "    </tr>\n",
       "    <tr>\n",
       "      <th>23</th>\n",
       "      <td>Durian</td>\n",
       "      <td>100</td>\n",
       "      <td>3</td>\n",
       "      <td>Jack Fruits</td>\n",
       "    </tr>\n",
       "    <tr>\n",
       "      <th>24</th>\n",
       "      <td>Oranges</td>\n",
       "      <td>1000</td>\n",
       "      <td>1</td>\n",
       "      <td>Juicy Fruit</td>\n",
       "    </tr>\n",
       "    <tr>\n",
       "      <th>25</th>\n",
       "      <td>Durian</td>\n",
       "      <td>200</td>\n",
       "      <td>3</td>\n",
       "      <td>ABC Fruit Supply of Long Beach, Inc.</td>\n",
       "    </tr>\n",
       "  </tbody>\n",
       "</table>\n",
       "</div>"
      ],
      "text/plain": [
       "     fruit_type      qty  ripeness_rating  \\\n",
       "0        Banana       10                3   \n",
       "1        Durian      100                3   \n",
       "2       Oranges     1000                1   \n",
       "3        Durian      200                3   \n",
       "4        Apples     1000                2   \n",
       "5         Guava      100                2   \n",
       "6        Apples       10                3   \n",
       "7       Guava's    10000                2   \n",
       "8      Avocados       10                1   \n",
       "9        Lemons       10                3   \n",
       "10  Grapefruits       10                3   \n",
       "11       Lemons       10                1   \n",
       "12           10        3  Pilar Roundtree   \n",
       "13   Watermelon    10000                1   \n",
       "14      Oranges       10                2   \n",
       "15   Star Fruit      100                1   \n",
       "16  Watermelons  1000000                3   \n",
       "17      Oranges       10                1   \n",
       "18       Banana       10                3   \n",
       "19       Durian      100                3   \n",
       "20      Oranges     1000                1   \n",
       "21       Durian      200                3   \n",
       "22       Banana       10                3   \n",
       "23       Durian      100                3   \n",
       "24      Oranges     1000                1   \n",
       "25       Durian      200                3   \n",
       "\n",
       "                             vendor_name  \n",
       "0                            Joe Bananan  \n",
       "1                            Jack Fruits  \n",
       "2                            Juicy Fruit  \n",
       "3   ABC Fruit Supply of Long Beach, Inc.  \n",
       "4                          Ralphs Fruits  \n",
       "5            Grant Aguinaldo Fruit Stand  \n",
       "6                        Grant Aguinaldo  \n",
       "7                       Lora Chang Fruit  \n",
       "8                        Kelsi Aguinaldo  \n",
       "9                           Kula Product  \n",
       "10                         We Work, Inc.  \n",
       "11                        Iris Aguinaldo  \n",
       "12                                Apples  \n",
       "13              Paris Roundtree Delivery  \n",
       "14                           Andie Chang  \n",
       "15                            Rosa Chang  \n",
       "16                     Richard Aguinaldo  \n",
       "17                   Maui Fruit Delivery  \n",
       "18                           Joe Bananan  \n",
       "19                           Jack Fruits  \n",
       "20                           Juicy Fruit  \n",
       "21  ABC Fruit Supply of Long Beach, Inc.  \n",
       "22                           Joe Bananan  \n",
       "23                           Jack Fruits  \n",
       "24                           Juicy Fruit  \n",
       "25  ABC Fruit Supply of Long Beach, Inc.  "
      ]
     },
     "execution_count": 24,
     "metadata": {},
     "output_type": "execute_result"
    }
   ],
   "source": [
    "#Inspect head of the new dataframe.\n",
    "fruit_df"
   ]
  },
  {
   "cell_type": "markdown",
   "metadata": {},
   "source": [
    "***\n",
    "#### How to add a database and a collection using pymongo.\n",
    "\n",
    "Per Stackoverflow:\n",
    ">neither the database nor the collection are created until you attempt to write a document. [source](https://stackoverflow.com/questions/8566618/how-do-i-create-a-new-database-in-mongodb-using-pymongo)\n",
    "***"
   ]
  },
  {
   "cell_type": "code",
   "execution_count": 25,
   "metadata": {
    "collapsed": true
   },
   "outputs": [],
   "source": [
    "import pymongo\n",
    "import pandas as pd\n",
    "conn = 'mongodb://localhost:27017'\n",
    "client = pymongo.MongoClient(conn)\n",
    "\n",
    "#This is a new database that was made from within PyMongo and not from Compass.\n",
    "db = client.enveraconsulting_db"
   ]
  },
  {
   "cell_type": "code",
   "execution_count": 26,
   "metadata": {},
   "outputs": [
    {
     "data": {
      "text/plain": [
       "<pymongo.results.InsertOneResult at 0x10d184dc8>"
      ]
     },
     "execution_count": 26,
     "metadata": {},
     "output_type": "execute_result"
    }
   ],
   "source": [
    "db.ruleAnalysis.insert_one({\n",
    "    \n",
    "    'Equipment': 'Thermal Oxidizer',\n",
    "    'Rule_1147':1,\n",
    "    'Rule_1110_2': 0,\n",
    "    'Rule_301': 1\n",
    "    \n",
    "})"
   ]
  },
  {
   "cell_type": "code",
   "execution_count": 27,
   "metadata": {
    "collapsed": true
   },
   "outputs": [],
   "source": [
    "data = db.ruleAnalysis.find()"
   ]
  },
  {
   "cell_type": "code",
   "execution_count": 28,
   "metadata": {},
   "outputs": [
    {
     "name": "stdout",
     "output_type": "stream",
     "text": [
      "{'_id': ObjectId('5a7fa562f9c563f8bfb46270'), 'Equipment': 'Thermal Oxidizer', 'Rule_1147': 1, 'Rule_1110_2': 0, 'Rule_301': 1}\n"
     ]
    }
   ],
   "source": [
    "for each in data:\n",
    "    print(each)"
   ]
  }
 ],
 "metadata": {
  "kernelspec": {
   "display_name": "Python 3",
   "language": "python",
   "name": "python3"
  },
  "language_info": {
   "codemirror_mode": {
    "name": "ipython",
    "version": 3
   },
   "file_extension": ".py",
   "mimetype": "text/x-python",
   "name": "python",
   "nbconvert_exporter": "python",
   "pygments_lexer": "ipython3",
   "version": "3.6.3"
  }
 },
 "nbformat": 4,
 "nbformat_minor": 2
}

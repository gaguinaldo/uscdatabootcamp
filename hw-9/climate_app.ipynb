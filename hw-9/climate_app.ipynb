{
 "cells": [
  {
   "cell_type": "markdown",
   "metadata": {},
   "source": [
    "## Step 4 - Climate App\n",
    "\n",
    "Now that you have completed your initial analysis, design a Flask api based on the queries that you have just developed.\n",
    "\n",
    "* Use FLASK to create your routes.\n",
    "\n",
    "### Routes\n",
    "\n",
    "* `/api/v1.0/precipitation`\n",
    "\n",
    "  * Query for the dates and temperature observations from the last year.\n",
    "\n",
    "  * Convert the query results to a Dictionary using `date` as the key and `tobs` as the value.\n",
    "\n",
    "  * Return the json representation of your dictionary.\n",
    "\n",
    "* `/api/v1.0/stations`\n",
    "\n",
    "  * Return a json list of stations from the dataset.\n",
    "\n",
    "* `/api/v1.0/tobs`\n",
    "\n",
    "  * Return a json list of Temperature Observations (tobs) for the previous year\n",
    "\n",
    "* `/api/v1.0/<start>` and `/api/v1.0/<start>/<end>`\n",
    "\n",
    "  * Return a json list of the minimum temperature, the average temperature, and the max temperature for a given start or start-end range.\n",
    "\n",
    "  * When given the start only, calculate `TMIN`, `TAVG`, and `TMAX` for all dates greater than and equal to the start date.\n",
    "\n",
    "  * When given the start and the end date, calculate the `TMIN`, `TAVG`, and `TMAX` for dates between the start and end date inclusive.\n",
    "\n",
    "## Hints\n",
    "\n",
    "* You will need to join the station and measurement tables for some of the analysis queries.\n",
    "\n",
    "* Use Flask `jsonify` to convert your api data into a valid json response object."
   ]
  },
  {
   "cell_type": "code",
   "execution_count": null,
   "metadata": {
    "collapsed": true
   },
   "outputs": [],
   "source": []
  }
 ],
 "metadata": {
  "kernelspec": {
   "display_name": "Python 3",
   "language": "python",
   "name": "python3"
  },
  "language_info": {
   "codemirror_mode": {
    "name": "ipython",
    "version": 3
   },
   "file_extension": ".py",
   "mimetype": "text/x-python",
   "name": "python",
   "nbconvert_exporter": "python",
   "pygments_lexer": "ipython3",
   "version": "3.6.3"
  }
 },
 "nbformat": 4,
 "nbformat_minor": 2
}

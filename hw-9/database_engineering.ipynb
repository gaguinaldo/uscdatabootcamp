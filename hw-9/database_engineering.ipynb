{
 "cells": [
  {
   "cell_type": "markdown",
   "metadata": {},
   "source": [
    "## Step 2 - Database Engineering\n",
    "\n",
    "Use SQLAlchemy to model your table schemas and create a sqlite database for your tables. You will need one table for measurements and one for stations.\n",
    "\n",
    "* Create a Jupyter Notebook called `database_engineering.ipynb` and use this to complete all of your Database Engineering work.\n",
    "\n",
    "* Use Pandas to read your cleaned measurements and stations CSV data.\n",
    "\n",
    "* Use the `engine` and connection string to create a database called `hawaii.sqlite`.\n",
    "\n",
    "* Use `declarative_base` and create ORM classes for each table.\n",
    "\n",
    "  * You will need a class for `Measurement` and for `Station`.\n",
    "\n",
    "  * Make sure to define your primary keys.\n",
    "\n",
    "* Once you have your ORM classes defined, create the tables in the database using `create_all`.\n",
    "\n",
    "---"
   ]
  },
  {
   "cell_type": "code",
   "execution_count": 2,
   "metadata": {},
   "outputs": [
    {
     "name": "stdout",
     "output_type": "stream",
     "text": [
      "rm: hawaii.sqlite: No such file or directory\r\n"
     ]
    }
   ],
   "source": [
    "!rm hawaii.sqlite"
   ]
  },
  {
   "cell_type": "code",
   "execution_count": 3,
   "metadata": {
    "collapsed": true
   },
   "outputs": [],
   "source": [
    "import sqlalchemy\n",
    "import pandas as pd\n",
    "from sqlalchemy import create_engine, MetaData\n",
    "from sqlalchemy.ext.declarative import declarative_base\n",
    "from sqlalchemy import Column, Integer, String, Numeric, Text, Float"
   ]
  },
  {
   "cell_type": "code",
   "execution_count": 4,
   "metadata": {
    "collapsed": true
   },
   "outputs": [],
   "source": [
    "engine = create_engine(\"sqlite:///hawaii.sqlite\")"
   ]
  },
  {
   "cell_type": "code",
   "execution_count": 5,
   "metadata": {
    "collapsed": true
   },
   "outputs": [],
   "source": [
    "conn = engine.connect()"
   ]
  },
  {
   "cell_type": "code",
   "execution_count": 6,
   "metadata": {
    "collapsed": true
   },
   "outputs": [],
   "source": [
    "Base = declarative_base()"
   ]
  },
  {
   "cell_type": "code",
   "execution_count": 7,
   "metadata": {},
   "outputs": [],
   "source": [
    "class Data(Base):\n",
    "    __tablename__ = 'hawaii_data'\n",
    "    id = Column(Integer, primary_key=True)\n",
    "    station = Column(String)\n",
    "    name = Column(String)\n",
    "    latitude = Column(Float)\n",
    "    longitude = Column(Float)\n",
    "    elevation = Column(Integer)\n",
    "    date = Column(String)\n",
    "    prcp = Column(Float)\n",
    "    tobs = Column(Integer)\n",
    "    month = Column(Integer)\n",
    "    day = Column(Integer)\n",
    "    year = Column(Integer)\n",
    "    \n",
    "    def __repr__(self):\n",
    "        return f\"id={self.id}, name={self.name}\""
   ]
  },
  {
   "cell_type": "code",
   "execution_count": 8,
   "metadata": {
    "collapsed": true
   },
   "outputs": [],
   "source": [
    "Base.metadata.create_all(engine)"
   ]
  },
  {
   "cell_type": "code",
   "execution_count": 9,
   "metadata": {},
   "outputs": [],
   "source": [
    "data = pd.read_csv('data.csv')"
   ]
  },
  {
   "cell_type": "code",
   "execution_count": 10,
   "metadata": {},
   "outputs": [
    {
     "data": {
      "text/html": [
       "<div>\n",
       "<style>\n",
       "    .dataframe thead tr:only-child th {\n",
       "        text-align: right;\n",
       "    }\n",
       "\n",
       "    .dataframe thead th {\n",
       "        text-align: left;\n",
       "    }\n",
       "\n",
       "    .dataframe tbody tr th {\n",
       "        vertical-align: top;\n",
       "    }\n",
       "</style>\n",
       "<table border=\"1\" class=\"dataframe\">\n",
       "  <thead>\n",
       "    <tr style=\"text-align: right;\">\n",
       "      <th></th>\n",
       "      <th>station</th>\n",
       "      <th>name</th>\n",
       "      <th>latitude</th>\n",
       "      <th>longitude</th>\n",
       "      <th>elevation</th>\n",
       "      <th>date</th>\n",
       "      <th>prcp</th>\n",
       "      <th>tobs</th>\n",
       "      <th>month</th>\n",
       "      <th>day</th>\n",
       "      <th>year</th>\n",
       "    </tr>\n",
       "  </thead>\n",
       "  <tbody>\n",
       "    <tr>\n",
       "      <th>0</th>\n",
       "      <td>USC00519397</td>\n",
       "      <td>WAIKIKI 717.2, HI US</td>\n",
       "      <td>21.2716</td>\n",
       "      <td>-157.8168</td>\n",
       "      <td>3.0</td>\n",
       "      <td>1/1/10</td>\n",
       "      <td>0.080000</td>\n",
       "      <td>65</td>\n",
       "      <td>1</td>\n",
       "      <td>1</td>\n",
       "      <td>2010</td>\n",
       "    </tr>\n",
       "    <tr>\n",
       "      <th>1</th>\n",
       "      <td>USC00519397</td>\n",
       "      <td>WAIKIKI 717.2, HI US</td>\n",
       "      <td>21.2716</td>\n",
       "      <td>-157.8168</td>\n",
       "      <td>3.0</td>\n",
       "      <td>1/2/10</td>\n",
       "      <td>0.000000</td>\n",
       "      <td>63</td>\n",
       "      <td>1</td>\n",
       "      <td>2</td>\n",
       "      <td>2010</td>\n",
       "    </tr>\n",
       "    <tr>\n",
       "      <th>2</th>\n",
       "      <td>USC00519397</td>\n",
       "      <td>WAIKIKI 717.2, HI US</td>\n",
       "      <td>21.2716</td>\n",
       "      <td>-157.8168</td>\n",
       "      <td>3.0</td>\n",
       "      <td>1/3/10</td>\n",
       "      <td>0.000000</td>\n",
       "      <td>74</td>\n",
       "      <td>1</td>\n",
       "      <td>3</td>\n",
       "      <td>2010</td>\n",
       "    </tr>\n",
       "    <tr>\n",
       "      <th>3</th>\n",
       "      <td>USC00519397</td>\n",
       "      <td>WAIKIKI 717.2, HI US</td>\n",
       "      <td>21.2716</td>\n",
       "      <td>-157.8168</td>\n",
       "      <td>3.0</td>\n",
       "      <td>1/4/10</td>\n",
       "      <td>0.000000</td>\n",
       "      <td>76</td>\n",
       "      <td>1</td>\n",
       "      <td>4</td>\n",
       "      <td>2010</td>\n",
       "    </tr>\n",
       "    <tr>\n",
       "      <th>4</th>\n",
       "      <td>USC00519397</td>\n",
       "      <td>WAIKIKI 717.2, HI US</td>\n",
       "      <td>21.2716</td>\n",
       "      <td>-157.8168</td>\n",
       "      <td>3.0</td>\n",
       "      <td>1/6/10</td>\n",
       "      <td>0.040086</td>\n",
       "      <td>73</td>\n",
       "      <td>1</td>\n",
       "      <td>6</td>\n",
       "      <td>2010</td>\n",
       "    </tr>\n",
       "  </tbody>\n",
       "</table>\n",
       "</div>"
      ],
      "text/plain": [
       "       station                  name  latitude  longitude  elevation    date  \\\n",
       "0  USC00519397  WAIKIKI 717.2, HI US   21.2716  -157.8168        3.0  1/1/10   \n",
       "1  USC00519397  WAIKIKI 717.2, HI US   21.2716  -157.8168        3.0  1/2/10   \n",
       "2  USC00519397  WAIKIKI 717.2, HI US   21.2716  -157.8168        3.0  1/3/10   \n",
       "3  USC00519397  WAIKIKI 717.2, HI US   21.2716  -157.8168        3.0  1/4/10   \n",
       "4  USC00519397  WAIKIKI 717.2, HI US   21.2716  -157.8168        3.0  1/6/10   \n",
       "\n",
       "       prcp  tobs  month  day  year  \n",
       "0  0.080000    65      1    1  2010  \n",
       "1  0.000000    63      1    2  2010  \n",
       "2  0.000000    74      1    3  2010  \n",
       "3  0.000000    76      1    4  2010  \n",
       "4  0.040086    73      1    6  2010  "
      ]
     },
     "execution_count": 10,
     "metadata": {},
     "output_type": "execute_result"
    }
   ],
   "source": [
    "data.head()"
   ]
  },
  {
   "cell_type": "code",
   "execution_count": 11,
   "metadata": {
    "collapsed": true
   },
   "outputs": [],
   "source": [
    "data_dict = data.to_dict(orient='records')"
   ]
  },
  {
   "cell_type": "code",
   "execution_count": 12,
   "metadata": {},
   "outputs": [
    {
     "data": {
      "text/plain": [
       "[{'date': '1/1/10',\n",
       "  'day': 1,\n",
       "  'elevation': 3.0,\n",
       "  'latitude': 21.2716,\n",
       "  'longitude': -157.8168,\n",
       "  'month': 1,\n",
       "  'name': 'WAIKIKI 717.2, HI US',\n",
       "  'prcp': 0.08,\n",
       "  'station': 'USC00519397',\n",
       "  'tobs': 65,\n",
       "  'year': 2010},\n",
       " {'date': '1/2/10',\n",
       "  'day': 2,\n",
       "  'elevation': 3.0,\n",
       "  'latitude': 21.2716,\n",
       "  'longitude': -157.8168,\n",
       "  'month': 1,\n",
       "  'name': 'WAIKIKI 717.2, HI US',\n",
       "  'prcp': 0.0,\n",
       "  'station': 'USC00519397',\n",
       "  'tobs': 63,\n",
       "  'year': 2010},\n",
       " {'date': '1/3/10',\n",
       "  'day': 3,\n",
       "  'elevation': 3.0,\n",
       "  'latitude': 21.2716,\n",
       "  'longitude': -157.8168,\n",
       "  'month': 1,\n",
       "  'name': 'WAIKIKI 717.2, HI US',\n",
       "  'prcp': 0.0,\n",
       "  'station': 'USC00519397',\n",
       "  'tobs': 74,\n",
       "  'year': 2010},\n",
       " {'date': '1/4/10',\n",
       "  'day': 4,\n",
       "  'elevation': 3.0,\n",
       "  'latitude': 21.2716,\n",
       "  'longitude': -157.8168,\n",
       "  'month': 1,\n",
       "  'name': 'WAIKIKI 717.2, HI US',\n",
       "  'prcp': 0.0,\n",
       "  'station': 'USC00519397',\n",
       "  'tobs': 76,\n",
       "  'year': 2010},\n",
       " {'date': '1/6/10',\n",
       "  'day': 6,\n",
       "  'elevation': 3.0,\n",
       "  'latitude': 21.2716,\n",
       "  'longitude': -157.8168,\n",
       "  'month': 1,\n",
       "  'name': 'WAIKIKI 717.2, HI US',\n",
       "  'prcp': 0.040085837,\n",
       "  'station': 'USC00519397',\n",
       "  'tobs': 73,\n",
       "  'year': 2010}]"
      ]
     },
     "execution_count": 12,
     "metadata": {},
     "output_type": "execute_result"
    }
   ],
   "source": [
    "data_dict[:5]"
   ]
  },
  {
   "cell_type": "code",
   "execution_count": 13,
   "metadata": {
    "collapsed": true
   },
   "outputs": [],
   "source": [
    "metadata = MetaData(bind = engine)\n",
    "metadata.reflect()"
   ]
  },
  {
   "cell_type": "code",
   "execution_count": 14,
   "metadata": {},
   "outputs": [],
   "source": [
    "table = sqlalchemy.Table('hawaii_data', metadata, autoload=True) "
   ]
  },
  {
   "cell_type": "code",
   "execution_count": 15,
   "metadata": {},
   "outputs": [
    {
     "data": {
      "text/plain": [
       "<sqlalchemy.engine.result.ResultProxy at 0x10c30f470>"
      ]
     },
     "execution_count": 15,
     "metadata": {},
     "output_type": "execute_result"
    }
   ],
   "source": [
    "conn.execute(table.delete())"
   ]
  },
  {
   "cell_type": "code",
   "execution_count": 16,
   "metadata": {},
   "outputs": [
    {
     "data": {
      "text/plain": [
       "<sqlalchemy.engine.result.ResultProxy at 0x10c76b3c8>"
      ]
     },
     "execution_count": 16,
     "metadata": {},
     "output_type": "execute_result"
    }
   ],
   "source": [
    "conn.execute(table.insert(), data_dict)"
   ]
  },
  {
   "cell_type": "code",
   "execution_count": 17,
   "metadata": {},
   "outputs": [
    {
     "data": {
      "text/plain": [
       "[(1, 'USC00519397', 'WAIKIKI 717.2, HI US', 21.2716, -157.8168, 3, '1/1/10', 0.08, 65, 1, 1, 2010),\n",
       " (2, 'USC00519397', 'WAIKIKI 717.2, HI US', 21.2716, -157.8168, 3, '1/2/10', 0.0, 63, 1, 2, 2010),\n",
       " (3, 'USC00519397', 'WAIKIKI 717.2, HI US', 21.2716, -157.8168, 3, '1/3/10', 0.0, 74, 1, 3, 2010),\n",
       " (4, 'USC00519397', 'WAIKIKI 717.2, HI US', 21.2716, -157.8168, 3, '1/4/10', 0.0, 76, 1, 4, 2010),\n",
       " (5, 'USC00519397', 'WAIKIKI 717.2, HI US', 21.2716, -157.8168, 3, '1/6/10', 0.040085837, 73, 1, 6, 2010),\n",
       " (6, 'USC00519397', 'WAIKIKI 717.2, HI US', 21.2716, -157.8168, 3, '1/7/10', 0.06, 70, 1, 7, 2010),\n",
       " (7, 'USC00519397', 'WAIKIKI 717.2, HI US', 21.2716, -157.8168, 3, '1/8/10', 0.0, 64, 1, 8, 2010),\n",
       " (8, 'USC00519397', 'WAIKIKI 717.2, HI US', 21.2716, -157.8168, 3, '1/9/10', 0.0, 68, 1, 9, 2010),\n",
       " (9, 'USC00519397', 'WAIKIKI 717.2, HI US', 21.2716, -157.8168, 3, '1/10/10', 0.0, 73, 1, 10, 2010),\n",
       " (10, 'USC00519397', 'WAIKIKI 717.2, HI US', 21.2716, -157.8168, 3, '1/11/10', 0.01, 64, 1, 11, 2010),\n",
       " (11, 'USC00519397', 'WAIKIKI 717.2, HI US', 21.2716, -157.8168, 3, '1/12/10', 0.0, 61, 1, 12, 2010),\n",
       " (12, 'USC00519397', 'WAIKIKI 717.2, HI US', 21.2716, -157.8168, 3, '1/14/10', 0.0, 66, 1, 14, 2010),\n",
       " (13, 'USC00519397', 'WAIKIKI 717.2, HI US', 21.2716, -157.8168, 3, '1/15/10', 0.0, 65, 1, 15, 2010),\n",
       " (14, 'USC00519397', 'WAIKIKI 717.2, HI US', 21.2716, -157.8168, 3, '1/16/10', 0.0, 68, 1, 16, 2010),\n",
       " (15, 'USC00519397', 'WAIKIKI 717.2, HI US', 21.2716, -157.8168, 3, '1/17/10', 0.0, 64, 1, 17, 2010),\n",
       " (16, 'USC00519397', 'WAIKIKI 717.2, HI US', 21.2716, -157.8168, 3, '1/18/10', 0.0, 72, 1, 18, 2010),\n",
       " (17, 'USC00519397', 'WAIKIKI 717.2, HI US', 21.2716, -157.8168, 3, '1/19/10', 0.0, 66, 1, 19, 2010),\n",
       " (18, 'USC00519397', 'WAIKIKI 717.2, HI US', 21.2716, -157.8168, 3, '1/20/10', 0.0, 66, 1, 20, 2010),\n",
       " (19, 'USC00519397', 'WAIKIKI 717.2, HI US', 21.2716, -157.8168, 3, '1/21/10', 0.0, 69, 1, 21, 2010),\n",
       " (20, 'USC00519397', 'WAIKIKI 717.2, HI US', 21.2716, -157.8168, 3, '1/22/10', 0.0, 67, 1, 22, 2010)]"
      ]
     },
     "execution_count": 17,
     "metadata": {},
     "output_type": "execute_result"
    }
   ],
   "source": [
    "conn.execute(\"select * from hawaii_data limit 20\").fetchall()"
   ]
  },
  {
   "cell_type": "code",
   "execution_count": null,
   "metadata": {
    "collapsed": true
   },
   "outputs": [],
   "source": []
  }
 ],
 "metadata": {
  "kernelspec": {
   "display_name": "Python 3",
   "language": "python",
   "name": "python3"
  },
  "language_info": {
   "codemirror_mode": {
    "name": "ipython",
    "version": 3
   },
   "file_extension": ".py",
   "mimetype": "text/x-python",
   "name": "python",
   "nbconvert_exporter": "python",
   "pygments_lexer": "ipython3",
   "version": "3.6.3"
  }
 },
 "nbformat": 4,
 "nbformat_minor": 2
}
